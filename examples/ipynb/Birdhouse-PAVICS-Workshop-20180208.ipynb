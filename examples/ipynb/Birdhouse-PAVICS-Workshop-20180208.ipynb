{
 "cells": [
  {
   "cell_type": "code",
   "execution_count": null,
   "metadata": {},
   "outputs": [],
   "source": [
    "import sys\n",
    "import os\n",
    "sys.path.append(os.path.expanduser('~/l/ocgis/src'))\n",
    "sys.path.append(os.path.expanduser('~/l/esmf/src/addon/ESMPy/src'))\n",
    "import ocgis\n",
    "assert(ocgis.__release__ == '2.1.0.dev1')"
   ]
  },
  {
   "cell_type": "markdown",
   "metadata": {},
   "source": [
    "Configure some environment variables to point to the head directory containing climate data files used in the demo as well as the output directory."
   ]
  },
  {
   "cell_type": "code",
   "execution_count": null,
   "metadata": {},
   "outputs": [],
   "source": [
    "import tempfile\n",
    "ocgis.env.DIR_DATA = os.path.expanduser('~/l/data/ocgis_test_data/CanCM4')\n",
    "ocgis.env.DIR_OUTPUT = tempfile.mkdtemp()\n",
    "print(ocgis.env.DIR_OUTPUT)"
   ]
  },
  {
   "cell_type": "markdown",
   "metadata": {},
   "source": [
    "Inspect a target file's metadata."
   ]
  },
  {
   "cell_type": "code",
   "execution_count": null,
   "metadata": {},
   "outputs": [],
   "source": [
    "uri = 'tas_day_CanCM4_decadal2000_r2i1p1_20010101-20101231.nc'\n",
    "variable = 'tas'\n",
    "rd = ocgis.RequestDataset(uri=uri, variable=variable)\n",
    "rd.inspect()"
   ]
  },
  {
   "cell_type": "markdown",
   "metadata": {},
   "source": [
    "The dimension map defines how metadata is interpreted. This can be customized to deal with non-conforming data or special use cases."
   ]
  },
  {
   "cell_type": "code",
   "execution_count": null,
   "metadata": {},
   "outputs": [],
   "source": [
    "rd.dimension_map.pprint()"
   ]
  },
  {
   "cell_type": "markdown",
   "metadata": {},
   "source": [
    "For unstructured data, it is possible to hold multiple geometric abstractions in the dimension map each defining their own metadata interpretation."
   ]
  },
  {
   "cell_type": "code",
   "execution_count": null,
   "metadata": {},
   "outputs": [],
   "source": [
    "path = os.path.expanduser('~/l/i49-ugrid-cesm/UGRID_1km-merge-10min_HYDRO1K-merge-nomask_c130402.nc')\n",
    "ocgis.RequestDataset(path, driver='netcdf-ugrid').dimension_map.pprint(as_dict=True)"
   ]
  },
  {
   "cell_type": "markdown",
   "metadata": {},
   "source": [
    "Subset a target file by the boundary of California using an intersects GIS operation (the default), and write the data to an ESRI Shapefile. Select the first time coordinate only. If scripted, it may be executed with `mpirun` or equivalent for a parallel run."
   ]
  },
  {
   "cell_type": "code",
   "execution_count": null,
   "metadata": {},
   "outputs": [],
   "source": [
    "geom = os.path.expanduser('~/l/shp/state_boundaries/state_boundaries.shp')\n",
    "ops = ocgis.OcgOperations(dataset=rd, geom=geom, geom_select_uid=[25], output_format='shp', prefix='ca', \n",
    "                          snippet=True)\n",
    "ca_shp = ops.execute()\n",
    "print(ca_shp)"
   ]
  },
  {
   "cell_type": "markdown",
   "metadata": {},
   "source": [
    " Also write the model grid to shapefile."
   ]
  },
  {
   "cell_type": "code",
   "execution_count": null,
   "metadata": {},
   "outputs": [],
   "source": [
    "ops = ocgis.OcgOperations(dataset=rd, output_format='shp', snippet=True, prefix='grid', vector_wrap=True)\n",
    "ca_grid = ops.execute()\n",
    "print(ca_grid)"
   ]
  },
  {
   "cell_type": "markdown",
   "metadata": {},
   "source": [
    "As a brief aside, data \"payloads\" or only loaded when needed. For example, in this CA subset, there are no data variable values loaded until they are requested for conversion or calculations."
   ]
  },
  {
   "cell_type": "code",
   "execution_count": null,
   "metadata": {},
   "outputs": [],
   "source": [
    "from shapely.geometry import box\n",
    "\n",
    "field = rd.create_field()\n",
    "assert(field.data_variables[0]._value is None)\n",
    "xdim = field.x.dimensions[0]\n",
    "print(xdim._src_idx)\n",
    "\n",
    "subfield = field.grid.get_intersects(box(*[40, 20, 50, 30]), optimized_bbox_subset=True).parent\n",
    "assert(subfield.data_variables[0]._value is None)\n",
    "print(subfield.x.dimensions[0]._src_idx)"
   ]
  },
  {
   "cell_type": "markdown",
   "metadata": {},
   "source": [
    "Perform a difference calulation between two variables using a string function. Inspect the metadata of the output NetCDF file."
   ]
  },
  {
   "cell_type": "code",
   "execution_count": null,
   "metadata": {},
   "outputs": [],
   "source": [
    "rd1 = ocgis.RequestDataset(uri='tasmax_day_CanCM4_decadal2000_r2i1p1_20010101-20101231.nc',\n",
    "                           variable='tasmax')\n",
    "rd2 = ocgis.RequestDataset(uri='tasmin_day_CanCM4_decadal2000_r2i1p1_20010101-20101231.nc',\n",
    "                           variable='tasmin')\n",
    "calc = 'diff=tasmax-tasmin'\n",
    "ops = ocgis.OcgOperations(dataset=[rd1, rd2], calc=calc, output_format='nc', geom='state_boundaries',\n",
    "                          select_ugid=[25], prefix='diff')\n",
    "ret = ops.execute()\n",
    "ocgis.RequestDataset(ret).inspect()"
   ]
  },
  {
   "cell_type": "markdown",
   "metadata": {},
   "source": [
    "Calculate a sequence of statistics to produce a July time series conforming the target units from Kelvin to Celsius. Perform the calculations on the spatially averaged data for California."
   ]
  },
  {
   "cell_type": "code",
   "execution_count": null,
   "metadata": {},
   "outputs": [],
   "source": [
    "import webbrowser\n",
    "rd = ocgis.RequestDataset(uri=uri, variable=variable, time_region={'month': [7]}, conform_units_to='celsius', \n",
    "                          field_name='calcs')\n",
    "calc = [{'func': 'mean', 'name': 'mean'},\n",
    "        {'func': 'std', 'name': 'stdev'},\n",
    "        {'func': 'min', 'name': 'min'},\n",
    "        {'func': 'max', 'name': 'max'},\n",
    "        {'func': 'median', 'name': 'median'},\n",
    "        {'func': 'freq_perc', 'name': 'fp_95', 'kwds': {'percentile': 95.0}},\n",
    "        {'func': 'freq_perc', 'name': 'fp_5', 'kwds':{'percentile': 5.0}},]\n",
    "calc_grouping = ['month','year']\n",
    "ops = ocgis.OcgOperations(dataset=rd, geom='state_boundaries', geom_select_uid=[25, 26], spatial_operation='clip',\n",
    "                          output_format= 'csv', prefix='ca_calcs', aggregate=True, calc=calc,\n",
    "                          calc_grouping=calc_grouping)\n",
    "ret = ops.execute()\n",
    "print(ret)\n",
    "webbrowser.open(ret)"
   ]
  },
  {
   "cell_type": "markdown",
   "metadata": {},
   "source": [
    "Perform the same operation returning the data as a \"collection\". Print the derived variable aliases."
   ]
  },
  {
   "cell_type": "code",
   "execution_count": null,
   "metadata": {},
   "outputs": [],
   "source": [
    "ops.output_format = 'ocgis'\n",
    "ret = ops.execute()\n",
    "print(ret)\n",
    "print(ret[25].groups[rd.field_name].keys())"
   ]
  },
  {
   "cell_type": "markdown",
   "metadata": {},
   "source": [
    "Fields are sliceable by dimensions (variables have dimensions similar to NetCDF)."
   ]
  },
  {
   "cell_type": "code",
   "execution_count": null,
   "metadata": {},
   "outputs": [],
   "source": [
    "mean = ret.get_element(variable_name='mean')\n",
    "print('mean dimensions = {}\\n'.format(mean.dimensions))\n",
    "print('mean shape = {}\\n'.format(mean.shape))\n",
    "print('field shapes = {}\\n'.format(mean.parent.shapes))\n",
    "sub = mean.parent[{'time': slice(0, 1)}]\n",
    "print('sliced field shapes = {}'.format(sub.shapes))"
   ]
  },
  {
   "cell_type": "markdown",
   "metadata": {},
   "source": [
    "Print some time values from the time variable."
   ]
  },
  {
   "cell_type": "code",
   "execution_count": null,
   "metadata": {},
   "outputs": [],
   "source": [
    "field = mean.parent\n",
    "time = field.time\n",
    "print(time.value_numtime)\n",
    "print(time.value_datetime)"
   ]
  },
  {
   "cell_type": "markdown",
   "metadata": {},
   "source": [
    "Print example variable values."
   ]
  },
  {
   "cell_type": "code",
   "execution_count": null,
   "metadata": {},
   "outputs": [],
   "source": [
    "mean.get_masked_value().squeeze()"
   ]
  },
  {
   "cell_type": "markdown",
   "metadata": {},
   "source": [
    "Geometries are stored as Shapely objects with associated attributes."
   ]
  },
  {
   "cell_type": "code",
   "execution_count": null,
   "metadata": {},
   "outputs": [],
   "source": [
    "print(type(ret.geoms[25]))\n",
    "print(ret.geoms[25]).bounds\n",
    "print(ret[25]['STATE_NAME'].get_value())[0]"
   ]
  },
  {
   "cell_type": "markdown",
   "metadata": {},
   "source": [
    "OCGIS supports arbitrary parallel decompositions for variables with support for empty objects. The VM implements basic parallel operations like broadcast, scatter, gather, etc. This example simulates the creation of dimensions when running on four cores."
   ]
  },
  {
   "cell_type": "code",
   "execution_count": null,
   "metadata": {},
   "outputs": [],
   "source": [
    "newdist = ocgis.vmachine.mpi.OcgDist(size=4)\n",
    "newdist.create_dimension(name='not_dist', size=100)\n",
    "newdist.create_dimension(name='im_dist', size=6, dist=True)\n",
    "newdist.update_dimension_bounds()\n",
    "\n",
    "for simrank in range(4):\n",
    "    print('rank = {}'.format(simrank))\n",
    "    localdistdim = newdist.get_dimension('im_dist', rank=simrank)\n",
    "    repdim = newdist.get_dimension('not_dist', rank=simrank)\n",
    "    print(localdistdim.name, localdistdim.bounds_local)\n",
    "    print(repdim.name, repdim.bounds_local)\n",
    "    print('')"
   ]
  },
  {
   "cell_type": "markdown",
   "metadata": {},
   "source": [
    "For three variables, calculate monthly averages for the year 2005 for each U.S. state boundary."
   ]
  },
  {
   "cell_type": "code",
   "execution_count": null,
   "metadata": {},
   "outputs": [],
   "source": [
    "rd1 = ocgis.RequestDataset(uri='tas_day_CanCM4_decadal2000_r2i1p1_20010101-20101231.nc')\n",
    "rd2 = ocgis.RequestDataset(uri='tasmin_day_CanCM4_decadal2000_r2i1p1_20010101-20101231.nc')\n",
    "rd3 = ocgis.RequestDataset(uri='tasmax_day_CanCM4_decadal2000_r2i1p1_20010101-20101231.nc')\n",
    "calc = [{'func': 'mean', 'name': 'mean'}]\n",
    "calc_grouping = ['month']\n",
    "ops = ocgis.OcgOperations(dataset=[rd1, rd2, rd3], geom='state_boundaries', aggregate=True,\n",
    "                          output_format='shp', spatial_operation='clip', prefix='temps',\n",
    "                          calc=calc, calc_grouping=calc_grouping, time_region={'year': [2005]},\n",
    "                          conform_units_to='fahrenheit')\n",
    "ret = ops.execute()\n",
    "print(ret)"
   ]
  },
  {
   "cell_type": "markdown",
   "metadata": {},
   "source": [
    "Use ESMF regridding with a subset and spatial aggregation, writing the data to shapefile."
   ]
  },
  {
   "cell_type": "code",
   "execution_count": null,
   "metadata": {},
   "outputs": [],
   "source": [
    "rd_src = ocgis.RequestDataset(uri='tas_day_CanCM4_decadal2010_r2i1p1_20110101-20201231.nc',\n",
    "                              variable='tas')\n",
    "rd_dest = ocgis.RequestDataset(uri='nldas_met_update.obs.daily.pr.1991.nc')\n",
    "regrid_options = {'with_corners': False}\n",
    "ops = ocgis.OcgOperations(dataset=rd_src, regrid_destination=rd_dest, geom_select_uid=[6, 16], \n",
    "                          agg_selection=True, geom='state_boundaries', snippet=True,\n",
    "                          output_format='shp', prefix='regrid', regrid_options=regrid_options)\n",
    "print(ops.execute())"
   ]
  }
 ],
 "metadata": {
  "kernelspec": {
   "display_name": "Python 2",
   "language": "python",
   "name": "python2"
  },
  "language_info": {
   "codemirror_mode": {
    "name": "ipython",
    "version": 2
   },
   "file_extension": ".py",
   "mimetype": "text/x-python",
   "name": "python",
   "nbconvert_exporter": "python",
   "pygments_lexer": "ipython2",
   "version": "2.7.14"
  }
 },
 "nbformat": 4,
 "nbformat_minor": 1
}
