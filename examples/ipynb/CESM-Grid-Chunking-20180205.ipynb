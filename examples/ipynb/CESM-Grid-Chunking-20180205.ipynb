{
 "cells": [
  {
   "cell_type": "code",
   "execution_count": 1,
   "metadata": {},
   "outputs": [],
   "source": [
    "import tempfile\n",
    "import os\n",
    "import sys\n",
    "import subprocess\n",
    "import ocgis\n",
    "\n",
    "\n",
    "WD = os.path.expanduser('~/htmp/chunking-demo')\n",
    "DATADIR = os.path.expanduser('~/htmp/chunking-demo-data')\n",
    "GCWD = os.path.join(WD, 'chunks')\n",
    "SRCNAME = os.path.join(DATADIR, 'source-grid.nc')\n",
    "SOURCE_CFGRID = os.path.join(DATADIR, SRCNAME)\n",
    "DESTINATION_SCRIP = os.path.expanduser('~/l/i49-ugrid-cesm/SCRIPgrid_ne16np4_nomask_c110512.nc')\n",
    "DESTINATION_POINT = os.path.expanduser('~/l/i49-ugrid-cesm/SCRIPgrid_1x1pt_brazil_nomask_c110308.nc')\n",
    "WEIGHT_DIR = tempfile.mkdtemp(prefix='esmf_weights')\n",
    "WEIGHT_GRID = os.path.join(WEIGHT_DIR, 'esmf_weights_grid.nc')\n",
    "WEIGHT_POINT = os.path.join(WEIGHT_DIR, 'esmf_weights_points.nc')\n",
    "OCLI_EXE = os.path.expanduser('~/l/ocgis/src/ocli.py')"
   ]
  },
  {
   "cell_type": "code",
   "execution_count": 2,
   "metadata": {},
   "outputs": [
    {
     "name": "stdout",
     "output_type": "stream",
     "text": [
      "Usage: ocli.py chunked_rwg [OPTIONS]\n",
      "\n",
      "  Run regridding using a spatial decomposition.\n",
      "\n",
      "Options:\n",
      "  -s, --source PATH               Path to the source grid NetCDF file.\n",
      "                                  [required]\n",
      "  -d, --destination PATH          Path to the destination grid NetCDF file.\n",
      "                                  [required]\n",
      "  -n, --nchunks_dst TEXT          Single integer or sequence defining the\n",
      "                                  chunking decomposition for the destination\n",
      "                                  grid. For unstructured grids, provide a\n",
      "                                  single value (i.e. 100). For logically\n",
      "                                  rectangular grids, two values are needed to\n",
      "                                  describe the x and y decomposition (i.e.\n",
      "                                  10,20).\n",
      "  --merge / --no_merge            (default=True) If --merge, merge weight file\n",
      "                                  chunks into a global weight file.\n",
      "  -w, --weight PATH               Path to the output global weight file.\n",
      "                                  Required if --merge.\n",
      "  --esmf_src_type TEXT            (default=GRIDSPEC) ESMF source grid type.\n",
      "                                  Supports GRIDSPEC, UGRID, and SCRIP.\n",
      "  --esmf_dst_type TEXT            (default=GRIDSPEC) ESMF destination grid\n",
      "                                  type. Supports GRIDSPEC, UGRID, and SCRIP.\n",
      "  --genweights / --no_genweights  (default=True) Generate weights using ESMF\n",
      "                                  for each source and destination subset.\n",
      "  --esmf_regrid_method TEXT       (default=CONSERVE) The ESMF regrid method.\n",
      "                                  Only applicable with --genweights. Supports\n",
      "                                  CONSERVE and BILINEAR.\n",
      "  --spatial_subset / --no_spatial_subset\n",
      "                                  (default=False) Optionally subset the\n",
      "                                  destination grid by the bounding box spatial\n",
      "                                  extent of the source grid. This will not\n",
      "                                  work in parallel if --genweights.\n",
      "  --src_resolution FLOAT          Optionally overload the spatial resolution\n",
      "                                  of the source grid. If provided, assumes an\n",
      "                                  isomorphic structure.\n",
      "  --dst_resolution FLOAT          Optionally overload the spatial resolution\n",
      "                                  of the destination grid. If provided,\n",
      "                                  assumes an isomorphic structure.\n",
      "  --buffer_distance FLOAT         Optional spatial buffer distance (in units\n",
      "                                  of the destination grid) to use when\n",
      "                                  subsetting the source grid by the spatial\n",
      "                                  extent of a destination grid or chunk. This\n",
      "                                  is computed internally if not provided.\n",
      "  --wd PATH                       Optional working directory for output\n",
      "                                  intermediate files.\n",
      "  --persist / --no_persist        (default=False) If --persist, do not remove\n",
      "                                  the working directory --wd following\n",
      "                                  execution.\n",
      "  --help                          Show this message and exit.\n",
      "\n"
     ]
    }
   ],
   "source": [
    "# This is the current command line help documentation.\n",
    "out = subprocess.check_output([sys.executable, OCLI_EXE, 'chunked-rwg', '--help'])\n",
    "print(out)"
   ]
  },
  {
   "cell_type": "code",
   "execution_count": 3,
   "metadata": {},
   "outputs": [
    {
     "name": "stdout",
     "output_type": "stream",
     "text": [
      "mpirun -n 8 /home/benkoziol/anaconda2/envs/ocgis/bin/python /home/benkoziol/l/ocgis/src/ocli.py chunked_rwg --source /home/benkoziol/htmp/chunking-demo-data/source-grid.nc --destination /home/benkoziol/l/i49-ugrid-cesm/SCRIPgrid_ne16np4_nomask_c110512.nc --weight /tmp/esmf_weightsOemqqD/esmf_weights_grid.nc --nchunks_dst 5 --esmf_dst_type SCRIP\n",
      "\n",
      "netcdf esmf_weights_grid {\n",
      "dimensions:\n",
      "\tn_s = 155886 ;\n",
      "variables:\n",
      "\tint row(n_s) ;\n",
      "\tint col(n_s) ;\n",
      "\tdouble S(n_s) ;\n",
      "}\n",
      "\n"
     ]
    }
   ],
   "source": [
    "# Execute chunked conservative regridding.\n",
    "cmd = ['mpirun', '-n', str(8), sys.executable, OCLI_EXE, 'chunked_rwg', '--source', SOURCE_CFGRID,\n",
    "       '--destination', DESTINATION_SCRIP, '--weight', WEIGHT_GRID, '--nchunks_dst', str(5), \n",
    "       '--esmf_dst_type', 'SCRIP',\n",
    "       # '--persist', '--wd', '/tmp/some_chunks'\n",
    "       ]\n",
    "print(' '.join(cmd) + '\\n')\n",
    "subprocess.check_call(cmd)\n",
    "out = subprocess.check_output(['ncdump', '-h', WEIGHT_GRID])\n",
    "print(out)"
   ]
  },
  {
   "cell_type": "code",
   "execution_count": 4,
   "metadata": {},
   "outputs": [
    {
     "name": "stdout",
     "output_type": "stream",
     "text": [
      "mpirun -n 1 /home/benkoziol/anaconda2/envs/ocgis/bin/python /home/benkoziol/l/ocgis/src/ocli.py chunked_rwg --source /home/benkoziol/htmp/chunking-demo-data/source-grid.nc --destination /home/benkoziol/l/i49-ugrid-cesm/SCRIPgrid_1x1pt_brazil_nomask_c110308.nc --weight /tmp/esmf_weightsOemqqD/esmf_weights_points.nc --esmf_dst_type SCRIP --spatial_subset\n",
      "\n",
      "netcdf esmf_weights_points {\n",
      "dimensions:\n",
      "\tn_s = 6 ;\n",
      "variables:\n",
      "\tdouble S(n_s) ;\n",
      "\tint col(n_s) ;\n",
      "\tint row(n_s) ;\n",
      "}\n",
      "\n"
     ]
    }
   ],
   "source": [
    "# Execute regridding with a spatial subset.\n",
    "cmd = ['mpirun', '-n', str(1), sys.executable, OCLI_EXE, 'chunked_rwg', '--source', SOURCE_CFGRID,\n",
    "       '--destination', DESTINATION_POINT, '--weight', WEIGHT_POINT, '--esmf_dst_type', 'SCRIP', '--spatial_subset',\n",
    "       # '--persist'\n",
    "       ]\n",
    "print(' '.join(cmd) + '\\n')\n",
    "subprocess.check_call(cmd)\n",
    "out = subprocess.check_output(['ncdump', '-h', WEIGHT_POINT])\n",
    "print(out)"
   ]
  },
  {
   "cell_type": "code",
   "execution_count": null,
   "metadata": {},
   "outputs": [],
   "source": []
  }
 ],
 "metadata": {
  "kernelspec": {
   "display_name": "Python 2",
   "language": "python",
   "name": "python2"
  },
  "language_info": {
   "codemirror_mode": {
    "name": "ipython",
    "version": 2
   },
   "file_extension": ".py",
   "mimetype": "text/x-python",
   "name": "python",
   "nbconvert_exporter": "python",
   "pygments_lexer": "ipython2",
   "version": "2.7.14"
  }
 },
 "nbformat": 4,
 "nbformat_minor": 1
}
