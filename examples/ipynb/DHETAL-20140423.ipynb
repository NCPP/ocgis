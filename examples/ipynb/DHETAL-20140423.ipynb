{
 "metadata": {
  "name": "DHETAL-20140423"
 }, 
 "nbformat": 2, 
 "worksheets": [
  {
   "cells": [
    {
     "cell_type": "code", 
     "collapsed": false, 
     "input": [
      "import ocgis", 
      "print(ocgis.__RELEASE__)"
     ], 
     "language": "python", 
     "outputs": [], 
     "prompt_number": 30
    }, 
    {
     "cell_type": "markdown", 
     "source": [
      "Inspect a target file's metadata."
     ]
    }, 
    {
     "cell_type": "code", 
     "collapsed": false, 
     "input": [
      "uri = '/usr/local/climate_data/CanCM4/tas_day_CanCM4_decadal2011_r2i1p1_20120101-20211231.nc'", 
      "variable = 'tas'", 
      "rd = ocgis.RequestDataset(uri=uri,variable=variable)", 
      "rd.inspect()"
     ], 
     "language": "python", 
     "outputs": [], 
     "prompt_number": 13
    }, 
    {
     "cell_type": "markdown", 
     "source": [
      "Subset a target file by the boundary of California using an intersects GIS operation (the default), and write the data to an ESRI Shapefile. Select the first time coordinate only."
     ]
    }, 
    {
     "cell_type": "code", 
     "collapsed": false, 
     "input": [
      "ocgis.env.DIR_OUTPUT = '/home/local/WX/ben.koziol/Dropbox/nesii/conference/dh_cap_20140423'", 
      "geom = '/home/local/WX/ben.koziol/links/shp/state_boundaries/state_boundaries.shp'", 
      "ops = ocgis.OcgOperations(dataset=rd,geom=geom,select_ugid=[25],snippet=True,", 
      "                          output_format='shp',prefix='ca')", 
      "ops.execute()"
     ], 
     "language": "python", 
     "outputs": [], 
     "prompt_number": 15
    }, 
    {
     "cell_type": "markdown", 
     "source": [
      " Also write the model grid to shapefile."
     ]
    }, 
    {
     "cell_type": "code", 
     "collapsed": false, 
     "input": [
      "ocgis.OcgOperations(dataset=rd,output_format='shp',snippet=True,prefix='grid').execute()"
     ], 
     "language": "python", 
     "outputs": [], 
     "prompt_number": 16
    }, 
    {
     "cell_type": "markdown", 
     "source": [
      "Spatially average the grid cells clipped to the boundary of California for all the June, July, and August months in the target dataset. Write the output data to CSV."
     ]
    }, 
    {
     "cell_type": "code", 
     "collapsed": false, 
     "input": [
      "import webbrowser", 
      "rd = ocgis.RequestDataset(uri=uri,variable=variable,time_region={'month':[6,7,8]})", 
      "ops = ocgis.OcgOperations(dataset=rd,geom=geom,select_ugid=[25],spatial_operation='clip',", 
      "                          output_format='csv',prefix='ca_spatial_average',aggregate=True)", 
      "ret = ops.execute()", 
      "print(ret)", 
      "webbrowser.open(ret)"
     ], 
     "language": "python", 
     "outputs": [], 
     "prompt_number": 17
    }, 
    {
     "cell_type": "markdown", 
     "source": [
      "Perform a difference calulation between two variables using a string function. Inspect the metadata of the output NetCDF file."
     ]
    }, 
    {
     "cell_type": "code", 
     "collapsed": false, 
     "input": [
      "ocgis.env.DIR_DATA = '/usr/local/climate_data'", 
      "rd1 = ocgis.RequestDataset(uri='tasmax_day_CanCM4_decadal2010_r2i1p1_20110101-20201231.nc',", 
      "                           variable='tasmax')", 
      "rd2 = ocgis.RequestDataset(uri='tasmin_day_CanCM4_decadal2010_r2i1p1_20110101-20201231.nc',", 
      "                           variable='tasmin')", 
      "calc = 'diff=tasmax-tasmin'", 
      "ops = ocgis.OcgOperations(dataset=[rd1,rd2],calc=calc,output_format='nc',geom='state_boundaries',", 
      "                          select_ugid=[25],prefix='diff')", 
      "ret = ops.execute()", 
      "print(ocgis.Inspect(ret))"
     ], 
     "language": "python", 
     "outputs": [], 
     "prompt_number": 18
    }, 
    {
     "cell_type": "markdown", 
     "source": [
      "Calculate a sequence of statistics to produce a July time series conforming the target units from Kelvin to Celsius in the process. Perform the calculations on the spatially averaged data for California."
     ]
    }, 
    {
     "cell_type": "code", 
     "collapsed": false, 
     "input": [
      "rd = ocgis.RequestDataset(uri=uri,variable=variable,time_region={'month':[7]},conform_units_to='celsius')", 
      "calc = [{'func':'mean','name':'mean'},", 
      "        {'func':'std','name':'stdev'},", 
      "        {'func':'min','name':'min'},", 
      "        {'func':'max','name':'max'},", 
      "        {'func':'median','name':'median'},", 
      "        {'func':'freq_perc','name':'fp_95','kwds':{'percentile':95.0}},", 
      "        {'func':'freq_perc','name':'fp_5','kwds':{'percentile':5.0}},]", 
      "calc_grouping = ['month','year']", 
      "ops = ocgis.OcgOperations(dataset=rd,geom=geom,select_ugid=[25],spatial_operation='clip',", 
      "                          output_format='csv',prefix='ca_calcs',aggregate=True,calc=calc,", 
      "                          calc_grouping=calc_grouping)", 
      "ret = ops.execute()", 
      "print(ret)", 
      "webbrowser.open(ret)"
     ], 
     "language": "python", 
     "outputs": [], 
     "prompt_number": 19
    }, 
    {
     "cell_type": "markdown", 
     "source": [
      "Perform the same operation as above again but return the data as a collection. Print the derived variable aliases."
     ]
    }, 
    {
     "cell_type": "code", 
     "collapsed": false, 
     "input": [
      "ops.output_format = 'numpy'", 
      "ret = ops.execute()", 
      "print(ret)", 
      "print(ret[25]['tas'].variables.keys())"
     ], 
     "language": "python", 
     "outputs": [], 
     "prompt_number": 20
    }, 
    {
     "cell_type": "markdown", 
     "source": [
      "Variable values are always stored as five dimensions: realization, time, level, row, column"
     ]
    }, 
    {
     "cell_type": "code", 
     "collapsed": false, 
     "input": [
      "print(ret[25]['tas'].variables['mean'])", 
      "print(ret[25]['tas'].variables['mean'].value.shape)"
     ], 
     "language": "python", 
     "outputs": [], 
     "prompt_number": 21
    }, 
    {
     "cell_type": "markdown", 
     "source": [
      "Print some time values from the temporal dimension."
     ]
    }, 
    {
     "cell_type": "code", 
     "collapsed": false, 
     "input": [
      "print(ret[25]['tas'].temporal.value_datetime)", 
      "print(ret[25]['tas'].temporal.bounds_datetime)"
     ], 
     "language": "python", 
     "outputs": [], 
     "prompt_number": 22
    }, 
    {
     "cell_type": "markdown", 
     "source": [
      "Print example variable values."
     ]
    }, 
    {
     "cell_type": "code", 
     "collapsed": false, 
     "input": [
      "print(ret[25]['tas'].variables['mean'].value.squeeze())"
     ], 
     "language": "python", 
     "outputs": [], 
     "prompt_number": 23
    }, 
    {
     "cell_type": "markdown", 
     "source": [
      "Geometries are stored as Shapely objects with associated attributes."
     ]
    }, 
    {
     "cell_type": "code", 
     "collapsed": false, 
     "input": [
      "print(type(ret.geoms[25]))", 
      "print(ret.geoms[25]).bounds", 
      "print(ret.properties[25])"
     ], 
     "language": "python", 
     "outputs": [], 
     "prompt_number": 29
    }, 
    {
     "cell_type": "markdown", 
     "source": [
      "For three variables, calculate monthly averages for the year 2014 for each U.S. state boundary."
     ]
    }, 
    {
     "cell_type": "code", 
     "collapsed": false, 
     "input": [
      "rd1 = ocgis.RequestDataset(uri='tasmax_day_CanCM4_decadal2010_r2i1p1_20110101-20201231.nc',", 
      "                           variable='tasmax',conform_units_to='fahrenheit')", 
      "rd2 = ocgis.RequestDataset(uri='tasmin_day_CanCM4_decadal2010_r2i1p1_20110101-20201231.nc',", 
      "                           variable='tasmin',conform_units_to='fahrenheit')", 
      "rd3 = ocgis.RequestDataset(uri='tas_day_CanCM4_decadal2010_r2i1p1_20110101-20201231.nc',", 
      "                           variable='tas',conform_units_to='fahrenheit')", 
      "calc = [{'func':'mean','name':'mean'}]", 
      "calc_grouping = ['month']", 
      "ops = ocgis.OcgOperations(dataset=[rd1,rd2,rd3],geom='state_boundaries',aggregate=True,", 
      "                          output_format='shp',spatial_operation='clip',prefix='temps',", 
      "                          calc=calc,calc_grouping=calc_grouping,time_region={'year':[2014]})", 
      "ret = ops.execute()", 
      "print(ret)"
     ], 
     "language": "python", 
     "outputs": [], 
     "prompt_number": 11
    }
   ]
  }
 ]
}