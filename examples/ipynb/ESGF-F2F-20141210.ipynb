{
 "worksheets": [
  {
   "cells": [
    {
     "cell_type": "code",
     "execution_count": null,
     "metadata": {},
     "outputs": [],
     "input": [
      "import ocgis\n",
      "assert(ocgis.__release__ == '1.0.1-next')"
     ],
     "language": "python",
     "prompt_number": 1
    },
    {
     "cell_type": "markdown",
     "metadata": {},
     "source": [
      "Configure some environment variables to point to the head directory containing climate data files used in the demo as well as the output directory."
     ]
    },
    {
     "cell_type": "code",
     "execution_count": null,
     "metadata": {},
     "outputs": [],
     "input": [
      "import tempfile\n",
      "ocgis.env.DIR_DATA = '/home/ben.koziol/climate_data'\n",
      "ocgis.env.DIR_OUTPUT = tempfile.mkdtemp()"
     ],
     "language": "python",
     "prompt_number": 2
    },
    {
     "cell_type": "markdown",
     "metadata": {},
     "source": [
      "Inspect a target file's metadata."
     ]
    },
    {
     "cell_type": "code",
     "execution_count": null,
     "metadata": {},
     "outputs": [
      {
       "output_type": "pyout",
       "prompt_number": 3,
       "text": [
        "\n",
        "URI = /home/ben.koziol/climate_data/CanCM4/tas_day_CanCM4_decadal2011_r2i1p1_20120101-20211231.nc\n",
        "VARIABLE = tas\n",
        "ALIAS = tas\n",
        "DID = None\n",
        "\n",
        "=== Temporal =============\n",
        "\n",
        "       Start Date = 2012-01-01 00:00:00\n",
        "         End Date = 2022-01-01 00:00:00\n",
        "         Calendar = 365_day\n",
        "            Units = days since 1850-1-1\n",
        "Resolution (Days) = 1\n",
        "            Count = 3650\n",
        "       Has Bounds = True\n",
        "\n",
        "=== Spatial ==============\n",
        "\n",
        "Spatial Reference = CFWGS84\n",
        "     Proj4 String = +proj=longlat +ellps=WGS84 +towgs84=0,0,0,0,0,0,0 +no_defs \n",
        "           Extent = (-1.40625, -90.0, 358.59375, 90.0)\n",
        "   Interface Type = SpatialGeometryPolygonDimension\n",
        "       Resolution = 2.8125\n",
        "            Count = 8192\n",
        "\n",
        "=== Level ================\n",
        "\n",
        "No level dimension found.\n",
        "\n",
        "=== Dump =================\n",
        "\n",
        "dimensions:\n",
        "    time = ISUNLIMITED ; // 3650 currently\n",
        "    lat = 64 ;\n",
        "    lon = 128 ;\n",
        "    bnds = 2 ;\n",
        "\n",
        "variables:\n",
        "    float64 time(time) ;\n",
        "      time:bounds = \"time_bnds\" ;\n",
        "      time:units = \"days since 1850-1-1\" ;\n",
        "      time:calendar = \"365_day\" ;\n",
        "      time:axis = \"T\" ;\n",
        "      time:long_name = \"time\" ;\n",
        "      time:standard_name = \"time\" ;\n",
        "    float64 time_bnds(time, bnds) ;\n",
        "    float64 lat(lat) ;\n",
        "      lat:bounds = \"lat_bnds\" ;\n",
        "      lat:units = \"degrees_north\" ;\n",
        "      lat:axis = \"Y\" ;\n",
        "      lat:long_name = \"latitude\" ;\n",
        "      lat:standard_name = \"latitude\" ;\n",
        "    float64 lat_bnds(lat, bnds) ;\n",
        "    float64 lon(lon) ;\n",
        "      lon:bounds = \"lon_bnds\" ;\n",
        "      lon:units = \"degrees_east\" ;\n",
        "      lon:axis = \"X\" ;\n",
        "      lon:long_name = \"longitude\" ;\n",
        "      lon:standard_name = \"longitude\" ;\n",
        "    float64 lon_bnds(lon, bnds) ;\n",
        "    float64 height() ;\n",
        "      height:units = \"m\" ;\n",
        "      height:axis = \"Z\" ;\n",
        "      height:positive = \"up\" ;\n",
        "      height:long_name = \"height\" ;\n",
        "      height:standard_name = \"height\" ;\n",
        "    float32 tas(time, lat, lon) ;\n",
        "      tas:standard_name = \"air_temperature\" ;\n",
        "      tas:long_name = \"Near-Surface Air Temperature\" ;\n",
        "      tas:units = \"K\" ;\n",
        "      tas:original_name = \"ST\" ;\n",
        "      tas:cell_methods = \"time: mean (interval: 15 minutes)\" ;\n",
        "      tas:cell_measures = \"area: areacella\" ;\n",
        "      tas:history = \"2012-03-29T19:30:46Z altered by CMOR: Treated scalar dimension: 'height'. 2012-03-29T19:30:46Z altered by CMOR: replaced missing value flag (1e+38) with standard missing value (1e+20).\" ;\n",
        "      tas:coordinates = \"height\" ;\n",
        "      tas:missing_value = \"1.00000002004e+20\" ;\n",
        "      tas:associated_files = \"baseURL: http://cmip-pcmdi.llnl.gov/CMIP5/dataLocation gridspecFile: gridspec_atmos_fx_CanCM4_decadal2011_r0i0p0.nc areacella: areacella_fx_CanCM4_decadal2011_r0i0p0.nc\" ;\n",
        "\n",
        "// global attributes:\n",
        "    :institution = CCCma (Canadian Centre for Climate Modelling and Analysis, Victoria, BC, Canada) ;\n",
        "    :institute_id = CCCma ;\n",
        "    :experiment_id = decadal2011 ;\n",
        "    :source = CanCM4 2010 atmosphere: CanAM4 (AGCM15i, T63L35) ocean: CanOM4 (OGCM4.0, 256x192L40) sea ice: CanSIM1 (Cavitating Fluid, T63 Gaussian Grid) land: CLASS2.7 ;\n",
        "    :model_id = CanCM4 ;\n",
        "    :forcing = GHG,Oz,SA,BC,OC,LU,Sl,Vl (GHG includes CO2,CH4,N2O,CFC11,effective CFC12) ;\n",
        "    :parent_experiment_id = N/A ;\n",
        "    :parent_experiment_rip = N/A ;\n",
        "    :branch_time = 0.0 ;\n",
        "    :contact = cccma_info@ec.gc.ca ;\n",
        "    :references = http://www.cccma.ec.gc.ca/models ;\n",
        "    :initialization_method = 1 ;\n",
        "    :physics_version = 1 ;\n",
        "    :tracking_id = 4c57c1e8-1254-464c-b6a9-baf2133985f9 ;\n",
        "    :branch_time_YMDH = 2012:01:01:00 ;\n",
        "    :CCCma_runid = DHFP1B_E002_I2012_M01 ;\n",
        "    :CCCma_parent_runid = DHFP1_E002 ;\n",
        "    :CCCma_data_licence = 1) GRANT OF LICENCE - The Government of Canada (Environment Canada) is the \n",
        "owner of all intellectual property rights (including copyright) that may exist in this Data \n",
        "product. You (as \"The Licensee\") are hereby granted a non-exclusive, non-assignable, \n",
        "non-transferable unrestricted licence to use this data product for any purpose including \n",
        "the right to share these data with others and to make value-added and derivative \n",
        "products from it. This licence is not a sale of any or all of the owner's rights.\n",
        "2) NO WARRANTY - This Data product is provided \"as-is\"; it has not been designed or \n",
        "prepared to meet the Licensee's particular requirements. Environment Canada makes no \n",
        "warranty, either express or implied, including but not limited to, warranties of \n",
        "merchantability and fitness for a particular purpose. In no event will Environment Canada \n",
        "be liable for any indirect, special, consequential or other damages attributed to the \n",
        "Licensee's use of the Data product. ;\n",
        "    :product = output ;\n",
        "    :experiment = 10- or 30-year run initialized in year 2011 ;\n",
        "    :frequency = day ;\n",
        "    :creation_date = 2012-03-29T19:30:46Z ;\n",
        "    :history = 2012-03-29T19:30:46Z CMOR rewrote data to comply with CF standards and CMIP5 requirements. ;\n",
        "    :Conventions = CF-1.4 ;\n",
        "    :project_id = CMIP5 ;\n",
        "    :table_id = Table day (28 March 2011) f9d6cfec5981bb8be1801b35a81002f0 ;\n",
        "    :title = CanCM4 model output prepared for CMIP5 10- or 30-year run initialized in year 2011 ;\n",
        "    :parent_experiment = N/A ;\n",
        "    :modeling_realm = atmos ;\n",
        "    :realization = 2 ;\n",
        "    :cmor_version = 2.8.0 ;\n"
       ],
       "metadata": {}
      }
     ],
     "input": [
      "uri = 'tas_day_CanCM4_decadal2011_r2i1p1_20120101-20211231.nc'\n",
      "variable = 'tas'\n",
      "rd = ocgis.RequestDataset(uri=uri,variable=variable)\n",
      "rd.inspect()"
     ],
     "language": "python",
     "prompt_number": 3
    },
    {
     "cell_type": "markdown",
     "metadata": {},
     "source": [
      "Subset a target file by the boundary of California using an intersects GIS operation (the default), and write the data to an ESRI Shapefile. Select the first time coordinate only."
     ]
    },
    {
     "cell_type": "code",
     "execution_count": null,
     "metadata": {},
     "outputs": [
      {
       "output_type": "pyout",
       "prompt_number": 4,
       "text": [
        "'/tmp/tmpBA3o_B/ca/ca.shp'"
       ],
       "metadata": {}
      }
     ],
     "input": [
      "geom = '/home/ben.koziol/Dropbox/NESII/project/ocg/bin/shp/state_boundaries/state_boundaries.shp'\n",
      "ops = ocgis.OcgOperations(dataset=rd,geom=geom,select_ugid=[25],snippet=True,\n",
      "                          output_format='shp',prefix='ca')\n",
      "ops.execute()"
     ],
     "language": "python",
     "prompt_number": 4
    },
    {
     "cell_type": "markdown",
     "metadata": {},
     "source": [
      " Also write the model grid to shapefile."
     ]
    },
    {
     "cell_type": "code",
     "execution_count": null,
     "metadata": {},
     "outputs": [
      {
       "output_type": "pyout",
       "prompt_number": 5,
       "text": [
        "'/tmp/tmpBA3o_B/grid/grid.shp'"
       ],
       "metadata": {}
      }
     ],
     "input": [
      "ocgis.OcgOperations(dataset=rd,output_format='shp',snippet=True,prefix='grid').execute()"
     ],
     "language": "python",
     "prompt_number": 5
    },
    {
     "cell_type": "markdown",
     "metadata": {},
     "source": [
      "Spatially average the grid cells clipped to the boundary of California for all the June, July, and August months in the target dataset. Write the output data to CSV."
     ]
    },
    {
     "cell_type": "code",
     "execution_count": null,
     "metadata": {},
     "outputs": [
      {
       "output_type": "stream",
       "stream": "stdout",
       "text": [
        "/tmp/tmp4JU0OE/ca_spatial_average/ca_spatial_average.csv\n"
       ]
      },
      {
       "output_type": "pyout",
       "prompt_number": 9,
       "text": [
        "True"
       ],
       "metadata": {}
      }
     ],
     "input": [
      "import webbrowser\n",
      "rd = ocgis.RequestDataset(uri=uri,variable=variable,time_region={'month':[6,7,8]})\n",
      "ops = ocgis.OcgOperations(dataset=rd,geom=geom,select_ugid=[25],spatial_operation='clip',\n",
      "                          output_format='csv',prefix='ca_spatial_average',aggregate=True)\n",
      "ret = ops.execute()\n",
      "print(ret)\n",
      "webbrowser.open(ret)"
     ],
     "language": "python",
     "prompt_number": 9
    },
    {
     "cell_type": "markdown",
     "metadata": {},
     "source": [
      "Perform a difference calulation between two variables using a string function. Inspect the metadata of the output NetCDF file."
     ]
    },
    {
     "cell_type": "code",
     "execution_count": null,
     "metadata": {},
     "outputs": [
      {
       "output_type": "stream",
       "stream": "stdout",
       "text": [
        "\n",
        "URI = /tmp/tmp4JU0OE/diff/diff.nc\n",
        "VARIABLE = None\n",
        "\n",
        "dimensions:\n",
        "    time = 3650 ;\n",
        "    bnds = 2 ;\n",
        "    lat = 5 ;\n",
        "    lon = 4 ;\n",
        "\n",
        "variables:\n",
        "    float64 time(time) ;\n",
        "      time:axis = \"T\" ;\n",
        "      time:bounds = \"time_bnds\" ;\n",
        "      time:units = \"days since 1850-1-1\" ;\n",
        "      time:calendar = \"365_day\" ;\n",
        "      time:long_name = \"time\" ;\n",
        "      time:standard_name = \"time\" ;\n",
        "    float64 time_bnds(time, bnds) ;\n",
        "      time_bnds:calendar = \"365_day\" ;\n",
        "      time_bnds:units = \"days since 1850-1-1\" ;\n",
        "    float64 lat(lat) ;\n",
        "      lat:axis = \"Y\" ;\n",
        "      lat:bounds = \"lat_bnds\" ;\n",
        "      lat:units = \"degrees_north\" ;\n",
        "      lat:long_name = \"latitude\" ;\n",
        "      lat:standard_name = \"latitude\" ;\n",
        "    float64 lat_bnds(lat, bnds) ;\n",
        "    float64 lon(lon) ;\n",
        "      lon:axis = \"X\" ;\n",
        "      lon:bounds = \"lon_bnds\" ;\n",
        "      lon:units = \"degrees_east\" ;\n",
        "      lon:long_name = \"longitude\" ;\n",
        "      lon:standard_name = \"longitude\" ;\n",
        "    float64 lon_bnds(lon, bnds) ;\n",
        "    |S1 latitude_longitude() ;\n",
        "      latitude_longitude:proj4 = \"+proj=longlat +ellps=WGS84 +towgs84=0,0,0,0,0,0,0 +no_defs \" ;\n",
        "      latitude_longitude:grid_mapping_name = \"latitude_longitude\" ;\n",
        "    float32 diff(time, lat, lon) ;\n",
        "      diff:standard_name = \"\" ;\n",
        "      diff:long_name = \"\" ;\n",
        "      diff:grid_mapping = \"latitude_longitude\" ;\n",
        "      diff:units = \"\" ;\n",
        "\n",
        "// global attributes:\n",
        "    :institution = CCCma (Canadian Centre for Climate Modelling and Analysis, Victoria, BC, Canada) ;\n",
        "    :institute_id = CCCma ;\n",
        "    :experiment_id = decadal2010 ;\n",
        "    :source = CanCM4 2010 atmosphere: CanAM4 (AGCM15i, T63L35) ocean: CanOM4 (OGCM4.0, 256x192L40) sea ice: CanSIM1 (Cavitating Fluid, T63 Gaussian Grid) land: CLASS2.7 ;\n",
        "    :model_id = CanCM4 ;\n",
        "    :forcing = GHG,Oz,SA,BC,OC,LU,Sl,Vl (GHG includes CO2,CH4,N2O,CFC11,effective CFC12) ;\n",
        "    :parent_experiment_id = N/A ;\n",
        "    :parent_experiment_rip = N/A ;\n",
        "    :branch_time = 0.0 ;\n",
        "    :contact = cccma_info@ec.gc.ca ;\n",
        "    :references = http://www.cccma.ec.gc.ca/models ;\n",
        "    :initialization_method = 1 ;\n",
        "    :physics_version = 1 ;\n",
        "    :tracking_id = 64384802-3f0f-4ab4-b569-697bd5430854 ;\n",
        "    :branch_time_YMDH = 2011:01:01:00 ;\n",
        "    :CCCma_runid = DHFP1B_E002_I2011_M01 ;\n",
        "    :CCCma_parent_runid = DHFP1_E002 ;\n",
        "    :CCCma_data_licence = 1) GRANT OF LICENCE - The Government of Canada (Environment Canada) is the \n",
        "owner of all intellectual property rights (including copyright) that may exist in this Data \n",
        "product. You (as \"The Licensee\") are hereby granted a non-exclusive, non-assignable, \n",
        "non-transferable unrestricted licence to use this data product for any purpose including \n",
        "the right to share these data with others and to make value-added and derivative \n",
        "products from it. This licence is not a sale of any or all of the owner's rights.\n",
        "2) NO WARRANTY - This Data product is provided \"as-is\"; it has not been designed or \n",
        "prepared to meet the Licensee's particular requirements. Environment Canada makes no \n",
        "warranty, either express or implied, including but not limited to, warranties of \n",
        "merchantability and fitness for a particular purpose. In no event will Environment Canada \n",
        "be liable for any indirect, special, consequential or other damages attributed to the \n",
        "Licensee's use of the Data product. ;\n",
        "    :product = output ;\n",
        "    :experiment = 10- or 30-year run initialized in year 2010 ;\n",
        "    :frequency = day ;\n",
        "    :creation_date = 2012-03-28T15:32:08Z ;\n",
        "    :history = 2012-03-28T15:32:08Z CMOR rewrote data to comply with CF standards and CMIP5 requirements.\n",
        "2014-12-11 21:09:24.613392 UTC ocgis-1.0.1-next: OcgOperations(calc_sample_size=False, optimizations=None, output_format=\"nc\", select_ugid=(25,), format_time=True, select_nearest=False, output_crs=None, time_range=None, calc_grouping=None, prefix=\"diff\", abstraction=\"None\", regrid_destination=None, allow_empty=False, vector_wrap=False, aggregate=False, interpolate_spatial_bounds=False, dataset=RequestDatasetCollection(request_datasets=[RequestDataset(uri=\"/home/ben.koziol/ocgis_test_data/nc/CanCM4/tasmax_day_CanCM4_decadal2010_r2i1p1_20110101-20201231.nc\", variable=\"tasmax\", alias=\"tasmax\", units=None, time_range=None, time_region=None, level_range=None, conform_units_to=None, crs={'no_defs': True, 'ellps': 'WGS84', 'proj': 'longlat', 'towgs84': '0,0,0,0,0,0,0'}, t_units=None, t_calendar=None, did=1, meta={}, s_abstraction=None, dimension_map=None, name=\"tasmax\", driver=\"netCDF\", regrid_source=True, regrid_destination=False), RequestDataset(uri=\"/home/ben.koziol/climate_data/CanCM4/tasmin_day_CanCM4_decadal2010_r2i1p1_20110101-20201231.nc\", variable=\"tasmin\", alias=\"tasmin\", units=None, time_range=None, time_region=None, level_range=None, conform_units_to=None, crs={'no_defs': True, 'ellps': 'WGS84', 'proj': 'longlat', 'towgs84': '0,0,0,0,0,0,0'}, t_units=None, t_calendar=None, did=2, meta={}, s_abstraction=None, dimension_map=None, name=\"tasmin\", driver=\"netCDF\", regrid_source=True, regrid_destination=False)]), dir_output=\"/tmp/tmp4JU0OE\", backend=\"ocg\", search_radius_mult=2.0, add_auxiliary_files=True, slice=None, callback=None, calc_raw=False, agg_selection=False, level_range=None, snippet=False, time_region=None, geom=\"state_boundaries\", regrid_options={'value_mask': None, 'with_corners': 'choose'}, conform_units_to=None, spatial_operation=\"intersects\", headers=None, calc=[{'meta_attrs': None, 'name': None, 'func': 'diff=tasmax-tasmin', 'kwds': OrderedDict()}], file_only=False, ) ;\n",
        "    :Conventions = CF-1.4 ;\n",
        "    :project_id = CMIP5 ;\n",
        "    :table_id = Table day (28 March 2011) f9d6cfec5981bb8be1801b35a81002f0 ;\n",
        "    :title = CanCM4 model output prepared for CMIP5 10- or 30-year run initialized in year 2010 ;\n",
        "    :parent_experiment = N/A ;\n",
        "    :modeling_realm = atmos ;\n",
        "    :realization = 2 ;\n",
        "    :cmor_version = 2.8.0 ;\n",
        "\n"
       ]
      }
     ],
     "input": [
      "rd1 = ocgis.RequestDataset(uri='/home/ben.koziol/ocgis_test_data/nc/CanCM4/tasmax_day_CanCM4_decadal2010_r2i1p1_20110101-20201231.nc',\n",
      "                           variable='tasmax')\n",
      "rd2 = ocgis.RequestDataset(uri='tasmin_day_CanCM4_decadal2010_r2i1p1_20110101-20201231.nc',\n",
      "                           variable='tasmin')\n",
      "calc = 'diff=tasmax-tasmin'\n",
      "ops = ocgis.OcgOperations(dataset=[rd1,rd2],calc=calc,output_format='nc',geom='state_boundaries',\n",
      "                          select_ugid=[25],prefix='diff')\n",
      "ret = ops.execute()\n",
      "print(ocgis.Inspect(ret))"
     ],
     "language": "python",
     "prompt_number": 10
    },
    {
     "cell_type": "markdown",
     "metadata": {},
     "source": [
      "Calculate a sequence of statistics to produce a July time series conforming the target units from Kelvin to Celsius in the process. Perform the calculations on the spatially averaged data for California."
     ]
    },
    {
     "cell_type": "code",
     "execution_count": null,
     "metadata": {},
     "outputs": [
      {
       "output_type": "stream",
       "stream": "stdout",
       "text": [
        "/tmp/tmpBA3o_B/ca_calcs/ca_calcs.csv\n"
       ]
      },
      {
       "output_type": "pyout",
       "prompt_number": 6,
       "text": [
        "True"
       ],
       "metadata": {}
      }
     ],
     "input": [
      "import webbrowser\n",
      "rd = ocgis.RequestDataset(uri=uri,variable=variable,time_region={'month':[7]},conform_units_to='celsius')\n",
      "calc = [{'func':'mean','name':'mean'},\n",
      "        {'func':'std','name':'stdev'},\n",
      "        {'func':'min','name':'min'},\n",
      "        {'func':'max','name':'max'},\n",
      "        {'func':'median','name':'median'},\n",
      "        {'func':'freq_perc','name':'fp_95','kwds':{'percentile':95.0}},\n",
      "        {'func':'freq_perc','name':'fp_5','kwds':{'percentile':5.0}},]\n",
      "calc_grouping = ['month','year']\n",
      "ops = ocgis.OcgOperations(dataset=rd,geom='state_boundaries',select_ugid=[25],spatial_operation='clip',\n",
      "                          output_format='csv',prefix='ca_calcs',aggregate=True,calc=calc,\n",
      "                          calc_grouping=calc_grouping)\n",
      "ret = ops.execute()\n",
      "print(ret)\n",
      "webbrowser.open(ret)"
     ],
     "language": "python",
     "prompt_number": 6
    },
    {
     "cell_type": "markdown",
     "metadata": {},
     "source": [
      "Perform the same operation as above again but return the data as a collection. Print the derived variable aliases."
     ]
    },
    {
     "cell_type": "code",
     "execution_count": null,
     "metadata": {},
     "outputs": [
      {
       "output_type": "stream",
       "stream": "stdout",
       "text": [
        "SpatialCollection([(25, {'tas': <ocgis.interface.base.field.DerivedField object at 0x7fa335777810>})])\n",
        "['mean', 'stdev', 'min', 'max', 'median', 'fp_95', 'fp_5']\n"
       ]
      }
     ],
     "input": [
      "ops.output_format = 'numpy'\n",
      "ret = ops.execute()\n",
      "print(ret)\n",
      "print(ret[25]['tas'].variables.keys())"
     ],
     "language": "python",
     "prompt_number": 12
    },
    {
     "cell_type": "markdown",
     "metadata": {},
     "source": [
      "Variable values are always stored as five dimensions: realization, time, level, row, column"
     ]
    },
    {
     "cell_type": "code",
     "execution_count": null,
     "metadata": {},
     "outputs": [
      {
       "output_type": "stream",
       "stream": "stdout",
       "text": [
        "DerivedVariable(name=\"mean\", alias=\"mean\", units=\"celsius\")\n",
        "(1, 10, 1, 1, 1)\n"
       ]
      }
     ],
     "input": [
      "print(ret[25]['tas'].variables['mean'])\n",
      "print(ret[25]['tas'].variables['mean'].value.shape)"
     ],
     "language": "python",
     "prompt_number": 13
    },
    {
     "cell_type": "markdown",
     "metadata": {},
     "source": [
      "Print some time values from the temporal dimension."
     ]
    },
    {
     "cell_type": "code",
     "execution_count": null,
     "metadata": {},
     "outputs": [
      {
       "output_type": "stream",
       "stream": "stdout",
       "text": [
        "[datetime.datetime(2012, 7, 16, 0, 0) datetime.datetime(2013, 7, 16, 0, 0)\n",
        " datetime.datetime(2014, 7, 16, 0, 0) datetime.datetime(2015, 7, 16, 0, 0)\n",
        " datetime.datetime(2016, 7, 16, 0, 0) datetime.datetime(2017, 7, 16, 0, 0)\n",
        " datetime.datetime(2018, 7, 16, 0, 0) datetime.datetime(2019, 7, 16, 0, 0)\n",
        " datetime.datetime(2020, 7, 16, 0, 0) datetime.datetime(2021, 7, 16, 0, 0)]\n",
        "[[datetime.datetime(2012, 7, 1, 0, 0) datetime.datetime(2012, 8, 1, 0, 0)]\n",
        " [datetime.datetime(2013, 7, 1, 0, 0) datetime.datetime(2013, 8, 1, 0, 0)]\n",
        " [datetime.datetime(2014, 7, 1, 0, 0) datetime.datetime(2014, 8, 1, 0, 0)]\n",
        " [datetime.datetime(2015, 7, 1, 0, 0) datetime.datetime(2015, 8, 1, 0, 0)]\n",
        " [datetime.datetime(2016, 7, 1, 0, 0) datetime.datetime(2016, 8, 1, 0, 0)]\n",
        " [datetime.datetime(2017, 7, 1, 0, 0) datetime.datetime(2017, 8, 1, 0, 0)]\n",
        " [datetime.datetime(2018, 7, 1, 0, 0) datetime.datetime(2018, 8, 1, 0, 0)]\n",
        " [datetime.datetime(2019, 7, 1, 0, 0) datetime.datetime(2019, 8, 1, 0, 0)]\n",
        " [datetime.datetime(2020, 7, 1, 0, 0) datetime.datetime(2020, 8, 1, 0, 0)]\n",
        " [datetime.datetime(2021, 7, 1, 0, 0) datetime.datetime(2021, 8, 1, 0, 0)]]\n"
       ]
      }
     ],
     "input": [
      "print(ret[25]['tas'].temporal.value_datetime)\n",
      "print(ret[25]['tas'].temporal.bounds_datetime)"
     ],
     "language": "python",
     "prompt_number": 14
    },
    {
     "cell_type": "markdown",
     "metadata": {},
     "source": [
      "Print example variable values."
     ]
    },
    {
     "cell_type": "code",
     "execution_count": null,
     "metadata": {},
     "outputs": [
      {
       "output_type": "stream",
       "stream": "stdout",
       "text": [
        "[27.395919799804688 26.349559783935547 24.475841522216797 25.9202938079834\n",
        " 26.619115829467773 23.823287963867188 25.99759864807129 25.825233459472656\n",
        " 26.737850189208984 24.689342498779297]\n"
       ]
      }
     ],
     "input": [
      "print(ret[25]['tas'].variables['mean'].value.squeeze())"
     ],
     "language": "python",
     "prompt_number": 15
    },
    {
     "cell_type": "markdown",
     "metadata": {},
     "source": [
      "Geometries are stored as Shapely objects with associated attributes."
     ]
    },
    {
     "cell_type": "code",
     "execution_count": null,
     "metadata": {},
     "outputs": [
      {
       "output_type": "stream",
       "stream": "stdout",
       "text": [
        "<class 'shapely.geometry.multipolygon.MultiPolygon'>\n",
        "(-124.39263831223747, 32.53578135776605, -114.12523030267519, 42.00219136658233)\n",
        "[(25, '06', 25.0, 'California', 'CA')]\n"
       ]
      }
     ],
     "input": [
      "print(type(ret.geoms[25]))\n",
      "print(ret.geoms[25]).bounds\n",
      "print(ret.properties[25])"
     ],
     "language": "python",
     "prompt_number": 16
    },
    {
     "cell_type": "markdown",
     "metadata": {},
     "source": [
      "Read a data file with a coordinate system, and inspect its properties."
     ]
    },
    {
     "cell_type": "code",
     "execution_count": null,
     "metadata": {},
     "outputs": [
      {
       "output_type": "stream",
       "stream": "stdout",
       "text": [
        "<class 'ocgis.interface.base.crs.CFNarccapObliqueMercator'>\n",
        "{'lonc': -97, 'ellps': 'WGS84', 'y_0': 3175000, 'no_defs': True, 'proj': 'omerc', 'x_0': 3925000, 'units': 'm', 'alpha': 360, 'k': 1, 'gamma': 360, 'lat_0': 47.5}\n",
        "+proj=omerc +lat_0=47.5 +lonc=-97 +alpha=360 +k=1 +x_0=3925000 +y_0=3175000 +gamma=360 +ellps=WGS84 +units=m +no_defs \n"
       ]
      }
     ],
     "input": [
      "uri = 'tas_RCM3_ncep_1981010103.nc'\n",
      "variable = 'tas'\n",
      "rd = ocgis.RequestDataset(uri=uri,variable=variable)\n",
      "field = rd.get()\n",
      "print(type(field.spatial.crs))\n",
      "print(field.spatial.crs.value)\n",
      "print(field.spatial.crs.sr.ExportToProj4())"
     ],
     "language": "python",
     "prompt_number": 7
    },
    {
     "cell_type": "markdown",
     "metadata": {},
     "source": [
      "For three variables, calculate monthly averages for the year 2014 for each U.S. state boundary."
     ]
    },
    {
     "cell_type": "code",
     "execution_count": null,
     "metadata": {},
     "outputs": [
      {
       "output_type": "stream",
       "stream": "stdout",
       "text": [
        "/tmp/tmpBA3o_B/temps/temps.shp\n"
       ]
      }
     ],
     "input": [
      "rd1 = ocgis.RequestDataset(uri='/home/ben.koziol/ocgis_test_data/nc/CanCM4/tasmax_day_CanCM4_decadal2010_r2i1p1_20110101-20201231.nc',\n",
      "                           variable='tasmax')\n",
      "rd2 = ocgis.RequestDataset(uri='tasmin_day_CanCM4_decadal2010_r2i1p1_20110101-20201231.nc',\n",
      "                           variable='tasmin')\n",
      "rd3 = ocgis.RequestDataset(uri='tas_day_CanCM4_decadal2010_r2i1p1_20110101-20201231.nc',\n",
      "                           variable='tas')\n",
      "calc = [{'func':'mean','name':'mean'}]\n",
      "calc_grouping = ['month']\n",
      "ops = ocgis.OcgOperations(dataset=[rd1,rd2,rd3],geom='state_boundaries',aggregate=True,\n",
      "                          output_format='shp',spatial_operation='clip',prefix='temps',\n",
      "                          calc=calc,calc_grouping=calc_grouping,time_region={'year':[2014]},\n",
      "                          headers=['value','calc_alias','year','month','alias'],conform_units_to='fahrenheit')\n",
      "ret = ops.execute()\n",
      "print(ret)"
     ],
     "language": "python",
     "prompt_number": 8
    },
    {
     "cell_type": "code",
     "execution_count": null,
     "metadata": {},
     "outputs": [
      {
       "output_type": "stream",
       "stream": "stdout",
       "text": [
        "2.8125\n",
        "0.125\n",
        "/tmp/tmp4JU0OE/regrid/regrid.shp"
       ]
      },
      {
       "output_type": "stream",
       "stream": "stdout",
       "text": [
        "\n"
       ]
      }
     ],
     "input": [
      "rd_src = ocgis.RequestDataset(uri='tas_day_CanCM4_decadal2010_r2i1p1_20110101-20201231.nc',\n",
      "                           variable='tas')\n",
      "rd_dest = ocgis.RequestDataset(uri='/home/ben.koziol/ocgis_test_data/nc/maurer/2010/nldas_met_update.obs.daily.pr.1991.nc')\n",
      "print rd_src.get().spatial.grid.resolution\n",
      "print rd_dest.get().spatial.grid.resolution\n",
      "\n",
      "ops = ocgis.OcgOperations(dataset=rd_src, regrid_destination=rd_dest, select_ugid=[6, 16, 34], \n",
      "                          agg_selection=True, geom='state_boundaries', snippet=True,\n",
      "                          output_format='shp', prefix='regrid')\n",
      "print ops.execute()"
     ],
     "language": "python",
     "prompt_number": 19
    },
    {
     "cell_type": "markdown",
     "metadata": {},
     "source": [
      "Convert a shapefile to a UGRID netCDF and back to shapefile."
     ]
    },
    {
     "cell_type": "code",
     "execution_count": null,
     "metadata": {},
     "outputs": [
      {
       "output_type": "stream",
       "stream": "stdout",
       "text": [
        "/tmp/tmp4JU0OE/mesh2.nc\n",
        "/tmp/tmp4JU0OE/mesh2.shp"
       ]
      },
      {
       "output_type": "stream",
       "stream": "stdout",
       "text": [
        "\n"
       ]
      }
     ],
     "input": [
      "import os\n",
      "import sys\n",
      "import subprocess\n",
      "sys.path.append('/home/ben.koziol/Dropbox/NESII/project/ugrid/git/src')\n",
      "import ugrid\n",
      "\n",
      "shp_path = '/home/ben.koziol/Dropbox/NESII/project/ugrid/bin/catchment_San_Guad_3reaches.shp'\n",
      "out_nc_path = os.path.join(ocgis.env.DIR_OUTPUT, 'mesh2.nc')\n",
      "print ugrid.shapefile_to_mesh2_nc(out_nc_path, shp_path)\n",
      "\n",
      "shp_path_reconstruct = os.path.join(ocgis.env.DIR_OUTPUT, 'mesh2.shp')\n",
      "print ugrid.mesh2_nc_to_shapefile(out_nc_path, shp_path_reconstruct)"
     ],
     "language": "python",
     "prompt_number": 20
    },
    {
     "cell_type": "code",
     "execution_count": null,
     "metadata": {},
     "outputs": [],
     "input": [
      ""
     ],
     "language": "python"
    }
   ]
  }
 ],
 "cells": [],
 "metadata": {
  "name": "",
  "signature": "sha256:dccc4310bfeb2cf6e162e3387f02ff940d271f69063f5ce519fa6a9d0a48703c"
 },
 "nbformat": 3,
 "nbformat_minor": 0
}