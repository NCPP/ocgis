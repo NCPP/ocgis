{
 "metadata": {
  "name": "GFDL-PMEL-20040606"
 }, 
 "nbformat": 2, 
 "worksheets": [
  {
   "cells": [
    {
     "cell_type": "code", 
     "collapsed": false, 
     "input": [
      "import sys", 
      "## working off development code, so the path to the ocgis package needs to be appended to the Python search path", 
      "sys.path.append('/home/local/WX/ben.koziol/links/git/src')", 
      "import ocgis"
     ], 
     "language": "python", 
     "outputs": [], 
     "prompt_number": 1
    }, 
    {
     "cell_type": "markdown", 
     "source": [
      "Configure some environment variables to point to the head directory containing climate data files used in the demo as well as the output directory."
     ]
    }, 
    {
     "cell_type": "code", 
     "collapsed": true, 
     "input": [
      "ocgis.env.DIR_DATA = '/usr/local/climate_data'", 
      "ocgis.env.DIR_OUTPUT = '/home/local/WX/ben.koziol/Dropbox/nesii/presentation/gfdl_pmel_20140512'"
     ], 
     "language": "python", 
     "outputs": [], 
     "prompt_number": 2
    }, 
    {
     "cell_type": "markdown", 
     "source": [
      "Inspect a target file's metadata. Note: A local path is in theory iterchangeable with an OPeNDAP target. The **RequestDataset** is the standard entry point for beginning most OCGIS operations."
     ]
    }, 
    {
     "cell_type": "code", 
     "collapsed": false, 
     "input": [
      "uri = 'tas_day_CanCM4_decadal2011_r2i1p1_20120101-20211231.nc'", 
      "variable = 'tas'", 
      "rd = ocgis.RequestDataset(uri=uri, variable=variable)", 
      "rd.inspect()"
     ], 
     "language": "python", 
     "outputs": [], 
     "prompt_number": 5
    }, 
    {
     "cell_type": "markdown", 
     "source": [
      "Subset a target file by the boundary of California using an intersects GIS operation (the default), and write the data to an ESRI Shapefile. Select the first time coordinate only."
     ]
    }, 
    {
     "cell_type": "code", 
     "collapsed": false, 
     "input": [
      "geom = '/home/local/WX/ben.koziol/links/shp/state_boundaries/state_boundaries.shp'", 
      "uri = 'tas_day_CanCM4_decadal2011_r2i1p1_20120101-20211231.nc'", 
      "variable = 'tas'", 
      "rd = ocgis.RequestDataset(uri=uri, variable=variable)", 
      "ops = ocgis.OcgOperations(dataset=rd, geom=geom, select_ugid=[25], snippet=True,", 
      "                          output_format='shp', prefix='ca')", 
      "print ops.execute()", 
      "", 
      "# also write the model grid to shapefile...", 
      "print ocgis.OcgOperations(dataset=rd, output_format='shp', snippet=True, prefix='grid').execute()"
     ], 
     "language": "python", 
     "outputs": [], 
     "prompt_number": 7
    }, 
    {
     "cell_type": "markdown", 
     "source": [
      "Spatially average the grid cells clipped to the boundary of California for all the June, July, and August months in the target dataset. Write the output data to CSV."
     ]
    }, 
    {
     "cell_type": "code", 
     "collapsed": false, 
     "input": [
      "import webbrowser", 
      "", 
      "geom = '/home/local/WX/ben.koziol/links/shp/state_boundaries/state_boundaries.shp'", 
      "uri = 'tas_day_CanCM4_decadal2011_r2i1p1_20120101-20211231.nc'", 
      "variable = 'tas'", 
      "rd = ocgis.RequestDataset(uri=uri, variable=variable, time_region={'month': [6,7,8]})", 
      "ops = ocgis.OcgOperations(dataset=rd, geom=geom, select_ugid=[25], spatial_operation='clip',", 
      "                          output_format='csv', prefix='ca_spatial_average', aggregate=True)", 
      "ret = ops.execute()", 
      "print(ret)", 
      "webbrowser.open(ret)"
     ], 
     "language": "python", 
     "outputs": [], 
     "prompt_number": 8
    }, 
    {
     "cell_type": "markdown", 
     "source": [
      "Do the same subset above using a \"Polygon object\", a bounding box, and a point."
     ]
    }, 
    {
     "cell_type": "code", 
     "collapsed": false, 
     "input": [
      "uri = 'tas_day_CanCM4_decadal2011_r2i1p1_20120101-20211231.nc'", 
      "variable = 'tas'", 
      "rd = ocgis.RequestDataset(uri=uri, variable=variable)", 
      "", 
      "geoms_to_process = {'bounding_box': [-125.4, 32.0, -113.8, 42.8], 'point': [-120.0, 37.4]}", 
      "for prefix, geom in geoms_to_process.iteritems():", 
      "    print geom", 
      "    ops = ocgis.OcgOperations(dataset=rd, prefix=prefix, geom=geom, output_format='shp', snippet=True)", 
      "    print ops.execute()"
     ], 
     "language": "python", 
     "outputs": [
      {
       "ename": "ReadingError", 
       "evalue": "Could not create geometry because of errors while reading input.", 
       "output_type": "pyerr", 
       "traceback": [
        "\u001b[0;31m---------------------------------------------------------------------------\u001b[0m\n\u001b[0;31mReadingError\u001b[0m                              Traceback (most recent call last)", 
        "\u001b[0;32m/home/local/WX/ben.koziol/Dropbox/nesii/project/ocg/git/ocgis/examples/ipynb/<ipython-input-4-5832dac63549>\u001b[0m in \u001b[0;36m<module>\u001b[0;34m()\u001b[0m\n\u001b[1;32m      7\u001b[0m \u001b[0;31m## convert that to a polygon object...\u001b[0m\n\u001b[0;34m\u001b[0m\u001b[0m\n\u001b[1;32m      8\u001b[0m \u001b[0;32mfrom\u001b[0m \u001b[0mshapely\u001b[0m \u001b[0;32mimport\u001b[0m \u001b[0mwkt\u001b[0m\u001b[0;34m\u001b[0m\u001b[0m\n\u001b[0;32m----> 9\u001b[0;31m \u001b[0mshapely_geom\u001b[0m \u001b[0;34m=\u001b[0m \u001b[0mwkt\u001b[0m\u001b[0;34m.\u001b[0m\u001b[0mloads\u001b[0m\u001b[0;34m(\u001b[0m\u001b[0mca_wkt\u001b[0m\u001b[0;34m)\u001b[0m\u001b[0;34m\u001b[0m\u001b[0m\n\u001b[0m\u001b[1;32m     10\u001b[0m \u001b[0;34m\u001b[0m\u001b[0m\n\u001b[1;32m     11\u001b[0m \u001b[0mgeoms_to_process\u001b[0m \u001b[0;34m=\u001b[0m \u001b[0;34m{\u001b[0m\u001b[0;34m'shapely'\u001b[0m\u001b[0;34m:\u001b[0m \u001b[0mshapely_geom\u001b[0m\u001b[0;34m,\u001b[0m \u001b[0;34m'bounding_box'\u001b[0m\u001b[0;34m:\u001b[0m \u001b[0mgeom\u001b[0m\u001b[0;34m.\u001b[0m\u001b[0mbounds\u001b[0m\u001b[0;34m,\u001b[0m \u001b[0;34m'point'\u001b[0m\u001b[0;34m:\u001b[0m \u001b[0mgeom\u001b[0m\u001b[0;34m.\u001b[0m\u001b[0mcentroid\u001b[0m\u001b[0;34m}\u001b[0m\u001b[0;34m\u001b[0m\u001b[0m\n", 
        "\u001b[0;32m/usr/local/lib/python2.7/dist-packages/shapely/wkt.pyc\u001b[0m in \u001b[0;36mloads\u001b[0;34m(data)\u001b[0m\n\u001b[1;32m     15\u001b[0m     \u001b[0;32mif\u001b[0m \u001b[0;32mnot\u001b[0m \u001b[0mgeom\u001b[0m\u001b[0;34m:\u001b[0m\u001b[0;34m\u001b[0m\u001b[0m\n\u001b[1;32m     16\u001b[0m         \u001b[0;32mraise\u001b[0m \u001b[0mReadingError\u001b[0m\u001b[0;34m,\u001b[0m\u001b[0;31m \u001b[0m\u001b[0;31m\\\u001b[0m\u001b[0;34m\u001b[0m\u001b[0m\n\u001b[0;32m---> 17\u001b[0;31m         \u001b[0;34m\"Could not create geometry because of errors while reading input.\"\u001b[0m\u001b[0;34m\u001b[0m\u001b[0m\n\u001b[0m\u001b[1;32m     18\u001b[0m     \u001b[0;32mreturn\u001b[0m \u001b[0mgeom_factory\u001b[0m\u001b[0;34m(\u001b[0m\u001b[0mgeom\u001b[0m\u001b[0;34m)\u001b[0m\u001b[0;34m\u001b[0m\u001b[0m\n\u001b[1;32m     19\u001b[0m \u001b[0;34m\u001b[0m\u001b[0m\n", 
        "\u001b[0;31mReadingError\u001b[0m: Could not create geometry because of errors while reading input."
       ]
      }
     ], 
     "prompt_number": 4
    }, 
    {
     "cell_type": "markdown", 
     "source": [
      "Perform a difference calulation between two variables using a string function. Inspect the metadata of the output NetCDF file."
     ]
    }, 
    {
     "cell_type": "code", 
     "collapsed": false, 
     "input": [
      "rd1 = ocgis.RequestDataset(uri='tasmax_day_CanCM4_decadal2010_r2i1p1_20110101-20201231.nc',", 
      "                           variable='tasmax')", 
      "rd2 = ocgis.RequestDataset(uri='tasmin_day_CanCM4_decadal2010_r2i1p1_20110101-20201231.nc',", 
      "                           variable='tasmin')", 
      "calc = 'diff=tasmax-tasmin'", 
      "ops = ocgis.OcgOperations(dataset=[rd1,rd2], calc=calc, output_format='nc', geom='state_boundaries',", 
      "                          select_ugid=[25], prefix='diff', add_auxiliary_files=False)", 
      "ret = ops.execute()", 
      "print(ocgis.Inspect(ret))"
     ], 
     "language": "python", 
     "outputs": [], 
     "prompt_number": 9
    }, 
    {
     "cell_type": "markdown", 
     "source": [
      "Calculate a sequence of statistics to produce a July time series conforming the target units from Kelvin to Celsius in the process. Perform the calculations on the spatially averaged data for California."
     ]
    }, 
    {
     "cell_type": "code", 
     "collapsed": false, 
     "input": [
      "geom = '/home/local/WX/ben.koziol/links/shp/state_boundaries/state_boundaries.shp'", 
      "uri = 'tas_day_CanCM4_decadal2011_r2i1p1_20120101-20211231.nc'", 
      "variable = 'tas'", 
      "", 
      "rd = ocgis.RequestDataset(uri=uri, variable=variable, time_region={'month': [7]}, conform_units_to='celsius')", 
      "", 
      "calc = [{'func': 'mean','name': 'mean'},", 
      "        {'func': 'std','name': 'stdev'},", 
      "        {'func': 'min','name': 'min'},", 
      "        {'func': 'max','name': 'max'},", 
      "        {'func': 'median','name': 'median'},", 
      "        {'func': 'freq_perc','name': 'fp_95','kwds':{'percentile': 95.0}},", 
      "        {'func': 'freq_perc','name': 'fp_5','kwds':{'percentile': 5.0}},]", 
      "", 
      "calc_grouping = ['month', 'year']", 
      "", 
      "ops = ocgis.OcgOperations(dataset=rd, geom=geom, select_ugid=[25], spatial_operation='clip',", 
      "                          output_format='csv', prefix='ca_calcs', aggregate=True, calc=calc,", 
      "                          calc_grouping=calc_grouping)", 
      "ret = ops.execute()", 
      "print(ret)", 
      "webbrowser.open(ret)"
     ], 
     "language": "python", 
     "outputs": [], 
     "prompt_number": 10
    }, 
    {
     "cell_type": "markdown", 
     "source": [
      "Perform the same operation as above again but return the data as a collection. Print the derived variable aliases."
     ]
    }, 
    {
     "cell_type": "code", 
     "collapsed": false, 
     "input": [
      "ops.output_format = 'numpy'", 
      "ret = ops.execute()", 
      "print(ret)", 
      "print(ret[25]['tas'].variables.keys())"
     ], 
     "language": "python", 
     "outputs": [], 
     "prompt_number": 11
    }, 
    {
     "cell_type": "markdown", 
     "source": [
      "Variable values are always stored as five dimensions: realization, time, level, row, column"
     ]
    }, 
    {
     "cell_type": "code", 
     "collapsed": false, 
     "input": [
      "print(ret[25]['tas'].variables['mean'])", 
      "print(ret[25]['tas'].variables['mean'].value.shape)"
     ], 
     "language": "python", 
     "outputs": [], 
     "prompt_number": 12
    }, 
    {
     "cell_type": "markdown", 
     "source": [
      "Print some time values from the temporal dimension."
     ]
    }, 
    {
     "cell_type": "code", 
     "collapsed": false, 
     "input": [
      "print(ret[25]['tas'].temporal.value_datetime)", 
      "print(ret[25]['tas'].temporal.bounds_datetime)"
     ], 
     "language": "python", 
     "outputs": [], 
     "prompt_number": 13
    }, 
    {
     "cell_type": "markdown", 
     "source": [
      "Print example variable values."
     ]
    }, 
    {
     "cell_type": "code", 
     "collapsed": false, 
     "input": [
      "print(ret[25]['tas'].variables['mean'].value.squeeze())"
     ], 
     "language": "python", 
     "outputs": [], 
     "prompt_number": 14
    }, 
    {
     "cell_type": "markdown", 
     "source": [
      "Geometries are stored as Shapely objects with associated attributes."
     ]
    }, 
    {
     "cell_type": "code", 
     "collapsed": false, 
     "input": [
      "print(type(ret.geoms[25]))", 
      "print(ret.geoms[25]).bounds", 
      "print(ret.properties[25])"
     ], 
     "language": "python", 
     "outputs": [], 
     "prompt_number": 15
    }, 
    {
     "cell_type": "markdown", 
     "source": [
      "Read a data file with a coordinate system, and inspect its properties."
     ]
    }, 
    {
     "cell_type": "code", 
     "collapsed": false, 
     "input": [
      "uri = 'tas_RCM3_ncep_1981010103.nc'", 
      "variable = 'tas'", 
      "rd = ocgis.RequestDataset(uri=uri,variable=variable)", 
      "field = rd.get()", 
      "print(field.spatial.crs)", 
      "print(field.spatial.crs.sr.ExportToProj4())"
     ], 
     "language": "python", 
     "outputs": [], 
     "prompt_number": 17
    }, 
    {
     "cell_type": "markdown", 
     "source": [
      "For three variables, calculate monthly averages for the year 2014 for each U.S. state boundary."
     ]
    }, 
    {
     "cell_type": "code", 
     "collapsed": false, 
     "input": [
      "rd1 = ocgis.RequestDataset(uri='tasmax_day_CanCM4_decadal2010_r2i1p1_20110101-20201231.nc',", 
      "                           variable='tasmax')", 
      "rd2 = ocgis.RequestDataset(uri='tasmin_day_CanCM4_decadal2010_r2i1p1_20110101-20201231.nc',", 
      "                           variable='tasmin')", 
      "rd3 = ocgis.RequestDataset(uri='tas_day_CanCM4_decadal2010_r2i1p1_20110101-20201231.nc',", 
      "                           variable='tas')", 
      "calc = [{'func': 'mean','name': 'mean'}]", 
      "calc_grouping = ['month']", 
      "geom = '/home/local/WX/ben.koziol/Dropbox/nesii/project/ocg/bin/shp/state_boundaries/state_boundaries.shp'", 
      "ops = ocgis.OcgOperations(dataset=[rd1,rd2,rd3], geom=geom, aggregate=True,", 
      "                          output_format='shp', spatial_operation='clip', prefix='temps',", 
      "                          calc=calc, calc_grouping=calc_grouping, time_region={'year': [2014]},", 
      "                          headers=['value', 'calc_alias', 'year', 'month', 'variable'], ", 
      "                          conform_units_to='fahrenheit')", 
      "ret = ops.execute()", 
      "print(ret)"
     ], 
     "language": "python", 
     "outputs": [], 
     "prompt_number": 19
    }
   ]
  }
 ]
}