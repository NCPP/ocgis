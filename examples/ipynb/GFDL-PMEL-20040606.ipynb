{
 "metadata": {
  "name": "GFDL-PMEL-20040606"
 }, 
 "nbformat": 2, 
 "worksheets": [
  {
   "cells": [
    {
     "cell_type": "code", 
     "collapsed": true, 
     "input": [
      "import sys", 
      "## working off development code, so the path to the ocgis package needs to be appended to the Python search path", 
      "sys.path.append('/home/local/WX/ben.koziol/links/git/src')", 
      "import ocgis"
     ], 
     "language": "python", 
     "outputs": [], 
     "prompt_number": 1
    }, 
    {
     "cell_type": "markdown", 
     "source": [
      "Configure some environment variables to point to the head directory containing climate data files used in the demo as well as the output directory."
     ]
    }, 
    {
     "cell_type": "code", 
     "collapsed": true, 
     "input": [
      "ocgis.env.DIR_DATA = '/usr/local/climate_data'", 
      "ocgis.env.DIR_OUTPUT = '/home/local/WX/ben.koziol/Dropbox/nesii/presentation/gfdl_pmel_20140512'"
     ], 
     "language": "python", 
     "outputs": [], 
     "prompt_number": 2
    }, 
    {
     "cell_type": "markdown", 
     "source": [
      "Inspect a target file's metadata. Note: A local path is in theory iterchangeable with an OPeNDAP target. The **RequestDataset** is the standard entry point for beginning most OCGIS operations."
     ]
    }, 
    {
     "cell_type": "code", 
     "collapsed": false, 
     "input": [
      "uri = 'tas_day_CanCM4_decadal2011_r2i1p1_20120101-20211231.nc'", 
      "variable = 'tas'", 
      "rd = ocgis.RequestDataset(uri=uri, variable=variable)", 
      "rd.inspect()"
     ], 
     "language": "python", 
     "outputs": [
      {
       "output_type": "pyout", 
       "prompt_number": 3, 
       "text": [
        "", 
        "URI = /usr/local/climate_data/CanCM4/tas_day_CanCM4_decadal2011_r2i1p1_20120101-20211231.nc", 
        "VARIABLE = tas", 
        "ALIAS = tas", 
        "DID = None", 
        "", 
        "=== Temporal =============", 
        "", 
        "       Start Date = 2012-01-01 00:00:00", 
        "         End Date = 2022-01-01 00:00:00", 
        "         Calendar = 365_day", 
        "            Units = days since 1850-1-1", 
        "Resolution (Days) = 1", 
        "            Count = 3650", 
        "       Has Bounds = True", 
        "", 
        "=== Spatial ==============", 
        "", 
        "Spatial Reference = CFWGS84", 
        "     Proj4 String = +proj=longlat +ellps=WGS84 +towgs84=0,0,0,0,0,0,0 +no_defs ", 
        "           Extent = (-1.40625, -90.0, 358.59375, 90.0)", 
        "   Interface Type = SpatialGeometryPolygonDimension", 
        "       Resolution = 2.8125", 
        "            Count = 8192", 
        "", 
        "=== Level ================", 
        "", 
        "No level dimension found.", 
        "", 
        "=== Dump =================", 
        "", 
        "dimensions:", 
        "    time = ISUNLIMITED ; // 3650 currently", 
        "    lat = 64 ;", 
        "    lon = 128 ;", 
        "    bnds = 2 ;", 
        "", 
        "variables:", 
        "    float64 time(time) ;", 
        "      time:bounds = \"time_bnds\" ;", 
        "      time:units = \"days since 1850-1-1\" ;", 
        "      time:calendar = \"365_day\" ;", 
        "      time:axis = \"T\" ;", 
        "      time:long_name = \"time\" ;", 
        "      time:standard_name = \"time\" ;", 
        "    float64 time_bnds(time, bnds) ;", 
        "    float64 lat(lat) ;", 
        "      lat:bounds = \"lat_bnds\" ;", 
        "      lat:units = \"degrees_north\" ;", 
        "      lat:axis = \"Y\" ;", 
        "      lat:long_name = \"latitude\" ;", 
        "      lat:standard_name = \"latitude\" ;", 
        "    float64 lat_bnds(lat, bnds) ;", 
        "    float64 lon(lon) ;", 
        "      lon:bounds = \"lon_bnds\" ;", 
        "      lon:units = \"degrees_east\" ;", 
        "      lon:axis = \"X\" ;", 
        "      lon:long_name = \"longitude\" ;", 
        "      lon:standard_name = \"longitude\" ;", 
        "    float64 lon_bnds(lon, bnds) ;", 
        "    float64 height() ;", 
        "      height:units = \"m\" ;", 
        "      height:axis = \"Z\" ;", 
        "      height:positive = \"up\" ;", 
        "      height:long_name = \"height\" ;", 
        "      height:standard_name = \"height\" ;", 
        "    float32 tas(time, lat, lon) ;", 
        "      tas:standard_name = \"air_temperature\" ;", 
        "      tas:long_name = \"Near-Surface Air Temperature\" ;", 
        "      tas:units = \"K\" ;", 
        "      tas:original_name = \"ST\" ;", 
        "      tas:cell_methods = \"time: mean (interval: 15 minutes)\" ;", 
        "      tas:cell_measures = \"area: areacella\" ;", 
        "      tas:history = \"2012-03-29T19:30:46Z altered by CMOR: Treated scalar dimension: 'height'. 2012-03-29T19:30:46Z altered by CMOR: replaced missing value flag (1e+38) with standard missing value (1e+20).\" ;", 
        "      tas:coordinates = \"height\" ;", 
        "      tas:missing_value = \"1.00000002004e+20\" ;", 
        "      tas:associated_files = \"baseURL: http://cmip-pcmdi.llnl.gov/CMIP5/dataLocation gridspecFile: gridspec_atmos_fx_CanCM4_decadal2011_r0i0p0.nc areacella: areacella_fx_CanCM4_decadal2011_r0i0p0.nc\" ;", 
        "", 
        "// global attributes:", 
        "    :institution = CCCma (Canadian Centre for Climate Modelling and Analysis, Victoria, BC, Canada) ;", 
        "    :institute_id = CCCma ;", 
        "    :experiment_id = decadal2011 ;", 
        "    :source = CanCM4 2010 atmosphere: CanAM4 (AGCM15i, T63L35) ocean: CanOM4 (OGCM4.0, 256x192L40) sea ice: CanSIM1 (Cavitating Fluid, T63 Gaussian Grid) land: CLASS2.7 ;", 
        "    :model_id = CanCM4 ;", 
        "    :forcing = GHG,Oz,SA,BC,OC,LU,Sl,Vl (GHG includes CO2,CH4,N2O,CFC11,effective CFC12) ;", 
        "    :parent_experiment_id = N/A ;", 
        "    :parent_experiment_rip = N/A ;", 
        "    :branch_time = 0.0 ;", 
        "    :contact = cccma_info@ec.gc.ca ;", 
        "    :references = http://www.cccma.ec.gc.ca/models ;", 
        "    :initialization_method = 1 ;", 
        "    :physics_version = 1 ;", 
        "    :tracking_id = 4c57c1e8-1254-464c-b6a9-baf2133985f9 ;", 
        "    :branch_time_YMDH = 2012:01:01:00 ;", 
        "    :CCCma_runid = DHFP1B_E002_I2012_M01 ;", 
        "    :CCCma_parent_runid = DHFP1_E002 ;", 
        "    :CCCma_data_licence = 1) GRANT OF LICENCE - The Government of Canada (Environment Canada) is the ", 
        "owner of all intellectual property rights (including copyright) that may exist in this Data ", 
        "product. You (as \"The Licensee\") are hereby granted a non-exclusive, non-assignable, ", 
        "non-transferable unrestricted licence to use this data product for any purpose including ", 
        "the right to share these data with others and to make value-added and derivative ", 
        "products from it. This licence is not a sale of any or all of the owner's rights.", 
        "2) NO WARRANTY - This Data product is provided \"as-is\"; it has not been designed or ", 
        "prepared to meet the Licensee's particular requirements. Environment Canada makes no ", 
        "warranty, either express or implied, including but not limited to, warranties of ", 
        "merchantability and fitness for a particular purpose. In no event will Environment Canada ", 
        "be liable for any indirect, special, consequential or other damages attributed to the ", 
        "Licensee's use of the Data product. ;", 
        "    :product = output ;", 
        "    :experiment = 10- or 30-year run initialized in year 2011 ;", 
        "    :frequency = day ;", 
        "    :creation_date = 2012-03-29T19:30:46Z ;", 
        "    :history = 2012-03-29T19:30:46Z CMOR rewrote data to comply with CF standards and CMIP5 requirements. ;", 
        "    :Conventions = CF-1.4 ;", 
        "    :project_id = CMIP5 ;", 
        "    :table_id = Table day (28 March 2011) f9d6cfec5981bb8be1801b35a81002f0 ;", 
        "    :title = CanCM4 model output prepared for CMIP5 10- or 30-year run initialized in year 2011 ;", 
        "    :parent_experiment = N/A ;", 
        "    :modeling_realm = atmos ;", 
        "    :realization = 2 ;", 
        "    :cmor_version = 2.8.0 ;", 
        ""
       ]
      }
     ], 
     "prompt_number": 3
    }, 
    {
     "cell_type": "markdown", 
     "source": [
      "The basic object in OCGIS is the Field object. Get a Field from a RequestDataset and look at the spatial dimension."
     ]
    }, 
    {
     "cell_type": "code", 
     "collapsed": false, 
     "input": [
      "uri = 'tas_day_CanCM4_decadal2011_r2i1p1_20120101-20211231.nc'", 
      "variable = 'tas'", 
      "rd = ocgis.RequestDataset(uri=uri)", 
      "field = rd.get()", 
      "print(field.spatial.grid.resolution)", 
      "print(field.spatial.geom.polygon.value[10,10])", 
      "print(field.spatial.geom.polygon.shape)", 
      "print(field.spatial.geom.point.value[10,10])", 
      "print(field.spatial.grid.value[:,10,10])", 
      "print(field.variables)", 
      "print(field.meta.keys())"
     ], 
     "language": "python", 
     "outputs": [
      {
       "output_type": "stream", 
       "stream": "stdout", 
       "text": [
        "2.8125", 
        "POLYGON ((26.71875 -61.39218845820535, 26.71875 -58.60182832254544, 29.53125 -58.60182832254544, 29.53125 -61.39218845820535, 26.71875 -61.39218845820535))"
       ]
      }, 
      {
       "output_type": "stream", 
       "stream": "stdout", 
       "text": [
        "", 
        "(64, 128)", 
        "POINT (28.125 -59.99702261296947)"
       ]
      }, 
      {
       "output_type": "stream", 
       "stream": "stdout", 
       "text": [
        "", 
        "[-59.997022613 28.125]", 
        "VariableCollection([(u'tas', Variable(alias=\"tas\",name=\"tas\",units=\"K\"))])", 
        "['dataset', 'file_format', 'variables', 'dimensions', 'dim_map']"
       ]
      }
     ], 
     "prompt_number": 7
    }, 
    {
     "cell_type": "markdown", 
     "source": [
      "Subset a target file by the boundary of California using an intersects GIS operation (the default), and write the data to an ESRI Shapefile. Select the first time coordinate only."
     ]
    }, 
    {
     "cell_type": "code", 
     "collapsed": false, 
     "input": [
      "geom = '/home/local/WX/ben.koziol/links/shp/state_boundaries/state_boundaries.shp'", 
      "uri = 'tas_day_CanCM4_decadal2011_r2i1p1_20120101-20211231.nc'", 
      "variable = 'tas'", 
      "rd = ocgis.RequestDataset(uri=uri, variable=variable)", 
      "ops = ocgis.OcgOperations(dataset=rd, geom=geom, select_ugid=[25], snippet=True,", 
      "                          output_format='shp', prefix='ca')", 
      "print ops.execute()", 
      "", 
      "# also write the model grid to shapefile...", 
      "print ocgis.OcgOperations(dataset=rd, output_format='shp', snippet=True, prefix='grid').execute()"
     ], 
     "language": "python", 
     "outputs": [
      {
       "output_type": "stream", 
       "stream": "stdout", 
       "text": [
        "/home/local/WX/ben.koziol/Dropbox/nesii/presentation/gfdl_pmel_20140512/ca/ca.shp", 
        "/home/local/WX/ben.koziol/Dropbox/nesii/presentation/gfdl_pmel_20140512/grid/grid.shp"
       ]
      }, 
      {
       "output_type": "stream", 
       "stream": "stdout", 
       "text": [
        ""
       ]
      }
     ], 
     "prompt_number": 8
    }, 
    {
     "cell_type": "markdown", 
     "source": [
      "Spatially average the grid cells clipped to the boundary of California for all the June, July, and August months in the target dataset. Write the output data to CSV."
     ]
    }, 
    {
     "cell_type": "code", 
     "collapsed": false, 
     "input": [
      "import webbrowser", 
      "", 
      "geom = '/home/local/WX/ben.koziol/links/shp/state_boundaries/state_boundaries.shp'", 
      "uri = 'tas_day_CanCM4_decadal2011_r2i1p1_20120101-20211231.nc'", 
      "variable = 'tas'", 
      "rd = ocgis.RequestDataset(uri=uri, variable=variable, time_region={'month': [6,7,8]})", 
      "ops = ocgis.OcgOperations(dataset=rd, geom=geom, select_ugid=[25], spatial_operation='clip',", 
      "                          output_format='csv', prefix='ca_spatial_average', aggregate=True)", 
      "ret = ops.execute()", 
      "print(ret)", 
      "webbrowser.open(ret)"
     ], 
     "language": "python", 
     "outputs": [
      {
       "output_type": "stream", 
       "stream": "stdout", 
       "text": [
        "/home/local/WX/ben.koziol/Dropbox/nesii/presentation/gfdl_pmel_20140512/ca_spatial_average/ca_spatial_average.csv"
       ]
      }, 
      {
       "output_type": "pyout", 
       "prompt_number": 9, 
       "text": [
        "True"
       ]
      }
     ], 
     "prompt_number": 9
    }, 
    {
     "cell_type": "markdown", 
     "source": [
      "Do the same subset above using a \"Polygon object\", a bounding box, and a point."
     ]
    }, 
    {
     "cell_type": "code", 
     "collapsed": false, 
     "input": [
      "uri = 'tas_day_CanCM4_decadal2011_r2i1p1_20120101-20211231.nc'", 
      "variable = 'tas'", 
      "rd = ocgis.RequestDataset(uri=uri, variable=variable)", 
      "", 
      "geoms_to_process = {'bounding_box': [-125.4, 32.0, -113.8, 42.8], 'point': [-120.0, 37.4]}", 
      "for prefix, geom in geoms_to_process.iteritems():", 
      "    print geom", 
      "    ops = ocgis.OcgOperations(dataset=rd, prefix=prefix, geom=geom, output_format='shp', snippet=True)", 
      "    print ops.execute()"
     ], 
     "language": "python", 
     "outputs": [
      {
       "output_type": "stream", 
       "stream": "stdout", 
       "text": [
        "[-125.4, 32.0, -113.8, 42.8]", 
        "/home/local/WX/ben.koziol/Dropbox/nesii/presentation/gfdl_pmel_20140512/bounding_box/bounding_box.shp"
       ]
      }, 
      {
       "output_type": "stream", 
       "stream": "stdout", 
       "text": [
        "", 
        "[-120.0, 37.4]", 
        "/home/local/WX/ben.koziol/Dropbox/nesii/presentation/gfdl_pmel_20140512/point/point.shp"
       ]
      }, 
      {
       "output_type": "stream", 
       "stream": "stdout", 
       "text": [
        ""
       ]
      }
     ], 
     "prompt_number": 10
    }, 
    {
     "cell_type": "markdown", 
     "source": [
      "Perform a difference calulation between two variables using a string function. Inspect the metadata of the output NetCDF file."
     ]
    }, 
    {
     "cell_type": "code", 
     "collapsed": false, 
     "input": [
      "rd1 = ocgis.RequestDataset(uri='tasmax_day_CanCM4_decadal2010_r2i1p1_20110101-20201231.nc',", 
      "                           variable='tasmax')", 
      "rd2 = ocgis.RequestDataset(uri='tasmin_day_CanCM4_decadal2010_r2i1p1_20110101-20201231.nc',", 
      "                           variable='tasmin')", 
      "calc = 'diff=tasmax-tasmin'", 
      "ops = ocgis.OcgOperations(dataset=[rd1,rd2], calc=calc, output_format='nc', geom='state_boundaries',", 
      "                          select_ugid=[25], prefix='diff', add_auxiliary_files=False)", 
      "ret = ops.execute()", 
      "print(ocgis.Inspect(ret))"
     ], 
     "language": "python", 
     "outputs": [
      {
       "output_type": "stream", 
       "stream": "stdout", 
       "text": [
        "", 
        "URI = /home/local/WX/ben.koziol/Dropbox/nesii/presentation/gfdl_pmel_20140512/diff.nc", 
        "VARIABLE = None", 
        "", 
        "dimensions:", 
        "    time = ISUNLIMITED ; // 3650 currently", 
        "    lat = 5 ;", 
        "    lon = 4 ;", 
        "    bnds = 2 ;", 
        "", 
        "variables:", 
        "    float64 time_bnds(time, bnds) ;", 
        "      time_bnds:units = \"days since 1850-1-1\" ;", 
        "      time_bnds:calendar = \"365_day\" ;", 
        "    float64 time(time) ;", 
        "      time:units = \"days since 1850-1-1\" ;", 
        "      time:calendar = \"365_day\" ;", 
        "      time:bounds = \"time_bnds\" ;", 
        "      time:axis = \"T\" ;", 
        "      time:long_name = \"time\" ;", 
        "      time:standard_name = \"time\" ;", 
        "    float64 lat(lat) ;", 
        "      lat:bounds = \"lat_bnds\" ;", 
        "      lat:units = \"degrees_north\" ;", 
        "      lat:axis = \"Y\" ;", 
        "      lat:long_name = \"latitude\" ;", 
        "      lat:standard_name = \"latitude\" ;", 
        "    float64 lon(lon) ;", 
        "      lon:bounds = \"lon_bnds\" ;", 
        "      lon:units = \"degrees_east\" ;", 
        "      lon:axis = \"X\" ;", 
        "      lon:long_name = \"longitude\" ;", 
        "      lon:standard_name = \"longitude\" ;", 
        "    float64 lat_bnds(lat, bnds) ;", 
        "    float64 lon_bnds(lon, bnds) ;", 
        "    float32 diff(time, lat, lon) ;", 
        "      diff:long_name = \"\" ;", 
        "      diff:standard_name = \"\" ;", 
        "      diff:units = \"\" ;", 
        "", 
        "// global attributes:", 
        "    :institution = CCCma (Canadian Centre for Climate Modelling and Analysis, Victoria, BC, Canada) ;", 
        "    :institute_id = CCCma ;", 
        "    :experiment_id = decadal2010 ;", 
        "    :source = CanCM4 2010 atmosphere: CanAM4 (AGCM15i, T63L35) ocean: CanOM4 (OGCM4.0, 256x192L40) sea ice: CanSIM1 (Cavitating Fluid, T63 Gaussian Grid) land: CLASS2.7 ;", 
        "    :model_id = CanCM4 ;", 
        "    :forcing = GHG,Oz,SA,BC,OC,LU,Sl,Vl (GHG includes CO2,CH4,N2O,CFC11,effective CFC12) ;", 
        "    :parent_experiment_id = N/A ;", 
        "    :parent_experiment_rip = N/A ;", 
        "    :branch_time = 0.0 ;", 
        "    :contact = cccma_info@ec.gc.ca ;", 
        "    :references = http://www.cccma.ec.gc.ca/models ;", 
        "    :initialization_method = 1 ;", 
        "    :physics_version = 1 ;", 
        "    :tracking_id = 64384802-3f0f-4ab4-b569-697bd5430854 ;", 
        "    :branch_time_YMDH = 2011:01:01:00 ;", 
        "    :CCCma_runid = DHFP1B_E002_I2011_M01 ;", 
        "    :CCCma_parent_runid = DHFP1_E002 ;", 
        "    :CCCma_data_licence = 1) GRANT OF LICENCE - The Government of Canada (Environment Canada) is the ", 
        "owner of all intellectual property rights (including copyright) that may exist in this Data ", 
        "product. You (as \"The Licensee\") are hereby granted a non-exclusive, non-assignable, ", 
        "non-transferable unrestricted licence to use this data product for any purpose including ", 
        "the right to share these data with others and to make value-added and derivative ", 
        "products from it. This licence is not a sale of any or all of the owner's rights.", 
        "2) NO WARRANTY - This Data product is provided \"as-is\"; it has not been designed or ", 
        "prepared to meet the Licensee's particular requirements. Environment Canada makes no ", 
        "warranty, either express or implied, including but not limited to, warranties of ", 
        "merchantability and fitness for a particular purpose. In no event will Environment Canada ", 
        "be liable for any indirect, special, consequential or other damages attributed to the ", 
        "Licensee's use of the Data product. ;", 
        "    :product = output ;", 
        "    :experiment = 10- or 30-year run initialized in year 2010 ;", 
        "    :frequency = day ;", 
        "    :creation_date = 2012-03-28T15:32:08Z ;", 
        "    :history = 2012-03-28T15:32:08Z CMOR rewrote data to comply with CF standards and CMIP5 requirements.", 
        "2014-08-06 19:20:49.738219 UTC ocgis-0.08b-next: OcgOperations(calc_sample_size=False, optimizations=None, output_format=\"nc\", select_ugid=(25,), format_time=True, select_nearest=False, output_crs=None, time_range=None, calc_grouping=None, prefix=\"diff\", abstraction=\"None\", allow_empty=False, vector_wrap=False, aggregate=False, interpolate_spatial_bounds=False, dataset=RequestDatasetCollection(request_datasets=[RequestDataset(uri=\"/usr/local/climate_data/CanCM4/tasmax_day_CanCM4_decadal2010_r2i1p1_20110101-20201231.nc\", variable=\"tasmax\", alias=\"tasmax\", units=None, time_range=None, time_region=None, level_range=None, conform_units_to=None, crs=CoordinateReferenceSystem(value={'no_defs': True, 'ellps': 'WGS84', 'proj': 'longlat', 'towgs84': '0,0,0,0,0,0,0'}), t_units=None, t_calendar=None, did=1, meta={}, s_abstraction=None, dimension_map=None, name=\"tasmax\", driver=\"netCDF\"), RequestDataset(uri=\"/usr/local/climate_data/CanCM4/tasmin_day_CanCM4_decadal2010_r2i1p1_20110101-20201231.nc\", variable=\"tasmin\", alias=\"tasmin\", units=None, time_range=None, time_region=None, level_range=None, conform_units_to=None, crs=CoordinateReferenceSystem(value={'no_defs': True, 'ellps': 'WGS84', 'proj': 'longlat', 'towgs84': '0,0,0,0,0,0,0'}), t_units=None, t_calendar=None, did=2, meta={}, s_abstraction=None, dimension_map=None, name=\"tasmin\", driver=\"netCDF\")]), dir_output=\"/home/local/WX/ben.koziol/Dropbox/nesii/presentation/gfdl_pmel_20140512\", backend=\"ocg\", search_radius_mult=2.0, add_auxiliary_files=False, slice=None, callback=None, calc_raw=False, agg_selection=False, level_range=None, snippet=False, time_region=None, geom=\"state_boundaries\", conform_units_to=None, spatial_operation=\"intersects\", headers=None, calc=[{'meta_attrs': None, 'name': None, 'func': 'diff=tasmax-tasmin', 'kwds': OrderedDict()}], file_only=False, ) ;", 
        "    :Conventions = CF-1.4 ;", 
        "    :project_id = CMIP5 ;", 
        "    :table_id = Table day (28 March 2011) f9d6cfec5981bb8be1801b35a81002f0 ;", 
        "    :title = CanCM4 model output prepared for CMIP5 10- or 30-year run initialized in year 2010 ;", 
        "    :parent_experiment = N/A ;", 
        "    :modeling_realm = atmos ;", 
        "    :realization = 2 ;", 
        "    :cmor_version = 2.8.0 ;", 
        ""
       ]
      }
     ], 
     "prompt_number": 11
    }, 
    {
     "cell_type": "markdown", 
     "source": [
      "Calculate a sequence of statistics to produce a July time series conforming the target units from Kelvin to Celsius in the process. Perform the calculations on the spatially averaged data for California."
     ]
    }, 
    {
     "cell_type": "code", 
     "collapsed": false, 
     "input": [
      "import webbrowser", 
      "", 
      "geom = '/home/local/WX/ben.koziol/links/shp/state_boundaries/state_boundaries.shp'", 
      "uri = 'tas_day_CanCM4_decadal2011_r2i1p1_20120101-20211231.nc'", 
      "variable = 'tas'", 
      "", 
      "rd = ocgis.RequestDataset(uri=uri, variable=variable, time_region={'month': [7]}, conform_units_to='celsius')", 
      "", 
      "calc = [{'func': 'mean','name': 'mean'},", 
      "        {'func': 'std','name': 'stdev'},", 
      "        {'func': 'min','name': 'min'},", 
      "        {'func': 'max','name': 'max'},", 
      "        {'func': 'median','name': 'median'},", 
      "        {'func': 'freq_perc','name': 'fp_95','kwds':{'percentile': 95.0}},", 
      "        {'func': 'freq_perc','name': 'fp_5','kwds':{'percentile': 5.0}},]", 
      "", 
      "calc_grouping = ['month', 'year']", 
      "", 
      "ops = ocgis.OcgOperations(dataset=rd, geom=geom, select_ugid=[25], spatial_operation='clip',", 
      "                          output_format='csv', prefix='ca_calcs', aggregate=True, calc=calc,", 
      "                          calc_grouping=calc_grouping)", 
      "ret = ops.execute()", 
      "print(ret)", 
      "webbrowser.open(ret)"
     ], 
     "language": "python", 
     "outputs": [
      {
       "output_type": "stream", 
       "stream": "stdout", 
       "text": [
        "/home/local/WX/ben.koziol/Dropbox/nesii/presentation/gfdl_pmel_20140512/ca_calcs/ca_calcs.csv"
       ]
      }, 
      {
       "output_type": "pyout", 
       "prompt_number": 20, 
       "text": [
        "True"
       ]
      }
     ], 
     "prompt_number": 20
    }, 
    {
     "cell_type": "markdown", 
     "source": [
      "Perform the same operation as above again but return the data as a collection. Print the derived variable aliases."
     ]
    }, 
    {
     "cell_type": "code", 
     "collapsed": false, 
     "input": [
      "ops.output_format = 'numpy'", 
      "ret = ops.execute()", 
      "print(ret)", 
      "print(ret[25]['tas'].variables.keys())"
     ], 
     "language": "python", 
     "outputs": [
      {
       "output_type": "stream", 
       "stream": "stdout", 
       "text": [
        "SpatialCollection([(25, {'tas': <ocgis.interface.base.field.DerivedField object at 0x3098310>})])", 
        "['mean', 'stdev', 'min', 'max', 'median', 'fp_95', 'fp_5']"
       ]
      }
     ], 
     "prompt_number": 21
    }, 
    {
     "cell_type": "markdown", 
     "source": [
      "Variable values are always stored as five dimensions: realization, time, level, row, column"
     ]
    }, 
    {
     "cell_type": "code", 
     "collapsed": false, 
     "input": [
      "print(ret[25]['tas'].variables['mean'])", 
      "print(ret[25]['tas'].variables['mean'].value.shape)"
     ], 
     "language": "python", 
     "outputs": [
      {
       "output_type": "stream", 
       "stream": "stdout", 
       "text": [
        "DerivedVariable(alias=\"mean\",name=\"mean\",units=\"celsius\")", 
        "(1, 10, 1, 5, 4)"
       ]
      }
     ], 
     "prompt_number": 16
    }, 
    {
     "cell_type": "markdown", 
     "source": [
      "Print some time values from the temporal dimension."
     ]
    }, 
    {
     "cell_type": "code", 
     "collapsed": false, 
     "input": [
      "print(ret[25]['tas'].temporal.value_datetime)", 
      "print(ret[25]['tas'].temporal.bounds_datetime)"
     ], 
     "language": "python", 
     "outputs": [
      {
       "output_type": "stream", 
       "stream": "stdout", 
       "text": [
        "[2012-07-16 00:00:00 2013-07-16 00:00:00 2014-07-16 00:00:00", 
        " 2015-07-16 00:00:00 2016-07-16 00:00:00 2017-07-16 00:00:00", 
        " 2018-07-16 00:00:00 2019-07-16 00:00:00 2020-07-16 00:00:00", 
        " 2021-07-16 00:00:00]", 
        "[[2012-07-01 00:00:00 2012-08-01 00:00:00]", 
        " [2013-07-01 00:00:00 2013-08-01 00:00:00]", 
        " [2014-07-01 00:00:00 2014-08-01 00:00:00]", 
        " [2015-07-01 00:00:00 2015-08-01 00:00:00]", 
        " [2016-07-01 00:00:00 2016-08-01 00:00:00]", 
        " [2017-07-01 00:00:00 2017-08-01 00:00:00]", 
        " [2018-07-01 00:00:00 2018-08-01 00:00:00]", 
        " [2019-07-01 00:00:00 2019-08-01 00:00:00]", 
        " [2020-07-01 00:00:00 2020-08-01 00:00:00]", 
        " [2021-07-01 00:00:00 2021-08-01 00:00:00]]"
       ]
      }
     ], 
     "prompt_number": 17
    }, 
    {
     "cell_type": "markdown", 
     "source": [
      "Print example variable values."
     ]
    }, 
    {
     "cell_type": "code", 
     "collapsed": false, 
     "input": [
      "print(ret[25]['tas'].variables['mean'].value.squeeze())"
     ], 
     "language": "python", 
     "outputs": [
      {
       "output_type": "stream", 
       "stream": "stdout", 
       "text": [
        "[27.3959197998 26.3495597839 24.4758415222 25.920293808 26.6191158295", 
        " 23.8232879639 25.9975986481 25.8252334595 26.7378501892 24.6893424988]"
       ]
      }
     ], 
     "prompt_number": 22
    }, 
    {
     "cell_type": "markdown", 
     "source": [
      "Geometries are stored as Shapely objects with associated attributes."
     ]
    }, 
    {
     "cell_type": "code", 
     "collapsed": false, 
     "input": [
      "print(type(ret.geoms[25]))", 
      "print(ret.geoms[25]).bounds", 
      "print(ret.properties[25])"
     ], 
     "language": "python", 
     "outputs": [
      {
       "output_type": "stream", 
       "stream": "stdout", 
       "text": [
        "<class 'shapely.geometry.multipolygon.MultiPolygon'>", 
        "(235.60736168776253, 32.53578135776605, 245.8747696973248, 42.00219136658233)", 
        "[(25, '06', 25.0, 'California', 'CA')]"
       ]
      }
     ], 
     "prompt_number": 23
    }, 
    {
     "cell_type": "markdown", 
     "source": [
      "Read a data file with a coordinate system, and inspect its properties."
     ]
    }, 
    {
     "cell_type": "code", 
     "collapsed": false, 
     "input": [
      "uri = 'tas_RCM3_ncep_1981010103.nc'", 
      "variable = 'tas'", 
      "rd = ocgis.RequestDataset(uri=uri,variable=variable)", 
      "field = rd.get()", 
      "print(field.spatial.crs)", 
      "print(field.spatial.crs.sr.ExportToProj4())"
     ], 
     "language": "python", 
     "outputs": [
      {
       "output_type": "stream", 
       "stream": "stdout", 
       "text": [
        "CoordinateReferenceSystem(value={'lonc': -97, 'ellps': 'WGS84', 'y_0': 3175000, 'no_defs': True, 'proj': 'omerc', 'x_0': 3925000, 'units': 'm', 'alpha': 360, 'k': 1, 'gamma': 0, 'lat_0': 47.5})", 
        "+proj=omerc +lat_0=47.5 +lonc=-97 +alpha=360 +k=1 +x_0=3925000 +y_0=3175000 +gamma=0 +ellps=WGS84 +units=m +no_defs "
       ]
      }
     ], 
     "prompt_number": 24
    }, 
    {
     "cell_type": "markdown", 
     "source": [
      "For three variables, calculate monthly averages for the year 2014 for each U.S. state boundary."
     ]
    }, 
    {
     "cell_type": "code", 
     "collapsed": false, 
     "input": [
      "rd1 = ocgis.RequestDataset(uri='tasmax_day_CanCM4_decadal2010_r2i1p1_20110101-20201231.nc',", 
      "                           variable='tasmax')", 
      "rd2 = ocgis.RequestDataset(uri='tasmin_day_CanCM4_decadal2010_r2i1p1_20110101-20201231.nc',", 
      "                           variable='tasmin')", 
      "rd3 = ocgis.RequestDataset(uri='tas_day_CanCM4_decadal2010_r2i1p1_20110101-20201231.nc',", 
      "                           variable='tas')", 
      "calc = [{'func': 'mean','name': 'mean'}]", 
      "calc_grouping = ['month']", 
      "geom = '/home/local/WX/ben.koziol/Dropbox/nesii/project/ocg/bin/shp/state_boundaries/state_boundaries.shp'", 
      "ops = ocgis.OcgOperations(dataset=[rd1,rd2,rd3], geom=geom, aggregate=True,", 
      "                          output_format='shp', spatial_operation='clip', prefix='temps',", 
      "                          calc=calc, calc_grouping=calc_grouping, time_region={'year': [2014]},", 
      "                          headers=['value', 'calc_alias', 'year', 'month', 'variable'], ", 
      "                          conform_units_to='fahrenheit')", 
      "ret = ops.execute()", 
      "print(ret)"
     ], 
     "language": "python", 
     "outputs": [
      {
       "ename": "DefinitionValidationError", 
       "evalue": "OcgOperations validation raised an exception on the argument/operation \"output_format\" with the message: Data packages (i.e. more than one RequestDataset) may not be written to netCDF. There are currently 3 RequestDatasets. Note, this is different than a multifile dataset.", 
       "output_type": "pyerr", 
       "traceback": [
        "\u001b[0;31m---------------------------------------------------------------------------\u001b[0m\n\u001b[0;31mDefinitionValidationError\u001b[0m                 Traceback (most recent call last)", 
        "\u001b[0;32m/home/local/WX/ben.koziol/Dropbox/nesii/project/ocg/git/ocgis/examples/ipynb/<ipython-input-26-8e2852ca0e83>\u001b[0m in \u001b[0;36m<module>\u001b[0;34m()\u001b[0m\n\u001b[1;32m     12\u001b[0m                           \u001b[0mcalc\u001b[0m\u001b[0;34m=\u001b[0m\u001b[0mcalc\u001b[0m\u001b[0;34m,\u001b[0m \u001b[0mcalc_grouping\u001b[0m\u001b[0;34m=\u001b[0m\u001b[0mcalc_grouping\u001b[0m\u001b[0;34m,\u001b[0m \u001b[0mtime_region\u001b[0m\u001b[0;34m=\u001b[0m\u001b[0;34m{\u001b[0m\u001b[0;34m'year'\u001b[0m\u001b[0;34m:\u001b[0m \u001b[0;34m[\u001b[0m\u001b[0;36m2014\u001b[0m\u001b[0;34m]\u001b[0m\u001b[0;34m}\u001b[0m\u001b[0;34m,\u001b[0m\u001b[0;34m\u001b[0m\u001b[0m\n\u001b[1;32m     13\u001b[0m                           \u001b[0mheaders\u001b[0m\u001b[0;34m=\u001b[0m\u001b[0;34m[\u001b[0m\u001b[0;34m'value'\u001b[0m\u001b[0;34m,\u001b[0m \u001b[0;34m'calc_alias'\u001b[0m\u001b[0;34m,\u001b[0m \u001b[0;34m'year'\u001b[0m\u001b[0;34m,\u001b[0m \u001b[0;34m'month'\u001b[0m\u001b[0;34m,\u001b[0m \u001b[0;34m'variable'\u001b[0m\u001b[0;34m]\u001b[0m\u001b[0;34m,\u001b[0m\u001b[0;34m\u001b[0m\u001b[0m\n\u001b[0;32m---> 14\u001b[0;31m                           conform_units_to='fahrenheit')\n\u001b[0m\u001b[1;32m     15\u001b[0m \u001b[0mret\u001b[0m \u001b[0;34m=\u001b[0m \u001b[0mops\u001b[0m\u001b[0;34m.\u001b[0m\u001b[0mexecute\u001b[0m\u001b[0;34m(\u001b[0m\u001b[0;34m)\u001b[0m\u001b[0;34m\u001b[0m\u001b[0m\n\u001b[1;32m     16\u001b[0m \u001b[0;32mprint\u001b[0m\u001b[0;34m(\u001b[0m\u001b[0mret\u001b[0m\u001b[0;34m)\u001b[0m\u001b[0;34m\u001b[0m\u001b[0m\n", 
        "\u001b[0;32m/home/local/WX/ben.koziol/links/git/src/ocgis/api/operations.pyc\u001b[0m in \u001b[0;36m__init__\u001b[0;34m(self, dataset, spatial_operation, geom, aggregate, calc, calc_grouping, calc_raw, abstraction, snippet, backend, prefix, output_format, agg_selection, select_ugid, vector_wrap, allow_empty, dir_output, slice, file_only, headers, format_time, calc_sample_size, search_radius_mult, output_crs, interpolate_spatial_bounds, add_auxiliary_files, optimizations, callback, time_range, time_region, level_range, conform_units_to, select_nearest)\u001b[0m\n\u001b[1;32m    172\u001b[0m         \u001b[0;31m# # Initial values have been set and global validation should now occur\u001b[0m\n\u001b[0;34m\u001b[0m\u001b[0m\n\u001b[1;32m    173\u001b[0m         \u001b[0;31m# # when any parameters are updated.\u001b[0m\n\u001b[0;34m\u001b[0m\u001b[0m\n\u001b[0;32m--> 174\u001b[0;31m         \u001b[0mself\u001b[0m\u001b[0;34m.\u001b[0m\u001b[0m_is_init\u001b[0m \u001b[0;34m=\u001b[0m \u001b[0mFalse\u001b[0m\u001b[0;34m\u001b[0m\u001b[0m\n\u001b[0m\u001b[1;32m    175\u001b[0m         \u001b[0mself\u001b[0m\u001b[0;34m.\u001b[0m\u001b[0m_update_dependents_\u001b[0m\u001b[0;34m(\u001b[0m\u001b[0;34m)\u001b[0m\u001b[0;34m\u001b[0m\u001b[0m\n\u001b[1;32m    176\u001b[0m         \u001b[0mself\u001b[0m\u001b[0;34m.\u001b[0m\u001b[0m_validate_\u001b[0m\u001b[0;34m(\u001b[0m\u001b[0;34m)\u001b[0m\u001b[0;34m\u001b[0m\u001b[0m\n", 
        "\u001b[0;32m/home/local/WX/ben.koziol/links/git/src/ocgis/api/operations.pyc\u001b[0m in \u001b[0;36m__setattr__\u001b[0;34m(self, name, value)\u001b[0m\n\u001b[1;32m    205\u001b[0m         \u001b[0;32mif\u001b[0m \u001b[0mself\u001b[0m\u001b[0;34m.\u001b[0m\u001b[0m_is_init\u001b[0m \u001b[0;32mis\u001b[0m \u001b[0mFalse\u001b[0m\u001b[0;34m:\u001b[0m\u001b[0;34m\u001b[0m\u001b[0m\n\u001b[1;32m    206\u001b[0m             \u001b[0mself\u001b[0m\u001b[0;34m.\u001b[0m\u001b[0m_update_dependents_\u001b[0m\u001b[0;34m(\u001b[0m\u001b[0;34m)\u001b[0m\u001b[0;34m\u001b[0m\u001b[0m\n\u001b[0;32m--> 207\u001b[0;31m             \u001b[0mself\u001b[0m\u001b[0;34m.\u001b[0m\u001b[0m_validate_\u001b[0m\u001b[0;34m(\u001b[0m\u001b[0;34m)\u001b[0m\u001b[0;34m\u001b[0m\u001b[0m\n\u001b[0m\u001b[1;32m    208\u001b[0m \u001b[0;34m\u001b[0m\u001b[0m\n\u001b[1;32m    209\u001b[0m     \u001b[0;32mdef\u001b[0m \u001b[0mget_base_request_size\u001b[0m\u001b[0;34m(\u001b[0m\u001b[0mself\u001b[0m\u001b[0;34m)\u001b[0m\u001b[0;34m:\u001b[0m\u001b[0;34m\u001b[0m\u001b[0m\n", 
        "\u001b[0;32m/home/local/WX/ben.koziol/links/git/src/ocgis/api/operations.pyc\u001b[0m in \u001b[0;36m_validate_\u001b[0;34m(self)\u001b[0m\n\u001b[1;32m    368\u001b[0m                                \u001b[0;34m'There are currently {dcount} RequestDatasets. Note, this is different than a '\u001b[0m\u001b[0;34m\u001b[0m\u001b[0m\n\u001b[1;32m    369\u001b[0m                                'multifile dataset.'.format(dcount=len(self.dataset)))\n\u001b[0;32m--> 370\u001b[0;31m                         \u001b[0m_raise_\u001b[0m\u001b[0;34m(\u001b[0m\u001b[0mmsg\u001b[0m\u001b[0;34m,\u001b[0m\u001b[0mOutputFormat\u001b[0m\u001b[0;34m)\u001b[0m\u001b[0;34m\u001b[0m\u001b[0m\n\u001b[0m\u001b[1;32m    371\u001b[0m                     \u001b[0;32melse\u001b[0m\u001b[0;34m:\u001b[0m\u001b[0;34m\u001b[0m\u001b[0m\n\u001b[1;32m    372\u001b[0m                         \u001b[0;31m## there is a multivariate calculation and this requires\u001b[0m\n\u001b[0;34m\u001b[0m\u001b[0m\n", 
        "\u001b[0;32m/home/local/WX/ben.koziol/links/git/src/ocgis/api/operations.pyc\u001b[0m in \u001b[0;36m_raise_\u001b[0;34m(msg, obj)\u001b[0m\n\u001b[1;32m    344\u001b[0m         \u001b[0;32mdef\u001b[0m \u001b[0m_raise_\u001b[0m\u001b[0;34m(\u001b[0m\u001b[0mmsg\u001b[0m\u001b[0;34m,\u001b[0m\u001b[0mobj\u001b[0m\u001b[0;34m=\u001b[0m\u001b[0mOutputFormat\u001b[0m\u001b[0;34m)\u001b[0m\u001b[0;34m:\u001b[0m\u001b[0;34m\u001b[0m\u001b[0m\n\u001b[1;32m    345\u001b[0m             \u001b[0me\u001b[0m \u001b[0;34m=\u001b[0m \u001b[0mDefinitionValidationError\u001b[0m\u001b[0;34m(\u001b[0m\u001b[0mobj\u001b[0m\u001b[0;34m,\u001b[0m\u001b[0mmsg\u001b[0m\u001b[0;34m)\u001b[0m\u001b[0;34m\u001b[0m\u001b[0m\n\u001b[0;32m--> 346\u001b[0;31m             \u001b[0mocgis_lh\u001b[0m\u001b[0;34m(\u001b[0m\u001b[0mexc\u001b[0m\u001b[0;34m=\u001b[0m\u001b[0me\u001b[0m\u001b[0;34m,\u001b[0m\u001b[0mlogger\u001b[0m\u001b[0;34m=\u001b[0m\u001b[0;34m'operations'\u001b[0m\u001b[0;34m)\u001b[0m\u001b[0;34m\u001b[0m\u001b[0m\n\u001b[0m\u001b[1;32m    347\u001b[0m \u001b[0;34m\u001b[0m\u001b[0m\n\u001b[1;32m    348\u001b[0m         \u001b[0;31m## there are a bunch of constraints on the netCDF format\u001b[0m\n\u001b[0;34m\u001b[0m\u001b[0m\n", 
        "\u001b[0;32m/home/local/WX/ben.koziol/links/git/src/ocgis/util/logging_ocgis.pyc\u001b[0m in \u001b[0;36m__call__\u001b[0;34m(self, msg, logger, level, alias, ugid, exc, check_duplicate)\u001b[0m\n\u001b[1;32m     72\u001b[0m                 \u001b[0;32mpass\u001b[0m\u001b[0;34m\u001b[0m\u001b[0m\n\u001b[1;32m     73\u001b[0m             \u001b[0;32melse\u001b[0m\u001b[0;34m:\u001b[0m\u001b[0;34m\u001b[0m\u001b[0m\n\u001b[0;32m---> 74\u001b[0;31m                 \u001b[0;32mraise\u001b[0m\u001b[0;34m(\u001b[0m\u001b[0mexc\u001b[0m\u001b[0;34m)\u001b[0m\u001b[0;34m\u001b[0m\u001b[0m\n\u001b[0m\u001b[1;32m     75\u001b[0m         \u001b[0;32melse\u001b[0m\u001b[0;34m:\u001b[0m\u001b[0;34m\u001b[0m\u001b[0m\n\u001b[1;32m     76\u001b[0m             \u001b[0;32mif\u001b[0m \u001b[0mcheck_duplicate\u001b[0m\u001b[0;34m:\u001b[0m\u001b[0;34m\u001b[0m\u001b[0m\n", 
        "\u001b[0;31mDefinitionValidationError\u001b[0m: OcgOperations validation raised an exception on the argument/operation \"output_format\" with the message: Data packages (i.e. more than one RequestDataset) may not be written to netCDF. There are currently 3 RequestDatasets. Note, this is different than a multifile dataset."
       ]
      }
     ], 
     "prompt_number": 26
    }
   ]
  }
 ]
}