{
 "metadata": {
  "name": "NCAR-20140312"
 }, 
 "nbformat": 2, 
 "worksheets": [
  {
   "cells": [
    {
     "cell_type": "code", 
     "collapsed": false, 
     "input": [
      "import ocgis", 
      "print(ocgis.__RELEASE__)"
     ], 
     "language": "python", 
     "outputs": [
      {
       "output_type": "stream", 
       "stream": "stdout", 
       "text": [
        "0.07.1b-trunk"
       ]
      }
     ], 
     "prompt_number": 1
    }, 
    {
     "cell_type": "code", 
     "collapsed": false, 
     "input": [
      "## select a target data file and variable", 
      "uri = '/usr/local/climate_data/CanCM4/tas_day_CanCM4_decadal2010_r2i1p1_20110101-20201231.nc'", 
      "variable = 'tas'", 
      "rd = ocgis.RequestDataset(uri=uri,variable=variable)", 
      "## prints output similar to ncdump -h", 
      "rd.inspect()"
     ], 
     "language": "python", 
     "outputs": [
      {
       "output_type": "pyout", 
       "prompt_number": 2, 
       "text": [
        "", 
        "URI = /usr/local/climate_data/CanCM4/tas_day_CanCM4_decadal2010_r2i1p1_20110101-20201231.nc", 
        "VARIABLE = tas", 
        "ALIAS = tas", 
        "DID = None", 
        "", 
        "=== Temporal =============", 
        "", 
        "       Start Date = 2011-01-01 00:00:00", 
        "         End Date = 2021-01-01 00:00:00", 
        "         Calendar = 365_day", 
        "            Units = days since 1850-1-1", 
        "Resolution (Days) = 1", 
        "            Count = 3650", 
        "       Has Bounds = True", 
        "", 
        "=== Spatial ==============", 
        "", 
        "Spatial Reference = CFWGS84", 
        "     Proj4 String = +proj=longlat +ellps=WGS84 +towgs84=0,0,0,0,0,0,0 +no_defs ", 
        "           Extent = (-1.40625, -90.0, 358.59375, 90.0)", 
        "   Interface Type = SpatialGeometryPolygonDimension", 
        "       Resolution = 2.8125", 
        "            Count = 8192", 
        "", 
        "=== Level ================", 
        "", 
        "No level dimension found.", 
        "", 
        "=== Dump =================", 
        "", 
        "dimensions:", 
        "    time = ISUNLIMITED ; // 3650 currently", 
        "    lat = 64 ;", 
        "    lon = 128 ;", 
        "    bnds = 2 ;", 
        "", 
        "variables:", 
        "    float64 time(time) ;", 
        "      time:bounds = \"time_bnds\" ;", 
        "      time:units = \"days since 1850-1-1\" ;", 
        "      time:calendar = \"365_day\" ;", 
        "      time:axis = \"T\" ;", 
        "      time:long_name = \"time\" ;", 
        "      time:standard_name = \"time\" ;", 
        "    float64 time_bnds(time, bnds) ;", 
        "    float64 lat(lat) ;", 
        "      lat:bounds = \"lat_bnds\" ;", 
        "      lat:units = \"degrees_north\" ;", 
        "      lat:axis = \"Y\" ;", 
        "      lat:long_name = \"latitude\" ;", 
        "      lat:standard_name = \"latitude\" ;", 
        "    float64 lat_bnds(lat, bnds) ;", 
        "    float64 lon(lon) ;", 
        "      lon:bounds = \"lon_bnds\" ;", 
        "      lon:units = \"degrees_east\" ;", 
        "      lon:axis = \"X\" ;", 
        "      lon:long_name = \"longitude\" ;", 
        "      lon:standard_name = \"longitude\" ;", 
        "    float64 lon_bnds(lon, bnds) ;", 
        "    float64 height() ;", 
        "      height:units = \"m\" ;", 
        "      height:axis = \"Z\" ;", 
        "      height:positive = \"up\" ;", 
        "      height:long_name = \"height\" ;", 
        "      height:standard_name = \"height\" ;", 
        "    float32 tas(time, lat, lon) ;", 
        "      tas:standard_name = \"air_temperature\" ;", 
        "      tas:long_name = \"Near-Surface Air Temperature\" ;", 
        "      tas:units = \"K\" ;", 
        "      tas:original_name = \"ST\" ;", 
        "      tas:cell_methods = \"time: mean (interval: 15 minutes)\" ;", 
        "      tas:cell_measures = \"area: areacella\" ;", 
        "      tas:history = \"2012-03-28T15:31:57Z altered by CMOR: Treated scalar dimension: 'height'. 2012-03-28T15:31:57Z altered by CMOR: replaced missing value flag (1e+38) with standard missing value (1e+20).\" ;", 
        "      tas:coordinates = \"height\" ;", 
        "      tas:missing_value = \"1.00000002004e+20\" ;", 
        "      tas:associated_files = \"baseURL: http://cmip-pcmdi.llnl.gov/CMIP5/dataLocation gridspecFile: gridspec_atmos_fx_CanCM4_decadal2010_r0i0p0.nc areacella: areacella_fx_CanCM4_decadal2010_r0i0p0.nc\" ;", 
        "", 
        "// global attributes:", 
        "    :institution = CCCma (Canadian Centre for Climate Modelling and Analysis, Victoria, BC, Canada) ;", 
        "    :institute_id = CCCma ;", 
        "    :experiment_id = decadal2010 ;", 
        "    :source = CanCM4 2010 atmosphere: CanAM4 (AGCM15i, T63L35) ocean: CanOM4 (OGCM4.0, 256x192L40) sea ice: CanSIM1 (Cavitating Fluid, T63 Gaussian Grid) land: CLASS2.7 ;", 
        "    :model_id = CanCM4 ;", 
        "    :forcing = GHG,Oz,SA,BC,OC,LU,Sl,Vl (GHG includes CO2,CH4,N2O,CFC11,effective CFC12) ;", 
        "    :parent_experiment_id = N/A ;", 
        "    :parent_experiment_rip = N/A ;", 
        "    :branch_time = 0.0 ;", 
        "    :contact = cccma_info@ec.gc.ca ;", 
        "    :references = http://www.cccma.ec.gc.ca/models ;", 
        "    :initialization_method = 1 ;", 
        "    :physics_version = 1 ;", 
        "    :tracking_id = 729e4442-7234-4850-9fa0-9c3353300b59 ;", 
        "    :branch_time_YMDH = 2011:01:01:00 ;", 
        "    :CCCma_runid = DHFP1B_E002_I2011_M01 ;", 
        "    :CCCma_parent_runid = DHFP1_E002 ;", 
        "    :CCCma_data_licence = 1) GRANT OF LICENCE - The Government of Canada (Environment Canada) is the ", 
        "owner of all intellectual property rights (including copyright) that may exist in this Data ", 
        "product. You (as \"The Licensee\") are hereby granted a non-exclusive, non-assignable, ", 
        "non-transferable unrestricted licence to use this data product for any purpose including ", 
        "the right to share these data with others and to make value-added and derivative ", 
        "products from it. This licence is not a sale of any or all of the owner's rights.", 
        "2) NO WARRANTY - This Data product is provided \"as-is\"; it has not been designed or ", 
        "prepared to meet the Licensee's particular requirements. Environment Canada makes no ", 
        "warranty, either express or implied, including but not limited to, warranties of ", 
        "merchantability and fitness for a particular purpose. In no event will Environment Canada ", 
        "be liable for any indirect, special, consequential or other damages attributed to the ", 
        "Licensee's use of the Data product. ;", 
        "    :product = output ;", 
        "    :experiment = 10- or 30-year run initialized in year 2010 ;", 
        "    :frequency = day ;", 
        "    :creation_date = 2012-03-28T15:31:57Z ;", 
        "    :history = 2012-03-28T15:31:57Z CMOR rewrote data to comply with CF standards and CMIP5 requirements. ;", 
        "    :Conventions = CF-1.4 ;", 
        "    :project_id = CMIP5 ;", 
        "    :table_id = Table day (28 March 2011) f9d6cfec5981bb8be1801b35a81002f0 ;", 
        "    :title = CanCM4 model output prepared for CMIP5 10- or 30-year run initialized in year 2010 ;", 
        "    :parent_experiment = N/A ;", 
        "    :modeling_realm = atmos ;", 
        "    :realization = 2 ;", 
        "    :cmor_version = 2.8.0 ;", 
        ""
       ]
      }
     ], 
     "prompt_number": 2
    }, 
    {
     "cell_type": "code", 
     "collapsed": false, 
     "input": [
      "## return a field object and get its shape", 
      "field = rd.get()", 
      "print(field.shape)", 
      "for d,s in zip(field._value_dimension_names,field.shape): print('{0} = {1}'.format(d,s))"
     ], 
     "language": "python", 
     "outputs": [
      {
       "output_type": "stream", 
       "stream": "stdout", 
       "text": [
        "(1, 3650, 1, 64, 128)", 
        "realization = 1", 
        "temporal = 3650", 
        "level = 1", 
        "row = 64", 
        "column = 128"
       ]
      }
     ], 
     "prompt_number": 3
    }, 
    {
     "cell_type": "code", 
     "collapsed": false, 
     "input": [
      "## source indices map to indices in the source data file", 
      "print(field.spatial.grid.col._src_idx)"
     ], 
     "language": "python", 
     "outputs": [
      {
       "output_type": "stream", 
       "stream": "stdout", 
       "text": [
        "[  0   1   2   3   4   5   6   7   8   9  10  11  12  13  14  15  16  17", 
        "  18  19  20  21  22  23  24  25  26  27  28  29  30  31  32  33  34  35", 
        "  36  37  38  39  40  41  42  43  44  45  46  47  48  49  50  51  52  53", 
        "  54  55  56  57  58  59  60  61  62  63  64  65  66  67  68  69  70  71", 
        "  72  73  74  75  76  77  78  79  80  81  82  83  84  85  86  87  88  89", 
        "  90  91  92  93  94  95  96  97  98  99 100 101 102 103 104 105 106 107", 
        " 108 109 110 111 112 113 114 115 116 117 118 119 120 121 122 123 124 125", 
        " 126 127]"
       ]
      }
     ], 
     "prompt_number": 4
    }, 
    {
     "cell_type": "code", 
     "collapsed": false, 
     "input": [
      "## values are accessed via a property", 
      "assert(field.spatial.grid.col._value == None)", 
      "## values are loaded on demand using the source indices", 
      "field.spatial.grid.col.value", 
      "## the value is now filled", 
      "print(field.spatial.grid.col._value)"
     ], 
     "language": "python", 
     "outputs": [
      {
       "output_type": "stream", 
       "stream": "stdout", 
       "text": [
        "[   0.        2.8125    5.625     8.4375   11.25     14.0625   16.875", 
        "   19.6875   22.5      25.3125   28.125    30.9375   33.75     36.5625", 
        "   39.375    42.1875   45.       47.8125   50.625    53.4375   56.25", 
        "   59.0625   61.875    64.6875   67.5      70.3125   73.125    75.9375", 
        "   78.75     81.5625   84.375    87.1875   90.       92.8125   95.625", 
        "   98.4375  101.25    104.0625  106.875   109.6875  112.5     115.3125", 
        "  118.125   120.9375  123.75    126.5625  129.375   132.1875  135.", 
        "  137.8125  140.625   143.4375  146.25    149.0625  151.875   154.6875", 
        "  157.5     160.3125  163.125   165.9375  168.75    171.5625  174.375", 
        "  177.1875  180.      182.8125  185.625   188.4375  191.25    194.0625", 
        "  196.875   199.6875  202.5     205.3125  208.125   210.9375  213.75", 
        "  216.5625  219.375   222.1875  225.      227.8125  230.625   233.4375", 
        "  236.25    239.0625  241.875   244.6875  247.5     250.3125  253.125", 
        "  255.9375  258.75    261.5625  264.375   267.1875  270.      272.8125", 
        "  275.625   278.4375  281.25    284.0625  286.875   289.6875  292.5", 
        "  295.3125  298.125   300.9375  303.75    306.5625  309.375   312.1875", 
        "  315.      317.8125  320.625   323.4375  326.25    329.0625  331.875", 
        "  334.6875  337.5     340.3125  343.125   345.9375  348.75    351.5625", 
        "  354.375   357.1875]"
       ]
      }
     ], 
     "prompt_number": 5
    }, 
    {
     "cell_type": "code", 
     "collapsed": false, 
     "input": [
      "## bounds are also available...", 
      "print(field.spatial.grid.col.bounds[0:10])"
     ], 
     "language": "python", 
     "outputs": [
      {
       "output_type": "stream", 
       "stream": "stdout", 
       "text": [
        "[[ -1.40625   1.40625]", 
        " [  1.40625   4.21875]", 
        " [  4.21875   7.03125]", 
        " [  7.03125   9.84375]", 
        " [  9.84375  12.65625]", 
        " [ 12.65625  15.46875]", 
        " [ 15.46875  18.28125]", 
        " [ 18.28125  21.09375]", 
        " [ 21.09375  23.90625]", 
        " [ 23.90625  26.71875]]"
       ]
      }
     ], 
     "prompt_number": 6
    }, 
    {
     "cell_type": "code", 
     "collapsed": false, 
     "input": [
      "## slicing a field also slices all the associated dimensions", 
      "sub = field[:,200:300,:,:,10:50]", 
      "print(sub.shape)"
     ], 
     "language": "python", 
     "outputs": [
      {
       "output_type": "stream", 
       "stream": "stdout", 
       "text": [
        "(1, 100, 1, 64, 40)"
       ]
      }
     ], 
     "prompt_number": 7
    }, 
    {
     "cell_type": "code", 
     "collapsed": false, 
     "input": [
      "print(sub.spatial.grid.col._src_idx)"
     ], 
     "language": "python", 
     "outputs": [
      {
       "output_type": "stream", 
       "stream": "stdout", 
       "text": [
        "[10 11 12 13 14 15 16 17 18 19 20 21 22 23 24 25 26 27 28 29 30 31 32 33 34", 
        " 35 36 37 38 39 40 41 42 43 44 45 46 47 48 49]"
       ]
      }
     ], 
     "prompt_number": 8
    }, 
    {
     "cell_type": "code", 
     "collapsed": false, 
     "input": [
      "## multiple variables may be associated with a field...should perhaps", 
      "## be called a bundle or collection...", 
      "variable = sub.variables['tas']", 
      "print(variable)"
     ], 
     "language": "python", 
     "outputs": [
      {
       "output_type": "stream", 
       "stream": "stdout", 
       "text": [
        "Variable(alias=\"tas\",name=\"tas\",units=\"K\")"
       ]
      }
     ], 
     "prompt_number": 9
    }, 
    {
     "cell_type": "code", 
     "collapsed": false, 
     "input": [
      "## value arrays are also populated on demanded", 
      "assert(variable._value == None)", 
      "## provided cfunits-python is installed...", 
      "print(variable.cfunits)", 
      "print(variable.cfunits.format(names=True))"
     ], 
     "language": "python", 
     "outputs": [
      {
       "output_type": "stream", 
       "stream": "stdout", 
       "text": [
        "K", 
        "kelvin"
       ]
      }
     ], 
     "prompt_number": 10
    }, 
    {
     "cell_type": "code", 
     "collapsed": false, 
     "input": [
      "## a variable's shape corresponds to the field's shape...", 
      "print(variable.value.shape)"
     ], 
     "language": "python", 
     "outputs": [
      {
       "output_type": "stream", 
       "stream": "stdout", 
       "text": [
        "(1, 100, 1, 64, 40)"
       ]
      }
     ], 
     "prompt_number": 11
    }, 
    {
     "cell_type": "code", 
     "collapsed": false, 
     "input": [
      "print(variable.value[:,0,:,0,:])"
     ], 
     "language": "python", 
     "outputs": [
      {
       "output_type": "stream", 
       "stream": "stdout", 
       "text": [
        "[[[218.209991455 218.173690796 218.085510254 218.102798462 218.106246948", 
        "   218.090698242 217.980026245 217.935073853 217.594451904 217.250366211", 
        "   216.430801392 215.4659729 214.706924438 213.873519897 213.425689697", 
        "   212.839538574 212.251663208 211.878189087 211.838409424 211.323150635", 
        "   211.359466553 211.231506348 211.200393677 211.243621826 211.317962646", 
        "   211.601531982 212.033798218 212.236099243 212.846450806 213.385925293", 
        "   214.094833374 214.693084717 215.299987793 215.858474731 216.451538086", 
        "   216.965072632 217.471694946 218.049194336 218.53678894 219.065887451]]]"
       ]
      }
     ], 
     "prompt_number": 12
    }, 
    {
     "cell_type": "code", 
     "collapsed": false, 
     "input": [
      "print(variable.value[:,0,:,0,:].mask)"
     ], 
     "language": "python", 
     "outputs": [
      {
       "output_type": "stream", 
       "stream": "stdout", 
       "text": [
        "[[[False False False False False False False False False False False False", 
        "   False False False False False False False False False False False False", 
        "   False False False False False False False False False False False False", 
        "   False False False False]]]"
       ]
      }
     ], 
     "prompt_number": 13
    }, 
    {
     "cell_type": "code", 
     "collapsed": false, 
     "input": [
      "## geometries are assembled from the dataset's spatial dimensions. polygons if", 
      "## if bounds are available or interpolated...", 
      "polygon = sub.spatial.geom.polygon.value[0,1]", 
      "print(type(polygon))", 
      "print(polygon)", 
      "print(polygon.bounds)"
     ], 
     "language": "python", 
     "outputs": [
      {
       "output_type": "stream", 
       "stream": "stdout", 
       "text": [
        "<class 'shapely.geometry.polygon.Polygon'>", 
        "POLYGON ((29.5312500000000000 -90.0000000000000000, 29.5312500000000000 -86.4801654182531649, 32.3437500000000000 -86.4801654182531649, 32.3437500000000000 -90.0000000000000000, 29.5312500000000000 -90.0000000000000000))", 
        "(29.53125, -90.0, 32.34375, -86.48016541825316)"
       ]
      }
     ], 
     "prompt_number": 14
    }, 
    {
     "cell_type": "code", 
     "collapsed": false, 
     "input": [
      "## ...or a point if no bounds are available and interpolation is off. polygons", 
      "## will always have an associated point representation.", 
      "point = sub.spatial.geom.point.value[0,1]", 
      "print(type(point))", 
      "print(point)", 
      "print(point.x,point.y)"
     ], 
     "language": "python", 
     "outputs": [
      {
       "output_type": "stream", 
       "stream": "stdout", 
       "text": [
        "<class 'shapely.geometry.point.Point'>", 
        "POINT (30.9375000000000000 -87.8638013437108043)", 
        "(30.9375, -87.8638013437108)"
       ]
      }
     ], 
     "prompt_number": 15
    }, 
    {
     "cell_type": "code", 
     "collapsed": true, 
     "input": [
      "## the point and polygon overlap!", 
      "assert(point.intersects(polygon))"
     ], 
     "language": "python", 
     "outputs": [], 
     "prompt_number": 16
    }, 
    {
     "cell_type": "code", 
     "collapsed": false, 
     "input": [
      "## in addition to vector geometries, the grid is available as well", 
      "grid = sub.spatial.grid.value[:,0,1]", 
      "print(grid)"
     ], 
     "language": "python", 
     "outputs": [
      {
       "output_type": "stream", 
       "stream": "stdout", 
       "text": [
        "[-87.8638013437 30.9375]"
       ]
      }
     ], 
     "prompt_number": 17
    }, 
    {
     "cell_type": "code", 
     "collapsed": false, 
     "input": [
      "## time is an important dimension!", 
      "print(sub.temporal.value[0],field.temporal.value_datetime[0])", 
      "print(sub.temporal.bounds[0,:],field.temporal.bounds_datetime[0,:])"
     ], 
     "language": "python", 
     "outputs": [
      {
       "output_type": "stream", 
       "stream": "stdout", 
       "text": [
        "(58965.5, datetime.datetime(2011, 1, 1, 12, 0))", 
        "(array([ 58965.,  58966.]), array([2011-01-01 00:00:00, 2011-01-02 00:00:00], dtype=object))"
       ]
      }, 
      {
       "output_type": "stream", 
       "stream": "stdout", 
       "text": [
        ""
       ]
      }
     ], 
     "prompt_number": 18
    }, 
    {
     "cell_type": "code", 
     "collapsed": true, 
     "input": [
      "## this dataset does not have a level or realization/ensemble-member dimension", 
      "assert(sub.level == None)", 
      "assert(sub.realization == None)"
     ], 
     "language": "python", 
     "outputs": [], 
     "prompt_number": 19
    }, 
    {
     "cell_type": "code", 
     "collapsed": false, 
     "input": [
      "## operations are available as methods on the field", 
      "import inspect", 
      "for member in inspect.getmembers(sub):", 
      "    if member[0].startswith('get'):", 
      "        print(member[0])"
     ], 
     "language": "python", 
     "outputs": [
      {
       "output_type": "stream", 
       "stream": "stdout", 
       "text": [
        "get_between", 
        "get_clip", 
        "get_intersects", 
        "get_iter", 
        "get_shallow_copy", 
        "get_spatially_aggregated", 
        "get_time_region"
       ]
      }
     ], 
     "prompt_number": 20
    }, 
    {
     "cell_type": "code", 
     "collapsed": false, 
     "input": [
      "## for format conversion, the field has a dictionary generator", 
      "itr = sub.get_iter()", 
      "for k,v in itr.next().iteritems():", 
      "    print('{0} = {1}'.format(k,v))"
     ], 
     "language": "python", 
     "outputs": [
      {
       "output_type": "stream", 
       "stream": "stdout", 
       "text": [
        "lid = None", 
        "vid = 1", 
        "level = None", 
        "did = None", 
        "year = 2011", 
        "value = 218.209991455", 
        "time_bnds_upper = 2011-07-21 00:00:00", 
        "alias = tas", 
        "tid = 201", 
        "geom = MULTIPOLYGON (((26.7187500000000000 -90.0000000000000000, 26.7187500000000000 -86.4801654182531649, 29.5312500000000000 -86.4801654182531649, 29.5312500000000000 -90.0000000000000000, 26.7187500000000000 -90.0000000000000000)))", 
        "time = 2011-07-20 12:00:00", 
        "variable = tas", 
        "gid = 11", 
        "month = 7", 
        "time_bnds_lower = 2011-07-20 00:00:00", 
        "day = 20"
       ]
      }
     ], 
     "prompt_number": 21
    }, 
    {
     "cell_type": "code", 
     "collapsed": false, 
     "input": [
      "## time subsetting is specific to each request dataset. in the next release, there will", 
      "## be an option to put that at the operations level for ease of use.", 
      "rd.time_region = {'month':[6,7,8]}", 
      "## select data for the months of June, July, and August for all years and subset by", 
      "## the boundaries of Nebraska and Colorado. the unique identifier \"UGID\" is required", 
      "## to be in target shapefiles at this time.", 
      "ops = ocgis.OcgOperations(dataset=rd,select_ugid=[16,32],geom='state_boundaries')", 
      "coll = ops.execute()", 
      "## a collection is returned with behavior similar to a Python dictionary", 
      "print(coll.keys())", 
      "print(coll)"
     ], 
     "language": "python", 
     "outputs": [
      {
       "output_type": "stream", 
       "stream": "stdout", 
       "text": [
        "[16, 32]", 
        "SpatialCollection([(16, {'tas': <ocgis.interface.nc.field.NcField object at 0x25f4550>}), (32, {'tas': <ocgis.interface.nc.field.NcField object at 0x25f4410>})])"
       ]
      }
     ], 
     "prompt_number": 22
    }, 
    {
     "cell_type": "code", 
     "collapsed": false, 
     "input": [
      "## this is the geometry associated with Nebraska", 
      "print(coll.geoms[16].bounds)", 
      "print(coll.properties[16])"
     ], 
     "language": "python", 
     "outputs": [
      {
       "output_type": "stream", 
       "stream": "stdout", 
       "text": [
        "(-104.05621929329769, 39.99259536471075, -95.30869728515093, 43.00306236751447)", 
        "{'STATE_FIPS': '31', 'UGID': 16, 'STATE_NAME': 'Nebraska', 'STATE_ABBR': 'NE', 'ID': 16.0}"
       ]
      }
     ], 
     "prompt_number": 23
    }, 
    {
     "cell_type": "code", 
     "collapsed": false, 
     "input": [
      "## a quick look at the time extent", 
      "print(coll[16]['tas'].temporal.extent_datetime)"
     ], 
     "language": "python", 
     "outputs": [
      {
       "output_type": "stream", 
       "stream": "stdout", 
       "text": [
        "(datetime.datetime(2011, 6, 1, 0, 0), datetime.datetime(2020, 9, 1, 0, 0))"
       ]
      }
     ], 
     "prompt_number": 24
    }, 
    {
     "cell_type": "code", 
     "collapsed": false, 
     "input": [
      "## these operations will clip and spatially average the data to the state boundaries", 
      "ops = ocgis.OcgOperations(dataset=rd,select_ugid=[16,32],geom='state_boundaries',", 
      "                          aggregate=True,spatial_operation='clip')", 
      "coll = ops.execute()", 
      "print(coll[16]['tas'].spatial.geom.polygon.value[0,0].bounds)"
     ], 
     "language": "python", 
     "outputs": [
      {
       "output_type": "stream", 
       "stream": "stdout", 
       "text": [
        "(-104.05621929329769, 39.99259536471075, -95.30869728515091, 43.00306236751447)"
       ]
      }
     ], 
     "prompt_number": 25
    }, 
    {
     "cell_type": "code", 
     "collapsed": false, 
     "input": [
      "## we do the same operation as above but write the result to shapefile this time", 
      "import tempfile", 
      "dir_output = tempfile.mkdtemp(prefix='ocgis_')", 
      "ops = ocgis.OcgOperations(dataset=rd,select_ugid=[16,32],geom='state_boundaries',", 
      "                          aggregate=True,spatial_operation='clip',output_format='shp',", 
      "                          prefix='co_ne',dir_output=dir_output)", 
      "path = ops.execute()", 
      "print(path)"
     ], 
     "language": "python", 
     "outputs": [
      {
       "output_type": "stream", 
       "stream": "stdout", 
       "text": [
        "/tmp/ocgis_vj115I/co_ne/co_ne.shp"
       ]
      }
     ], 
     "prompt_number": 26
    }, 
    {
     "cell_type": "code", 
     "collapsed": false, 
     "input": [
      "## select the grid cells this time without clipping and spatial averaging", 
      "import tempfile", 
      "dir_output = tempfile.mkdtemp(prefix='ocgis_')", 
      "ops = ocgis.OcgOperations(dataset=rd,select_ugid=[16,32],geom='state_boundaries',", 
      "                          aggregate=False,spatial_operation='intersects',output_format='shp',", 
      "                          prefix='co_ne_cells',dir_output=dir_output,add_auxiliary_files=False)", 
      "path = ops.execute()", 
      "print(path)"
     ], 
     "language": "python", 
     "outputs": [
      {
       "output_type": "stream", 
       "stream": "stdout", 
       "text": [
        "/tmp/ocgis_LZ9CeX/co_ne_cells.shp"
       ]
      }
     ], 
     "prompt_number": 27
    }, 
    {
     "cell_type": "code", 
     "collapsed": false, 
     "input": [
      "## these are a couple calculations written to a netCDF file", 
      "## calculation code example: https://github.com/NCPP/ocgis/blob/master/src/ocgis/calc/library/statistics.py", 
      "import tempfile", 
      "dir_output = tempfile.mkdtemp(prefix='ocgis_')", 
      "calc = [{'func':'mean','name':'mean'},{'func':'std','name':'std'}]", 
      "calc_grouping = ['month']", 
      "ops = ocgis.OcgOperations(dataset=rd,select_ugid=[16,32],geom='state_boundaries',", 
      "                          output_format='nc',prefix='co_ne',dir_output=dir_output,", 
      "                          add_auxiliary_files=False,calc=calc,calc_grouping=calc_grouping)", 
      "path = ops.execute()", 
      "print(path)"
     ], 
     "language": "python", 
     "outputs": [
      {
       "output_type": "stream", 
       "stream": "stdout", 
       "text": [
        "/tmp/ocgis_5KSwmT/co_ne.nc"
       ]
      }
     ], 
     "prompt_number": 28
    }, 
    {
     "cell_type": "code", 
     "collapsed": false, 
     "input": [
      "ocgis.Inspect(path)"
     ], 
     "language": "python", 
     "outputs": [
      {
       "output_type": "pyout", 
       "prompt_number": 29, 
       "text": [
        "", 
        "URI = /tmp/ocgis_5KSwmT/co_ne.nc", 
        "VARIABLE = None", 
        "", 
        "dimensions:", 
        "    time = ISUNLIMITED ; // 3 currently", 
        "    lat = 3 ;", 
        "    lon = 6 ;", 
        "    bnds = 2 ;", 
        "", 
        "variables:", 
        "    float64 climatology_bnds(time, bnds) ;", 
        "      climatology_bnds:units = \"days since 1850-1-1\" ;", 
        "      climatology_bnds:calendar = \"365_day\" ;", 
        "    float64 time(time) ;", 
        "      time:units = \"days since 1850-1-1\" ;", 
        "      time:calendar = \"365_day\" ;", 
        "      time:axis = \"T\" ;", 
        "      time:long_name = \"time\" ;", 
        "      time:standard_name = \"time\" ;", 
        "      time:climatology = \"climatology_bnds\" ;", 
        "    float64 lat(lat) ;", 
        "      lat:bounds = \"lat_bnds\" ;", 
        "      lat:units = \"degrees_north\" ;", 
        "      lat:axis = \"Y\" ;", 
        "      lat:long_name = \"latitude\" ;", 
        "      lat:standard_name = \"latitude\" ;", 
        "    float64 lon(lon) ;", 
        "      lon:bounds = \"lon_bnds\" ;", 
        "      lon:units = \"degrees_east\" ;", 
        "      lon:axis = \"X\" ;", 
        "      lon:long_name = \"longitude\" ;", 
        "      lon:standard_name = \"longitude\" ;", 
        "    float64 lat_bnds(lat, bnds) ;", 
        "    float64 lon_bnds(lon, bnds) ;", 
        "    float32 mean_tas(time, lat, lon) ;", 
        "      mean_tas:long_name = \"\" ;", 
        "      mean_tas:standard_name = \"\" ;", 
        "      mean_tas:units = \"K\" ;", 
        "    float32 std_tas(time, lat, lon) ;", 
        "      std_tas:long_name = \"\" ;", 
        "      std_tas:standard_name = \"\" ;", 
        "      std_tas:units = \"K\" ;", 
        "", 
        "// global attributes:", 
        "    :institution = CCCma (Canadian Centre for Climate Modelling and Analysis, Victoria, BC, Canada) ;", 
        "    :institute_id = CCCma ;", 
        "    :experiment_id = decadal2010 ;", 
        "    :source = CanCM4 2010 atmosphere: CanAM4 (AGCM15i, T63L35) ocean: CanOM4 (OGCM4.0, 256x192L40) sea ice: CanSIM1 (Cavitating Fluid, T63 Gaussian Grid) land: CLASS2.7 ;", 
        "    :model_id = CanCM4 ;", 
        "    :forcing = GHG,Oz,SA,BC,OC,LU,Sl,Vl (GHG includes CO2,CH4,N2O,CFC11,effective CFC12) ;", 
        "    :parent_experiment_id = N/A ;", 
        "    :parent_experiment_rip = N/A ;", 
        "    :branch_time = 0.0 ;", 
        "    :contact = cccma_info@ec.gc.ca ;", 
        "    :references = http://www.cccma.ec.gc.ca/models ;", 
        "    :initialization_method = 1 ;", 
        "    :physics_version = 1 ;", 
        "    :tracking_id = 729e4442-7234-4850-9fa0-9c3353300b59 ;", 
        "    :branch_time_YMDH = 2011:01:01:00 ;", 
        "    :CCCma_runid = DHFP1B_E002_I2011_M01 ;", 
        "    :CCCma_parent_runid = DHFP1_E002 ;", 
        "    :CCCma_data_licence = 1) GRANT OF LICENCE - The Government of Canada (Environment Canada) is the ", 
        "owner of all intellectual property rights (including copyright) that may exist in this Data ", 
        "product. You (as \"The Licensee\") are hereby granted a non-exclusive, non-assignable, ", 
        "non-transferable unrestricted licence to use this data product for any purpose including ", 
        "the right to share these data with others and to make value-added and derivative ", 
        "products from it. This licence is not a sale of any or all of the owner's rights.", 
        "2) NO WARRANTY - This Data product is provided \"as-is\"; it has not been designed or ", 
        "prepared to meet the Licensee's particular requirements. Environment Canada makes no ", 
        "warranty, either express or implied, including but not limited to, warranties of ", 
        "merchantability and fitness for a particular purpose. In no event will Environment Canada ", 
        "be liable for any indirect, special, consequential or other damages attributed to the ", 
        "Licensee's use of the Data product. ;", 
        "    :product = output ;", 
        "    :experiment = 10- or 30-year run initialized in year 2010 ;", 
        "    :frequency = day ;", 
        "    :creation_date = 2012-03-28T15:31:57Z ;", 
        "    :history = 2012-03-28T15:31:57Z CMOR rewrote data to comply with CF standards and CMIP5 requirements. ;", 
        "    :Conventions = CF-1.4 ;", 
        "    :project_id = CMIP5 ;", 
        "    :table_id = Table day (28 March 2011) f9d6cfec5981bb8be1801b35a81002f0 ;", 
        "    :title = CanCM4 model output prepared for CMIP5 10- or 30-year run initialized in year 2010 ;", 
        "    :parent_experiment = N/A ;", 
        "    :modeling_realm = atmos ;", 
        "    :realization = 2 ;", 
        "    :cmor_version = 2.8.0 ;"
       ]
      }
     ], 
     "prompt_number": 29
    }, 
    {
     "cell_type": "code", 
     "collapsed": false, 
     "input": [
      "## this dumps the output from the calculation into a CSV file", 
      "calc_rd = ocgis.RequestDataset(uri=path,variable='mean_tas')", 
      "ops = ocgis.OcgOperations(dataset=calc_rd,output_format='csv',dir_output=dir_output,", 
      "                          add_auxiliary_files=False)", 
      "csv_path = ops.execute()", 
      "print(csv_path)"
     ], 
     "language": "python", 
     "outputs": [
      {
       "output_type": "stream", 
       "stream": "stdout", 
       "text": [
        "/tmp/ocgis_5KSwmT/ocgis_output.csv"
       ]
      }
     ], 
     "prompt_number": 30
    }, 
    {
     "cell_type": "code", 
     "collapsed": false, 
     "input": [
      "## coordinate systems / spatial references are available", 
      "uri1 = '/usr/local/climate_data/CanCM4/tas_day_CanCM4_decadal2010_r2i1p1_20110101-20201231.nc'", 
      "variable = 'tas'", 
      "rd1 = ocgis.RequestDataset(uri=uri1,variable=variable)", 
      "uri2 = '/usr/local/climate_data/narccap/tas_RCM3_gfdl_1981010103.nc'", 
      "## if the variable name is not unique, an alias must be provided", 
      "rd2 = ocgis.RequestDataset(uri=uri2,variable=variable,alias='tas_narccap')", 
      "for rd in [rd1,rd2]:", 
      "    field = rd.get()", 
      "    print(field.spatial.crs)", 
      "    print(field.spatial.crs.sr.ExportToProj4())", 
      "    print('')"
     ], 
     "language": "python", 
     "outputs": [
      {
       "output_type": "stream", 
       "stream": "stdout", 
       "text": [
        "<ocgis.interface.base.crs.CFWGS84 object at 0x22926d0>", 
        "+proj=longlat +ellps=WGS84 +towgs84=0,0,0,0,0,0,0 +no_defs ", 
        "", 
        "<ocgis.interface.base.crs.CFNarccapObliqueMercator object at 0x3200a10>", 
        "+proj=omerc +lat_0=47.5 +lonc=-97 +alpha=360 +k=1 +x_0=3925000 +y_0=3175000 +gamma=0 +ellps=WGS84 +units=m +no_defs ", 
        ""
       ]
      }
     ], 
     "prompt_number": 36
    }, 
    {
     "cell_type": "code", 
     "collapsed": false, 
     "input": [
      "## this more complicated example requires data from the NARCCAP data be projected into", 
      "## a new coordinate system.", 
      "import tempfile", 
      "import ocgis", 
      "dir_output = tempfile.mkdtemp(prefix='ocgis_')", 
      "uri1 = '/usr/local/climate_data/CanCM4/tas_day_CanCM4_decadal2010_r2i1p1_20110101-20201231.nc'", 
      "variable = 'tas'", 
      "rd1 = ocgis.RequestDataset(uri=uri1,variable=variable)", 
      "uri2 = '/usr/local/climate_data/narccap/tas_RCM3_gfdl_1981010103.nc'", 
      "rd2 = ocgis.RequestDataset(uri=uri2,variable=variable,alias='tas_narccap')", 
      "rds = [rd1,rd2]", 
      "## first, write all the geometries for the two datasets", 
      "for rd in rds:", 
      "    ops = ocgis.OcgOperations(dataset=rd,output_format='shp',add_auxiliary_files=False,", 
      "                              output_crs=ocgis.crs.CFWGS84(),prefix=rd.alias,snippet=True,", 
      "                              dir_output=dir_output)", 
      "    print(ops.execute())", 
      "## second, output the unwrapped CMIP data", 
      "ops = ocgis.OcgOperations(dataset=rd1,output_format='shp',add_auxiliary_files=False,", 
      "                          output_crs=ocgis.crs.CFWGS84(),prefix='tas_unwrapped',snippet=True,", 
      "                          dir_output=dir_output,vector_wrap=False)", 
      "print(ops.execute())", 
      "## third, subset them by a point and write to file", 
      "## longitude, latitude", 
      "geom = [-105.2751,39.9782]", 
      "ops = ocgis.OcgOperations(dataset=rds,geom=geom,output_format='csv+',dir_output=dir_output,", 
      "                          prefix='ncar_point',add_auxiliary_files=True,output_crs=ocgis.crs.CFWGS84(),", 
      "                          abstraction='point')", 
      "print(ops.execute())"
     ], 
     "language": "python", 
     "outputs": [
      {
       "output_type": "stream", 
       "stream": "stdout", 
       "text": [
        "/tmp/ocgis_DCz97o/tas.shp", 
        "/tmp/ocgis_DCz97o/tas_narccap.shp"
       ]
      }, 
      {
       "output_type": "stream", 
       "stream": "stdout", 
       "text": [
        "", 
        "/tmp/ocgis_DCz97o/tas_unwrapped.shp"
       ]
      }, 
      {
       "output_type": "stream", 
       "stream": "stdout", 
       "text": [
        "", 
        "/tmp/ocgis_DCz97o/ncar_point/ncar_point.csv"
       ]
      }, 
      {
       "output_type": "stream", 
       "stream": "stdout", 
       "text": [
        ""
       ]
      }
     ], 
     "prompt_number": 32
    }, 
    {
     "cell_type": "code", 
     "collapsed": true, 
     "input": [], 
     "language": "python", 
     "outputs": [], 
     "prompt_number": 32
    }
   ]
  }
 ]
}