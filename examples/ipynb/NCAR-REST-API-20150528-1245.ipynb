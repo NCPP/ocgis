{
 "cells": [
  {
   "cell_type": "code",
   "execution_count": null,
   "metadata": {},
   "outputs": [],
   "source": [
    "import os, sys, webbrowser\n",
    "sys.path.append(os.path.expanduser('~/l/ocgis/src'))"
   ]
  },
  {
   "cell_type": "code",
   "execution_count": null,
   "metadata": {},
   "outputs": [],
   "source": [
    "from ocgis.api.query import QueryInterface\n",
    "from ocgis import env, RequestDataset\n",
    "\n",
    "env.DIR_DATA = os.path.expanduser('~/data/ocgis_test_data/nc')\n",
    "env.DIR_OUTPUT = os.path.expanduser('~/htmp/ncar-rest-demo')\n",
    "env.DIR_SHPCABINET = os.path.expanduser('~/data/ocgis_test_data/shp')"
   ]
  },
  {
   "cell_type": "code",
   "execution_count": null,
   "metadata": {},
   "outputs": [],
   "source": [
    "def get_execute_operations(qs):\n",
    "    qi = QueryInterface(qs)\n",
    "    ops = qi.get_operations()\n",
    "    return ops.execute()\n",
    "\n",
    "uri = 'tas_RCM3_gfdl_1981010103.nc'"
   ]
  },
  {
   "cell_type": "code",
   "execution_count": 4,
   "metadata": {},
   "outputs": [
    {
     "name": "stdout",
     "output_type": "stream",
     "text": [
      "{u'dataset': {u'Conventions': u'CF-1.0',\n",
      "              u'NCO': u'4.0.5',\n",
      "              u'experiment_id': u'present-day climate using GFDL CM2.1',\n",
      "              u'institution': u'CCIL, UC Santa Cruz (Climate Change and Impacts Laboratory, University of California, Santa Cruz, CA, USA)',\n",
      "              u'project_id': u'NARCCAP',\n",
      "              u'realization': u'1',\n",
      "              u'source': u'RegCM3 (2006) atmosphere: RegCM3v3.1 hydrostatic, split-explicit, horizontal equal area grid resolution of 50 km by 50 km, vertical sigma-coordinates levels ={0.025, 0.075, 0.13, 0.195, 0.27, 0.35, 0.43, 0.51, 0.59, 0.67, 0.745, 0.8099999, 0.865, 0.91, 0.945, 0.97, 0.985, 0.995} land: BATSv1e Biosphere-Atmosphere Transfer Scheme',\n",
      "              u'table_id': u'Table 2',\n",
      "              u'title': u'UC Santa Cruz RegCM3 model output prepared for NARCCAP present-day climate using GFDL CM2.1'},\n",
      " u'dim_map': {u'T': {u'bounds': None,\n",
      "                     u'dimension': u'time',\n",
      "                     u'pos': 0,\n",
      "                     u'variable': u'time'},\n",
      "              u'X': {u'bounds': None,\n",
      "                     u'dimension': u'xc',\n",
      "                     u'pos': 2,\n",
      "                     u'variable': u'xc'},\n",
      "              u'Y': {u'bounds': None,\n",
      "                     u'dimension': u'yc',\n",
      "                     u'pos': 1,\n",
      "                     u'variable': u'yc'},\n",
      "              u'Z': None},\n",
      " u'dimensions': {u'time': {u'isunlimited': True, u'len': 14600},\n",
      "                 u'xc': {u'isunlimited': False, u'len': 134},\n",
      "                 u'yc': {u'isunlimited': False, u'len': 104}},\n",
      " u'file_format': u'NETCDF3_CLASSIC',\n",
      " u'grid_mapping_variable_name': u'Transverse_Mercator',\n",
      " u'variables': {u'Transverse_Mercator': {u'attrs': {u'false_easting': 3925000.0,\n",
      "                                                    u'false_northing': 3175000.0,\n",
      "                                                    u'grid_mapping_name': u'transverse_mercator',\n",
      "                                                    u'latitude_of_projection_origin': 47.5,\n",
      "                                                    u'longitude_of_central_meridian': -97.0,\n",
      "                                                    u'scale_factor_at_central_meridian': 1.0},\n",
      "                                         u'dimensions': [],\n",
      "                                         u'dtype': u'|S1',\n",
      "                                         u'fill_value': u'N/A',\n",
      "                                         u'name': u'Transverse_Mercator'},\n",
      "                u'lat': {u'attrs': {u'axis': u'Y',\n",
      "                                    u'long_name': u'latitude',\n",
      "                                    u'standard_name': u'latitude',\n",
      "                                    u'units': u'degrees_north'},\n",
      "                         u'dimensions': [u'yc', u'xc'],\n",
      "                         u'dtype': u'float64',\n",
      "                         u'fill_value': 1e+20,\n",
      "                         u'name': u'lat'},\n",
      "                u'lon': {u'attrs': {u'axis': u'X',\n",
      "                                    u'long_name': u'longitude',\n",
      "                                    u'standard_name': u'longitude',\n",
      "                                    u'units': u'degrees_east'},\n",
      "                         u'dimensions': [u'yc', u'xc'],\n",
      "                         u'dtype': u'float64',\n",
      "                         u'fill_value': 1e+20,\n",
      "                         u'name': u'lon'},\n",
      "                u'tas': {u'attrs': {u'coordinates': u'lon lat',\n",
      "                                    u'grid_mapping': u'Transverse_Mercator',\n",
      "                                    u'long_name': u'Surface_Air_Temperature',\n",
      "                                    u'missing_value': 1.0000000200408773e+20,\n",
      "                                    u'original_name': u'TA',\n",
      "                                    u'original_units': u'K',\n",
      "                                    u'standard_name': u'air_temperature',\n",
      "                                    u'units': u'K'},\n",
      "                         u'dimensions': [u'time', u'yc', u'xc'],\n",
      "                         u'dtype': u'float32',\n",
      "                         u'fill_value': 1.0000000200408773e+20,\n",
      "                         u'name': u'tas'},\n",
      "                u'time': {u'attrs': {u'axis': u'T',\n",
      "                                     u'calendar': u'365_day',\n",
      "                                     u'long_name': u'time',\n",
      "                                     u'standard_name': u'time',\n",
      "                                     u'units': u'days since 1968-01-01 00:00:0.0'},\n",
      "                          u'dimensions': [u'time'],\n",
      "                          u'dtype': u'float64',\n",
      "                          u'fill_value': 1e+20,\n",
      "                          u'name': u'time'},\n",
      "                u'xc': {u'attrs': {u'axis': u'X',\n",
      "                                   u'long_name': u'x-coordinate in Cartesian system',\n",
      "                                   u'standard_name': u'projection_x_coordinate',\n",
      "                                   u'units': u'm'},\n",
      "                        u'dimensions': [u'xc'],\n",
      "                        u'dtype': u'float64',\n",
      "                        u'fill_value': 1e+20,\n",
      "                        u'name': u'xc'},\n",
      "                u'yc': {u'attrs': {u'axis': u'Y',\n",
      "                                   u'long_name': u'y-coordinate in Cartesian system',\n",
      "                                   u'standard_name': u'projection_y_coordinate',\n",
      "                                   u'units': u'm'},\n",
      "                        u'dimensions': [u'yc'],\n",
      "                        u'dtype': u'float64',\n",
      "                        u'fill_value': 1e+20,\n",
      "                        u'name': u'yc'}}}\n"
     ]
    }
   ],
   "source": [
    "from pprint import pprint\n",
    "import json\n",
    "\n",
    "qs = 'uri={0}&output_format=meta-json'.format(uri)\n",
    "ret = get_execute_operations(qs)\n",
    "pprint(json.loads(ret))"
   ]
  },
  {
   "cell_type": "code",
   "execution_count": 5,
   "metadata": {},
   "outputs": [
    {
     "name": "stdout",
     "output_type": "stream",
     "text": [
      "uri=tas_RCM3_gfdl_1981010103.nc&spatial_operation=intersects&geom=state_boundaries&geom_select_uid=16|32|34&agg_selection=true&output_format=shp&snippet=true&prefix=subset&output_crs=4326\n",
      "/home/benkoziol/htmp/ncar-rest-demo/subset/subset.shp\n"
     ]
    }
   ],
   "source": [
    "qs = 'uri={0}&spatial_operation=intersects&geom=state_boundaries&geom_select_uid=16|32|34&agg_selection=true&output_format=shp&snippet=true&prefix=subset&output_crs=4326'.format(uri)\n",
    "print qs\n",
    "ret = get_execute_operations(qs)\n",
    "print ret"
   ]
  },
  {
   "cell_type": "code",
   "execution_count": 6,
   "metadata": {},
   "outputs": [
    {
     "name": "stdout",
     "output_type": "stream",
     "text": [
      "uri=tas_RCM3_gfdl_1981010103.nc&spatial_operation=intersects&geom=state_boundaries&geom_select_uid=16|32|34&agg_selection=true&output_format=shp&snippet=true&prefix=subset_as_polygons&output_crs=4326&interpolate_spatial_bounds=true\n",
      "/home/benkoziol/htmp/ncar-rest-demo/subset_as_polygons/subset_as_polygons.shp\n"
     ]
    }
   ],
   "source": [
    "qs = 'uri={0}&spatial_operation=intersects&geom=state_boundaries&geom_select_uid=16|32|34&agg_selection=true&output_format=shp&snippet=true&prefix=subset_as_polygons&output_crs=4326&interpolate_spatial_bounds=true'.format(uri)\n",
    "print qs\n",
    "ret = get_execute_operations(qs)\n",
    "print ret"
   ]
  },
  {
   "cell_type": "code",
   "execution_count": 7,
   "metadata": {},
   "outputs": [
    {
     "name": "stdout",
     "output_type": "stream",
     "text": [
      "uri=tas_RCM3_gfdl_1981010103.nc&geom=state_boundaries&geom_select_uid=16|32|34&conform_units_to=celsius&aggregate=true&output_format=csv&prefix=some_calcs&calc=mean~the_mean|median~the_median|freq_perc~the_p!percentile~90&calc_grouping=month|year\n",
      "/home/benkoziol/htmp/ncar-rest-demo/some_calcs/some_calcs.csv\n"
     ]
    }
   ],
   "source": [
    "qs = 'uri={0}&geom=state_boundaries&geom_select_uid=16|32|34&conform_units_to=celsius&aggregate=true&output_format=csv&prefix=some_calcs&calc=mean~the_mean|median~the_median|freq_perc~the_p!percentile~90&calc_grouping=month|year'.format(uri)\n",
    "print qs\n",
    "ret = get_execute_operations(qs)\n",
    "print ret"
   ]
  },
  {
   "cell_type": "code",
   "execution_count": 8,
   "metadata": {},
   "outputs": [
    {
     "name": "stdout",
     "output_type": "stream",
     "text": [
      "uri=tas_RCM3_gfdl_1981010103.nc&geom=-104.8|38.7|-93.6|43.6&output_format=nc&time_region=year~1985,month~5|6&prefix=bbox\n",
      "/home/benkoziol/htmp/ncar-rest-demo/bbox/bbox.nc\n",
      "URI = /home/benkoziol/htmp/ncar-rest-demo/bbox/bbox.nc\n",
      "VARIABLE = tas\n",
      "\n",
      "=== Temporal =============\n",
      "\n",
      "Name = time\n",
      "Count = 488\n",
      "Has Bounds = False\n",
      "Data Type = float64\n",
      "Start Date = 1985-05-01 00:00:00\n",
      "End Date = 1985-06-30 21:00:00\n",
      "Calendar = 365_day\n",
      "Units = days since 1968-01-01 00:00:0.0\n",
      "Resolution (Days) = 0\n",
      "\n",
      "=== Spatial ==============\n",
      "\n",
      "Spatial Reference = CFNarccapObliqueMercator\n",
      "Proj4 String = +proj=omerc +lat_0=47.5 +lonc=-97 +alpha=360 +k=1 +x_0=3925000 +y_0=3175000 +gamma=360 +ellps=WGS84 +units=m +no_defs \n",
      "Extent = (3250000.0, 2250000.0, 4200000.0, 2750000.0)\n",
      "Geometry Interface = SpatialGeometryPointDimension\n",
      "Resolution = 50000.0\n",
      "Count = 220\n",
      "\n",
      "=== Level ================\n",
      "\n",
      "No level dimension.\n",
      "\n",
      "=== Metadata Dump ========\n",
      "\n",
      "dimensions:\n",
      "    time = 488 ;\n",
      "    yc = 11 ;\n",
      "    xc = 20 ;\n",
      "\n",
      "variables:\n",
      "    float64 time(time) ;\n",
      "      time:axis = \"T\" ;\n",
      "      time:standard_name = \"time\" ;\n",
      "      time:long_name = \"time\" ;\n",
      "      time:units = \"days since 1968-01-01 00:00:0.0\" ;\n",
      "      time:calendar = \"365_day\" ;\n",
      "    float64 yc(yc) ;\n",
      "      yc:axis = \"Y\" ;\n",
      "      yc:long_name = \"y-coordinate in Cartesian system\" ;\n",
      "      yc:standard_name = \"projection_y_coordinate\" ;\n",
      "      yc:units = \"m\" ;\n",
      "    float64 xc(xc) ;\n",
      "      xc:axis = \"X\" ;\n",
      "      xc:long_name = \"x-coordinate in Cartesian system\" ;\n",
      "      xc:standard_name = \"projection_x_coordinate\" ;\n",
      "      xc:units = \"m\" ;\n",
      "    |S1 Transverse_Mercator() ;\n",
      "      Transverse_Mercator:grid_mapping_name = \"transverse_mercator\" ;\n",
      "      Transverse_Mercator:latitude_of_projection_origin = \"47.5\" ;\n",
      "      Transverse_Mercator:scale_factor_at_central_meridian = \"1.0\" ;\n",
      "      Transverse_Mercator:longitude_of_central_meridian = \"-97.0\" ;\n",
      "      Transverse_Mercator:false_northing = \"3175000.0\" ;\n",
      "      Transverse_Mercator:false_easting = \"3925000.0\" ;\n",
      "      Transverse_Mercator:alpha = \"360\" ;\n",
      "    float32 tas(time, yc, xc) ;\n",
      "      tas:grid_mapping = \"Transverse_Mercator\" ;\n",
      "      tas:standard_name = \"air_temperature\" ;\n",
      "      tas:long_name = \"Surface_Air_Temperature\" ;\n",
      "      tas:units = \"K\" ;\n",
      "      tas:coordinates = \"lon lat\" ;\n",
      "      tas:missing_value = \"1.00000002004e+20\" ;\n",
      "      tas:original_name = \"TA\" ;\n",
      "      tas:original_units = \"K\" ;\n",
      "\n",
      "// global attributes:\n",
      "    :title = UC Santa Cruz RegCM3 model output prepared for NARCCAP present-day climate using GFDL CM2.1 ;\n",
      "    :Conventions = CF-1.0 ;\n",
      "    :experiment_id = present-day climate using GFDL CM2.1 ;\n",
      "    :realization = 1 ;\n",
      "    :table_id = Table 2 ;\n",
      "    :project_id = NARCCAP ;\n",
      "    :source = RegCM3 (2006) atmosphere: RegCM3v3.1 hydrostatic, split-explicit, horizontal equal area grid resolution of 50 km by 50 km, vertical sigma-coordinates levels ={0.025, 0.075, 0.13, 0.195, 0.27, 0.35, 0.43, 0.51, 0.59, 0.67, 0.745, 0.8099999, 0.865, 0.91, 0.945, 0.97, 0.985, 0.995} land: BATSv1e Biosphere-Atmosphere Transfer Scheme ;\n",
      "    :institution = CCIL, UC Santa Cruz (Climate Change and Impacts Laboratory, University of California, Santa Cruz, CA, USA) ;\n",
      "    :NCO = 4.0.5 ;\n",
      "    :history = \n",
      "2015-06-03 21:05:26.263871 UTC ocgis-1.1.0n: OcgOperations(calc_sample_size=False, optimizations=None, geom_select_sql_where=None, output_format=\"nc\", spatial_operation=\"intersects\", format_time=True, select_nearest=False, output_crs=None, time_range=None, calc_grouping=None, prefix=\"bbox\", abstraction=\"None\", regrid_destination=None, allow_empty=False, vector_wrap=False, aggregate=False, interpolate_spatial_bounds=False, dataset=RequestDatasetCollection(request_datasets=[RequestDataset(uri=\"/home/benkoziol/data/ocgis_test_data/nc/narccap/tas_RCM3_gfdl_1981010103.nc\", variable=\"tas\", alias=\"tas\", units=None, time_range=None, time_region={'year': [1985], 'month': [5, 6]}, level_range=None, conform_units_to=None, crs={'lonc': -97, 'ellps': 'WGS84', 'y_0': 3175000, 'no_defs': True, 'proj': 'omerc', 'x_0': 3925000, 'units': 'm', 'alpha': 360, 'k': 1, 'gamma': 360, 'lat_0': 47.5}, t_units=None, t_calendar=None, t_conform_units_to=None, did=1, meta={}, s_abstraction=None, dimension_map=None, name=\"tas\", driver=\"netCDF\", regrid_source=True, regrid_destination=False)]), geom_uid=None, dir_output=\"/home/benkoziol/htmp/ncar-rest-demo\", backend=\"ocg\", search_radius_mult=2.0, add_auxiliary_files=True, slice=None, callback=None, calc_raw=False, agg_selection=False, level_range=None, geom_select_uid=None, snippet=False, time_region={'month': [5, 6], 'year': [1985]}, melted=False, geom=-104.8|38.7|-93.6|43.6, regrid_options={'value_mask': None, 'with_corners': 'choose'}, conform_units_to=None, headers=None, calc=None, file_only=False, ) ;\n"
     ]
    }
   ],
   "source": [
    "qs = 'uri={0}&geom=-104.8|38.7|-93.6|43.6&output_format=nc&time_region=year~1985,month~5|6&prefix=bbox'.format(uri)\n",
    "print qs\n",
    "ret = get_execute_operations(qs)\n",
    "print ret\n",
    "rd = RequestDataset(ret)\n",
    "rd.inspect()"
   ]
  },
  {
   "cell_type": "code",
   "execution_count": 9,
   "metadata": {},
   "outputs": [
    {
     "name": "stdout",
     "output_type": "stream",
     "text": [
      "uri=tas_day_CanCM4_decadal2000_r2i1p1_20010101-20101231.nc|rhsmax_day_CanCM4_decadal2010_r2i1p1_20110101-20201231.nc&geom=-104.8|38.7&output_format=csv&select_nearest=true&prefix=point_selection\n",
      "/home/benkoziol/htmp/ncar-rest-demo/point_selection/point_selection.csv\n"
     ]
    }
   ],
   "source": [
    "uri1 = 'tas_day_CanCM4_decadal2000_r2i1p1_20010101-20101231.nc'\n",
    "uri2 = 'rhsmax_day_CanCM4_decadal2010_r2i1p1_20110101-20201231.nc'\n",
    "qs = 'uri={0}|{1}&geom=-104.8|38.7&output_format=csv&select_nearest=true&prefix=point_selection'.format(uri1, uri2)\n",
    "print qs\n",
    "ret = get_execute_operations(qs)\n",
    "print ret"
   ]
  },
  {
   "cell_type": "code",
   "execution_count": null,
   "metadata": {},
   "outputs": [],
   "source": [
    ""
   ]
  }
 ],
 "metadata": {
  "kernelspec": {
   "display_name": "Python 2",
   "language": "python",
   "name": "python2"
  },
  "language_info": {
   "codemirror_mode": {
    "name": "ipython",
    "version": 2.0
   },
   "file_extension": ".py",
   "mimetype": "text/x-python",
   "name": "python",
   "nbconvert_exporter": "python",
   "pygments_lexer": "ipython2",
   "version": "2.7.9"
  }
 },
 "nbformat": 4,
 "nbformat_minor": 0
}