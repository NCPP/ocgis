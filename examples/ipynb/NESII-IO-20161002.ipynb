{
 "cells": [
  {
   "cell_type": "code",
   "execution_count": 1,
   "metadata": {
    "collapsed": false
   },
   "outputs": [],
   "source": [
    "import sys\n",
    "sys.path.append('/home/benkoziol/Dropbox/NESII/project/ocg/git/ocgis/src')\n",
    "\n",
    "import ocgis\n",
    "ocgis.env.DIR_DATA = '/media/benkoziol/Extra Drive 1/data/ocgis_test_data/CanCM4'\n",
    "\n",
    "FILENAME_NC = 'tas_day_CanCM4_decadal2000_r2i1p1_20010101-20101231.nc'\n",
    "FILENAME_SHP = '/home/benkoziol/Dropbox/NESII/project/ocg/bin/shp/state_boundaries/state_boundaries.shp'\n",
    "\n",
    "import tempfile\n",
    "OUTDIR = tempfile.mkdtemp()"
   ]
  },
  {
   "cell_type": "code",
   "execution_count": 2,
   "metadata": {
    "collapsed": false
   },
   "outputs": [
    {
     "name": "stdout",
     "output_type": "stream",
     "text": [
      "OCGIS Driver Key: netcdf-cf {\n",
      "dimensions:\n",
      "    time = ISUNLIMITED ; // 3650 currently\n",
      "    lat = 64 ;\n",
      "    lon = 128 ;\n",
      "    bnds = 2 ;\n",
      "variables:\n",
      "    float64 time(time) ;\n",
      "      time:bounds = \"time_bnds\" ;\n",
      "      time:units = \"days since 1850-1-1\" ;\n",
      "      time:calendar = \"365_day\" ;\n",
      "      time:axis = \"T\" ;\n",
      "      time:long_name = \"time\" ;\n",
      "      time:standard_name = \"time\" ;\n",
      "    float64 time_bnds(time, bnds) ;\n",
      "    float64 lat(lat) ;\n",
      "      lat:bounds = \"lat_bnds\" ;\n",
      "      lat:units = \"degrees_north\" ;\n",
      "      lat:axis = \"Y\" ;\n",
      "      lat:long_name = \"latitude\" ;\n",
      "      lat:standard_name = \"latitude\" ;\n",
      "    float64 lat_bnds(lat, bnds) ;\n",
      "    float64 lon(lon) ;\n",
      "      lon:bounds = \"lon_bnds\" ;\n",
      "      lon:units = \"degrees_east\" ;\n",
      "      lon:axis = \"X\" ;\n",
      "      lon:long_name = \"longitude\" ;\n",
      "      lon:standard_name = \"longitude\" ;\n",
      "    float64 lon_bnds(lon, bnds) ;\n",
      "    float64 height() ;\n",
      "      height:units = \"m\" ;\n",
      "      height:axis = \"Z\" ;\n",
      "      height:positive = \"up\" ;\n",
      "      height:long_name = \"height\" ;\n",
      "      height:standard_name = \"height\" ;\n",
      "    float32 tas(time, lat, lon) ;\n",
      "      tas:standard_name = \"air_temperature\" ;\n",
      "      tas:long_name = \"Near-Surface Air Temperature\" ;\n",
      "      tas:units = \"K\" ;\n",
      "      tas:original_name = \"ST\" ;\n",
      "      tas:cell_methods = \"time: mean (interval: 15 minutes)\" ;\n",
      "      tas:cell_measures = \"area: areacella\" ;\n",
      "      tas:history = \"2011-05-08T01:01:51Z altered by CMOR: Treated scalar dimension: 'height'. 2011-05-08T01:01:51Z altered by CMOR: replaced missing value flag (1e+38) with standard missing value (1e+20).\" ;\n",
      "      tas:coordinates = \"height\" ;\n",
      "      tas:missing_value = 1.00000002004e+20 ;\n",
      "      tas:_FillValue = 1.00000002004e+20 ;\n",
      "      tas:associated_files = \"baseURL: http://cmip-pcmdi.llnl.gov/CMIP5/dataLocation gridspecFile: gridspec_atmos_fx_CanCM4_decadal2000_r0i0p0.nc areacella: areacella_fx_CanCM4_decadal2000_r0i0p0.nc\" ;\n",
      "\n",
      "// global attributes:\n",
      "    :institution = \"CCCma (Canadian Centre for Climate Modelling and Analysis, Victoria, BC, Canada)\" ;\n",
      "    :institute_id = \"CCCma\" ;\n",
      "    :experiment_id = \"decadal2000\" ;\n",
      "    :source = \"CanCM4 2010 atmosphere: CanAM4 (AGCM15i, T63L35) ocean: CanOM4 (OGCM4.0, 256x192L40) sea ice: CanSIM1 (Cavitating Fluid, T63 Gaussian Grid) land: CLASS2.7\" ;\n",
      "    :model_id = \"CanCM4\" ;\n",
      "    :forcing = \"GHG,Oz,SA,BC,OC,LU,Sl,Vl (GHG includes CO2,CH4,N2O,CFC11,effective CFC12)\" ;\n",
      "    :parent_experiment_id = \"N/A\" ;\n",
      "    :parent_experiment_rip = \"N/A\" ;\n",
      "    :branch_time = 0.0 ;\n",
      "    :contact = \"cccma_info@ec.gc.ca\" ;\n",
      "    :references = \"http://www.cccma.ec.gc.ca/models\" ;\n",
      "    :initialization_method = 1 ;\n",
      "    :physics_version = 1 ;\n",
      "    :tracking_id = \"fac7bd83-dd7a-425b-b4dc-b5ab2e915939\" ;\n",
      "    :branch_time_YMDH = \"2001:01:01:00\" ;\n",
      "    :CCCma_runid = \"DHFP1B_E002_I2001_M01\" ;\n",
      "    :CCCma_parent_runid = \"DHFP1_E002\" ;\n",
      "    :CCCma_data_licence = \"1) GRANT OF LICENCE - The Government of Canada (Environment Canada) is the \n",
      "owner of all intellectual property rights (including copyright) that may exist in this Data \n",
      "product. You (as \"The Licensee\") are hereby granted a non-exclusive, non-assignable, \n",
      "non-transferable unrestricted licence to use this data product for any purpose including \n",
      "the right to share these data with others and to make value-added and derivative \n",
      "products from it. This licence is not a sale of any or all of the owner's rights.\n",
      "2) NO WARRANTY - This Data product is provided \"as-is\"; it has not been designed or \n",
      "prepared to meet the Licensee's particular requirements. Environment Canada makes no \n",
      "warranty, either express or implied, including but not limited to, warranties of \n",
      "merchantability and fitness for a particular purpose. In no event will Environment Canada \n",
      "be liable for any indirect, special, consequential or other damages attributed to the \n",
      "Licensee's use of the Data product.\" ;\n",
      "    :product = \"output\" ;\n",
      "    :experiment = \"10- or 30-year run initialized in year 2000\" ;\n",
      "    :frequency = \"day\" ;\n",
      "    :creation_date = \"2011-05-08T01:01:51Z\" ;\n",
      "    :history = \"2011-05-08T01:01:51Z CMOR rewrote data to comply with CF standards and CMIP5 requirements.\" ;\n",
      "    :Conventions = \"CF-1.4\" ;\n",
      "    :project_id = \"CMIP5\" ;\n",
      "    :table_id = \"Table day (28 March 2011) f9d6cfec5981bb8be1801b35a81002f0\" ;\n",
      "    :title = \"CanCM4 model output prepared for CMIP5 10- or 30-year run initialized in year 2000\" ;\n",
      "    :parent_experiment = \"N/A\" ;\n",
      "    :modeling_realm = \"atmos\" ;\n",
      "    :realization = 2 ;\n",
      "    :cmor_version = \"2.5.4\" ;\n",
      "}\n"
     ]
    }
   ],
   "source": [
    "# Inspect a CF NetCDF data file. The NetCDF-CF driver is the default.\n",
    "rd_nc = ocgis.RequestDataset(FILENAME_NC)\n",
    "rd_nc.inspect()"
   ]
  },
  {
   "cell_type": "code",
   "execution_count": 3,
   "metadata": {
    "collapsed": false
   },
   "outputs": [
    {
     "name": "stdout",
     "output_type": "stream",
     "text": [
      "OCGIS Driver Key: vector {\n",
      "dimensions:\n",
      "    ocgis_geom = 51 ;\n",
      "variables:\n",
      "    <type 'int'> UGID(ocgis_geom) ;\n",
      "    <type 'object'> STATE_FIPS(ocgis_geom) ;\n",
      "    <type 'float'> ID(ocgis_geom) ;\n",
      "    <type 'object'> STATE_NAME(ocgis_geom) ;\n",
      "    <type 'object'> STATE_ABBR(ocgis_geom) ;\n",
      "}\n"
     ]
    }
   ],
   "source": [
    "# Inspect a shapefile.\n",
    "rd_shp = ocgis.RequestDataset(FILENAME_SHP)\n",
    "rd_shp.inspect()"
   ]
  },
  {
   "cell_type": "code",
   "execution_count": 4,
   "metadata": {
    "collapsed": false
   },
   "outputs": [
    {
     "name": "stdout",
     "output_type": "stream",
     "text": [
      "['__abstractmethods__',\n",
      " '__class__',\n",
      " '__delattr__',\n",
      " '__dict__',\n",
      " '__doc__',\n",
      " '__eq__',\n",
      " '__format__',\n",
      " '__getattribute__',\n",
      " '__hash__',\n",
      " '__init__',\n",
      " '__metaclass__',\n",
      " '__module__',\n",
      " '__new__',\n",
      " '__reduce__',\n",
      " '__reduce_ex__',\n",
      " '__repr__',\n",
      " '__setattr__',\n",
      " '__sizeof__',\n",
      " '__str__',\n",
      " '__subclasshook__',\n",
      " '__weakref__',\n",
      " '_abc_cache',\n",
      " '_abc_negative_cache',\n",
      " '_abc_negative_cache_version',\n",
      " '_abc_registry',\n",
      " '_close_',\n",
      " '_default_crs',\n",
      " '_dimension_map_raw',\n",
      " '_dist',\n",
      " '_get_crs_main_',\n",
      " '_get_dimensions_main_',\n",
      " '_get_metadata_main_',\n",
      " '_get_variable_collection_write_target_',\n",
      " '_init_variable_from_source_main_',\n",
      " '_metadata_raw',\n",
      " '_open_',\n",
      " '_priority',\n",
      " '_write_variable_collection_main_',\n",
      " 'close',\n",
      " 'crs',\n",
      " 'dimension_map_raw',\n",
      " 'dist',\n",
      " 'extensions',\n",
      " 'get_crs',\n",
      " 'get_dimension_map',\n",
      " 'get_dimensioned_variables',\n",
      " 'get_dist',\n",
      " 'get_distributed_dimension_name',\n",
      " 'get_dump_report',\n",
      " 'get_field',\n",
      " 'get_group_metadata',\n",
      " 'get_metadata',\n",
      " 'get_source_metadata_as_json',\n",
      " 'get_variable_collection',\n",
      " 'get_variable_for_writing',\n",
      " 'get_variable_for_writing_temporal',\n",
      " 'get_variable_metadata',\n",
      " 'get_variable_value',\n",
      " 'get_variable_write_dtype',\n",
      " 'get_variable_write_fill_value',\n",
      " 'get_variable_write_value',\n",
      " 'init_variable_from_source',\n",
      " 'init_variable_value',\n",
      " 'inquire_opened_state',\n",
      " 'inspect',\n",
      " 'key',\n",
      " 'metadata_raw',\n",
      " 'metadata_source',\n",
      " 'open',\n",
      " 'output_formats',\n",
      " 'rd',\n",
      " 'validate_field',\n",
      " 'validate_ops',\n",
      " 'write_field',\n",
      " 'write_variable',\n",
      " 'write_variable_collection']\n"
     ]
    }
   ],
   "source": [
    "# Drivers implement all format-specific operations (read data from file, parse file metadata).\n",
    "from pprint import pprint\n",
    "pprint(dir(rd_nc.driver))"
   ]
  },
  {
   "cell_type": "code",
   "execution_count": 5,
   "metadata": {
    "collapsed": false
   },
   "outputs": [
    {
     "name": "stdout",
     "output_type": "stream",
     "text": [
      "['groups', 'global_attributes', 'file_format', 'variables', 'dimensions']\n"
     ]
    }
   ],
   "source": [
    "# Data may be hierarchically grouped in \"standardized\" metadata.\n",
    "from ocgis.util.helpers import pprint_dict\n",
    "pprint(rd_nc.metadata.keys())"
   ]
  },
  {
   "cell_type": "code",
   "execution_count": 6,
   "metadata": {
    "collapsed": false
   },
   "outputs": [
    {
     "name": "stdout",
     "output_type": "stream",
     "text": [
      "\n",
      "{'attributes': {u'_FillValue': 1e+20,\n",
      "                u'associated_files': u'baseURL: http://cmip-pcmdi.llnl.gov/CMIP5/dataLocation gridspecFile: gridspec_atmos_fx_CanCM4_decadal2000_r0i0p0.nc areacella: areacella_fx_CanCM4_decadal2000_r0i0p0.nc',\n",
      "                u'cell_measures': u'area: areacella',\n",
      "                u'cell_methods': u'time: mean (interval: 15 minutes)',\n",
      "                u'coordinates': u'height',\n",
      "                u'history': u\"2011-05-08T01:01:51Z altered by CMOR: Treated scalar dimension: 'height'. 2011-05-08T01:01:51Z altered by CMOR: replaced missing value flag (1e+38) with standard missing value (1e+20).\",\n",
      "                u'long_name': u'Near-Surface Air Temperature',\n",
      "                u'missing_value': 1e+20,\n",
      "                u'original_name': u'ST',\n",
      "                u'standard_name': u'air_temperature',\n",
      "                u'units': u'K'},\n",
      " 'dimensions': (u'time', u'lat', u'lon'),\n",
      " 'dtype': dtype('float32'),\n",
      " 'dtype_packed': None,\n",
      " 'fill_value': 1e+20,\n",
      " 'fill_value_packed': None,\n",
      " 'name': u'tas'}\n"
     ]
    }
   ],
   "source": [
    "pprint_dict(rd_nc.metadata['variables']['tas'])"
   ]
  },
  {
   "cell_type": "code",
   "execution_count": 7,
   "metadata": {
    "collapsed": false
   },
   "outputs": [
    {
     "name": "stdout",
     "output_type": "stream",
     "text": [
      "\n",
      "{'isunlimited': True, 'name': u'time', 'size': 3650}\n"
     ]
    }
   ],
   "source": [
    "pprint_dict(rd_nc.metadata['dimensions']['time'])"
   ]
  },
  {
   "cell_type": "code",
   "execution_count": 8,
   "metadata": {
    "collapsed": false
   },
   "outputs": [
    {
     "name": "stdout",
     "output_type": "stream",
     "text": [
      "['crs',\n",
      " 'dimensions',\n",
      " 'variables',\n",
      " 'driver',\n",
      " 'crs_wkt',\n",
      " 'groups',\n",
      " 'ocgis_geom',\n",
      " 'schema']\n"
     ]
    }
   ],
   "source": [
    "pprint(rd_shp.metadata.keys())"
   ]
  },
  {
   "cell_type": "code",
   "execution_count": 9,
   "metadata": {
    "collapsed": false
   },
   "outputs": [
    {
     "name": "stdout",
     "output_type": "stream",
     "text": [
      "\n",
      "{'crs': {'init': u'epsg:4326'},\n",
      " 'crs_wkt': u'GEOGCS[\"GCS_WGS_1984\",DATUM[\"WGS_1984\",SPHEROID[\"WGS_84\",6378137,298.257223563]],PRIMEM[\"Greenwich\",0],UNIT[\"Degree\",0.017453292519943295],AUTHORITY[\"EPSG\",\"4326\"]]',\n",
      " 'dimensions': {'ocgis_geom': {'name': 'ocgis_geom', 'size': 51}},\n",
      " 'driver': u'ESRI Shapefile',\n",
      " 'groups': {},\n",
      " 'ocgis_geom': {'attributes': {},\n",
      "                'dimensions': ('ocgis_geom',),\n",
      "                'dtype': <type 'object'>,\n",
      "                'name': 'ocgis_geom'},\n",
      " 'schema': {'geometry': 'Polygon',\n",
      "            'properties': {u'ID': 'float:11',\n",
      "                           u'STATE_ABBR': 'str:2',\n",
      "                           u'STATE_FIPS': 'str:2',\n",
      "                           u'STATE_NAME': 'str:25',\n",
      "                           u'UGID': 'int:10'}},\n",
      " 'variables': {u'ID': {'attributes': {},\n",
      "                       'dimensions': ('ocgis_geom',),\n",
      "                       'dtype': <type 'float'>,\n",
      "                       'name': u'ID'},\n",
      "               u'STATE_ABBR': {'attributes': {},\n",
      "                               'dimensions': ('ocgis_geom',),\n",
      "                               'dtype': <type 'object'>,\n",
      "                               'name': u'STATE_ABBR'},\n",
      "               u'STATE_FIPS': {'attributes': {},\n",
      "                               'dimensions': ('ocgis_geom',),\n",
      "                               'dtype': <type 'object'>,\n",
      "                               'name': u'STATE_FIPS'},\n",
      "               u'STATE_NAME': {'attributes': {},\n",
      "                               'dimensions': ('ocgis_geom',),\n",
      "                               'dtype': <type 'object'>,\n",
      "                               'name': u'STATE_NAME'},\n",
      "               u'UGID': {'attributes': {},\n",
      "                         'dimensions': ('ocgis_geom',),\n",
      "                         'dtype': <type 'int'>,\n",
      "                         'name': u'UGID'}}}\n"
     ]
    }
   ],
   "source": [
    "pprint_dict(rd_shp.metadata)"
   ]
  },
  {
   "cell_type": "code",
   "execution_count": 11,
   "metadata": {
    "collapsed": true
   },
   "outputs": [],
   "source": [
    "# Modifying metadata will affect variable state when read from file. This will fix the \"tas\" variable data type\n",
    "# to integer.\n",
    "rd_nc.metadata['variables']['tas']['dtype'] = int"
   ]
  },
  {
   "cell_type": "code",
   "execution_count": 12,
   "metadata": {
    "collapsed": false
   },
   "outputs": [
    {
     "name": "stdout",
     "output_type": "stream",
     "text": [
      "[u'time', u'time_bnds', u'lat', u'lat_bnds', u'lon', u'lon_bnds', u'height', u'tas']\n"
     ]
    }
   ],
   "source": [
    "# Data is stored in variable collections.\n",
    "vc = rd_nc.get_variable_collection()\n",
    "assert vc['tas'].dtype == int\n",
    "print(vc.keys())"
   ]
  },
  {
   "cell_type": "code",
   "execution_count": 13,
   "metadata": {
    "collapsed": false
   },
   "outputs": [
    {
     "name": "stdout",
     "output_type": "stream",
     "text": [
      "\n",
      "{u'_FillValue': 1e+20,\n",
      " u'associated_files': u'baseURL: http://cmip-pcmdi.llnl.gov/CMIP5/dataLocation gridspecFile: gridspec_atmos_fx_CanCM4_decadal2000_r0i0p0.nc areacella: areacella_fx_CanCM4_decadal2000_r0i0p0.nc',\n",
      " u'cell_measures': u'area: areacella',\n",
      " u'cell_methods': u'time: mean (interval: 15 minutes)',\n",
      " u'coordinates': u'height',\n",
      " u'history': u\"2011-05-08T01:01:51Z altered by CMOR: Treated scalar dimension: 'height'. 2011-05-08T01:01:51Z altered by CMOR: replaced missing value flag (1e+38) with standard missing value (1e+20).\",\n",
      " u'long_name': u'Near-Surface Air Temperature',\n",
      " u'missing_value': 1e+20,\n",
      " u'original_name': u'ST',\n",
      " u'standard_name': u'air_temperature',\n",
      " u'units': u'K'}\n"
     ]
    }
   ],
   "source": [
    "# The \"payload\" is not loaded until the value is requested.\n",
    "tas = vc['tas']\n",
    "assert tas._value is None\n",
    "# Metadata and dimension information is loaded at variable initialization.\n",
    "pprint_dict(tas.attrs)"
   ]
  },
  {
   "cell_type": "code",
   "execution_count": 14,
   "metadata": {
    "collapsed": true
   },
   "outputs": [],
   "source": [
    "# Sourced variables carry their request origin.\n",
    "assert isinstance(tas._request_dataset, ocgis.RequestDataset)"
   ]
  },
  {
   "cell_type": "code",
   "execution_count": 15,
   "metadata": {
    "collapsed": false
   },
   "outputs": [
    {
     "name": "stdout",
     "output_type": "stream",
     "text": [
      "[u'time', u'time_bnds', u'lat', u'lat_bnds', u'lon', u'lon_bnds', u'height', u'tas']\n"
     ]
    }
   ],
   "source": [
    "# Variables also carry their parent collection.\n",
    "print(tas.parent.keys())"
   ]
  },
  {
   "cell_type": "code",
   "execution_count": 17,
   "metadata": {
    "collapsed": false
   },
   "outputs": [
    {
     "name": "stdout",
     "output_type": "stream",
     "text": [
      "(u'time', u'lat', u'lon')\n",
      "[Dimension(name='time', size=None, size_current=3650, dist=False, is_empty=False), Dimension(name='bnds', size=2, size_current=2, dist=False, is_empty=False), Dimension(name='lat', size=64, size_current=64, dist=False, is_empty=False), Dimension(name='lon', size=128, size_current=128, dist=True, is_empty=False)]\n"
     ]
    }
   ],
   "source": [
    "# Including shared dimensions.\n",
    "print(tas._dimensions)\n",
    "print(tas.parent.dimensions.values())"
   ]
  },
  {
   "cell_type": "code",
   "execution_count": 18,
   "metadata": {
    "collapsed": false
   },
   "outputs": [
    {
     "name": "stdout",
     "output_type": "stream",
     "text": [
      "(3650, 64, 128)\n",
      "(3650, 64, 128)\n",
      "(3650, 64, 10)\n"
     ]
    }
   ],
   "source": [
    "# Variables also slice variables with shared dimensions in the parent collection. Same applies to mask sharing.\n",
    "print(tas.shape)\n",
    "sub_lon = vc['lon'][10:20]\n",
    "print(tas.shape)\n",
    "sub_tas = sub_lon.parent['tas']\n",
    "print(sub_tas.shape)"
   ]
  },
  {
   "cell_type": "code",
   "execution_count": 20,
   "metadata": {
    "collapsed": false
   },
   "outputs": [
    {
     "ename": "AssertionError",
     "evalue": "",
     "traceback": [
      "\u001b[1;31m---------------------------------------------------------------------------\u001b[0m",
      "\u001b[1;31mAssertionError\u001b[0m                            Traceback (most recent call last)",
      "\u001b[1;32m<ipython-input-20-f36a1e76aa2c>\u001b[0m in \u001b[0;36m<module>\u001b[1;34m()\u001b[0m\n\u001b[0;32m      1\u001b[0m \u001b[1;31m# Following a slice, dimensions track source indices without loading data.\u001b[0m\u001b[1;33m\u001b[0m\u001b[1;33m\u001b[0m\u001b[0m\n\u001b[1;32m----> 2\u001b[1;33m \u001b[1;32massert\u001b[0m \u001b[0msub_tas\u001b[0m\u001b[1;33m.\u001b[0m\u001b[0m_value\u001b[0m \u001b[1;32mis\u001b[0m \u001b[0mNone\u001b[0m\u001b[1;33m\u001b[0m\u001b[0m\n\u001b[0m\u001b[0;32m      3\u001b[0m \u001b[1;32mprint\u001b[0m\u001b[1;33m(\u001b[0m\u001b[0msub_tas\u001b[0m\u001b[1;33m.\u001b[0m\u001b[0mvalue\u001b[0m\u001b[1;33m.\u001b[0m\u001b[0mmean\u001b[0m\u001b[1;33m(\u001b[0m\u001b[1;33m)\u001b[0m\u001b[1;33m)\u001b[0m\u001b[1;33m\u001b[0m\u001b[0m\n\u001b[0;32m      4\u001b[0m \u001b[1;32massert\u001b[0m \u001b[0msub_tas\u001b[0m\u001b[1;33m.\u001b[0m\u001b[0m_value\u001b[0m \u001b[1;32mis\u001b[0m \u001b[1;32mnot\u001b[0m \u001b[0mNone\u001b[0m\u001b[1;33m\u001b[0m\u001b[0m\n\u001b[0;32m      5\u001b[0m \u001b[1;32massert\u001b[0m \u001b[0msub_tas\u001b[0m\u001b[1;33m.\u001b[0m\u001b[0m_value\u001b[0m\u001b[1;33m.\u001b[0m\u001b[0mdtype\u001b[0m \u001b[1;33m==\u001b[0m \u001b[0mint\u001b[0m\u001b[1;33m\u001b[0m\u001b[0m\n",
      "\u001b[1;31mAssertionError\u001b[0m: "
     ],
     "output_type": "error"
    }
   ],
   "source": [
    "# Following a slice, dimensions track source indices without loading data.\n",
    "assert sub_tas._value is None\n",
    "print(sub_tas.value.mean())\n",
    "assert sub_tas._value is not None\n",
    "assert sub_tas._value.dtype == int\n",
    "print(sub_tas.dimensions[2]._src_idx)"
   ]
  },
  {
   "cell_type": "code",
   "execution_count": 21,
   "metadata": {
    "collapsed": false
   },
   "outputs": [
    {
     "name": "stdout",
     "output_type": "stream",
     "text": [
      "OCGIS Driver Key: netcdf-cf {\n",
      "dimensions:\n",
      "    time = ISUNLIMITED ; // 3650 currently\n",
      "    bnds = 2 ;\n",
      "    lat = 64 ;\n",
      "    lon = 10 ;\n",
      "variables:\n",
      "    float64 time(time) ;\n",
      "      time:bounds = \"time_bnds\" ;\n",
      "      time:units = \"days since 1850-1-1\" ;\n",
      "      time:calendar = \"365_day\" ;\n",
      "      time:axis = \"T\" ;\n",
      "      time:long_name = \"time\" ;\n",
      "      time:standard_name = \"time\" ;\n",
      "    float64 time_bnds(time, bnds) ;\n",
      "    float64 lat(lat) ;\n",
      "      lat:bounds = \"lat_bnds\" ;\n",
      "      lat:units = \"degrees_north\" ;\n",
      "      lat:axis = \"Y\" ;\n",
      "      lat:long_name = \"latitude\" ;\n",
      "      lat:standard_name = \"latitude\" ;\n",
      "    float64 lat_bnds(lat, bnds) ;\n",
      "    float64 lon(lon) ;\n",
      "      lon:bounds = \"lon_bnds\" ;\n",
      "      lon:units = \"degrees_east\" ;\n",
      "      lon:axis = \"X\" ;\n",
      "      lon:long_name = \"longitude\" ;\n",
      "      lon:standard_name = \"longitude\" ;\n",
      "    float64 lon_bnds(lon, bnds) ;\n",
      "    float64 height() ;\n",
      "      height:units = \"m\" ;\n",
      "      height:axis = \"Z\" ;\n",
      "      height:positive = \"up\" ;\n",
      "      height:long_name = \"height\" ;\n",
      "      height:standard_name = \"height\" ;\n",
      "    int64 tas(time, lat, lon) ;\n",
      "      tas:_FillValue = -9223372036854775808 ;\n",
      "      tas:standard_name = \"air_temperature\" ;\n",
      "      tas:long_name = \"Near-Surface Air Temperature\" ;\n",
      "      tas:units = \"K\" ;\n",
      "      tas:original_name = \"ST\" ;\n",
      "      tas:cell_methods = \"time: mean (interval: 15 minutes)\" ;\n",
      "      tas:cell_measures = \"area: areacella\" ;\n",
      "      tas:history = \"2011-05-08T01:01:51Z altered by CMOR: Treated scalar dimension: 'height'. 2011-05-08T01:01:51Z altered by CMOR: replaced missing value flag (1e+38) with standard missing value (1e+20).\" ;\n",
      "      tas:coordinates = \"height\" ;\n",
      "      tas:missing_value = 1.00000002004e+20 ;\n",
      "      tas:associated_files = \"baseURL: http://cmip-pcmdi.llnl.gov/CMIP5/dataLocation gridspecFile: gridspec_atmos_fx_CanCM4_decadal2000_r0i0p0.nc areacella: areacella_fx_CanCM4_decadal2000_r0i0p0.nc\" ;\n",
      "\n",
      "// global attributes:\n",
      "    :institution = \"CCCma (Canadian Centre for Climate Modelling and Analysis, Victoria, BC, Canada)\" ;\n",
      "    :institute_id = \"CCCma\" ;\n",
      "    :experiment_id = \"decadal2000\" ;\n",
      "    :source = \"CanCM4 2010 atmosphere: CanAM4 (AGCM15i, T63L35) ocean: CanOM4 (OGCM4.0, 256x192L40) sea ice: CanSIM1 (Cavitating Fluid, T63 Gaussian Grid) land: CLASS2.7\" ;\n",
      "    :model_id = \"CanCM4\" ;\n",
      "    :forcing = \"GHG,Oz,SA,BC,OC,LU,Sl,Vl (GHG includes CO2,CH4,N2O,CFC11,effective CFC12)\" ;\n",
      "    :parent_experiment_id = \"N/A\" ;\n",
      "    :parent_experiment_rip = \"N/A\" ;\n",
      "    :branch_time = 0.0 ;\n",
      "    :contact = \"cccma_info@ec.gc.ca\" ;\n",
      "    :references = \"http://www.cccma.ec.gc.ca/models\" ;\n",
      "    :initialization_method = 1 ;\n",
      "    :physics_version = 1 ;\n",
      "    :tracking_id = \"fac7bd83-dd7a-425b-b4dc-b5ab2e915939\" ;\n",
      "    :branch_time_YMDH = \"2001:01:01:00\" ;\n",
      "    :CCCma_runid = \"DHFP1B_E002_I2001_M01\" ;\n",
      "    :CCCma_parent_runid = \"DHFP1_E002\" ;\n",
      "    :CCCma_data_licence = \"1) GRANT OF LICENCE - The Government of Canada (Environment Canada) is the \n",
      "owner of all intellectual property rights (including copyright) that may exist in this Data \n",
      "product. You (as \"The Licensee\") are hereby granted a non-exclusive, non-assignable, \n",
      "non-transferable unrestricted licence to use this data product for any purpose including \n",
      "the right to share these data with others and to make value-added and derivative \n",
      "products from it. This licence is not a sale of any or all of the owner's rights.\n",
      "2) NO WARRANTY - This Data product is provided \"as-is\"; it has not been designed or \n",
      "prepared to meet the Licensee's particular requirements. Environment Canada makes no \n",
      "warranty, either express or implied, including but not limited to, warranties of \n",
      "merchantability and fitness for a particular purpose. In no event will Environment Canada \n",
      "be liable for any indirect, special, consequential or other damages attributed to the \n",
      "Licensee's use of the Data product.\" ;\n",
      "    :product = \"output\" ;\n",
      "    :experiment = \"10- or 30-year run initialized in year 2000\" ;\n",
      "    :frequency = \"day\" ;\n",
      "    :creation_date = \"2011-05-08T01:01:51Z\" ;\n",
      "    :history = \"2011-05-08T01:01:51Z CMOR rewrote data to comply with CF standards and CMIP5 requirements.\" ;\n",
      "    :Conventions = \"CF-1.4\" ;\n",
      "    :project_id = \"CMIP5\" ;\n",
      "    :table_id = \"Table day (28 March 2011) f9d6cfec5981bb8be1801b35a81002f0\" ;\n",
      "    :title = \"CanCM4 model output prepared for CMIP5 10- or 30-year run initialized in year 2000\" ;\n",
      "    :parent_experiment = \"N/A\" ;\n",
      "    :modeling_realm = \"atmos\" ;\n",
      "    :realization = 2 ;\n",
      "    :cmor_version = \"2.5.4\" ;\n",
      "}\n"
     ]
    }
   ],
   "source": [
    "# Write the sliced dataset to file.\n",
    "import os\n",
    "outfile = os.path.join(OUTDIR, 'example_vc_out.nc')\n",
    "sub_tas.write(outfile)\n",
    "ocgis.RequestDataset(outfile).inspect()"
   ]
  },
  {
   "cell_type": "code",
   "execution_count": 22,
   "metadata": {
    "collapsed": false
   },
   "outputs": [
    {
     "name": "stdout",
     "output_type": "stream",
     "text": [
      "\n",
      "{'crs': {'variable': 'latitude_longitude'},\n",
      " 'groups': {},\n",
      " 'time': {'bounds': u'time_bnds', 'names': [u'time'], 'variable': u'time'},\n",
      " 'x': {'bounds': u'lon_bnds', 'names': [u'lon'], 'variable': u'lon'},\n",
      " 'y': {'bounds': u'lat_bnds', 'names': [u'lat'], 'variable': u'lat'}}\n"
     ]
    }
   ],
   "source": [
    "# Dimension map is metadata about metadata.\n",
    "dimension_map = rd_nc.dimension_map\n",
    "pprint_dict(dimension_map)"
   ]
  },
  {
   "cell_type": "code",
   "execution_count": 23,
   "metadata": {
    "collapsed": false
   },
   "outputs": [
    {
     "name": "stdout",
     "output_type": "stream",
     "text": [
      "\n",
      "{'crs': {'attrs': None, 'variable': 'latitude_longitude'},\n",
      " 'geom': {'attrs': {'axis': 'ocgis_geom'}, 'names': [], 'variable': None},\n",
      " 'level': {'attrs': {'axis': 'L'},\n",
      "           'bounds': None,\n",
      "           'names': [],\n",
      "           'variable': None},\n",
      " 'realization': {'attrs': {'axis': 'R'}, 'names': [], 'variable': None},\n",
      " 'time': {'attrs': {'axis': 'T'},\n",
      "          'bounds': u'time_bnds',\n",
      "          'names': [u'time'],\n",
      "          'variable': u'time'},\n",
      " 'x': {'attrs': {'axis': 'X'},\n",
      "       'bounds': u'lon_bnds',\n",
      "       'names': [u'lon'],\n",
      "       'variable': u'lon'},\n",
      " 'y': {'attrs': {'axis': 'Y'},\n",
      "       'bounds': u'lat_bnds',\n",
      "       'names': [u'lat'],\n",
      "       'variable': u'lat'}}\n"
     ]
    }
   ],
   "source": [
    "# Fields interpret dimension maps to apply meaning to a variable collection.\n",
    "ofield = rd_nc.get()\n",
    "pprint_dict(ofield.dimension_map)"
   ]
  },
  {
   "cell_type": "code",
   "execution_count": 24,
   "metadata": {
    "collapsed": false
   },
   "outputs": [
    {
     "name": "stdout",
     "output_type": "stream",
     "text": [
      "(Dimension(name='lat', size=64, size_current=64, dist=False, is_empty=False), Dimension(name='lon', size=128, size_current=128, dist=True, is_empty=False))\n",
      "POLYGON ((-1.40625 -86.48016541825316, 1.40625 -86.48016541825316, 1.40625 -90, -1.40625 -90, -1.40625 -86.48016541825316))\n",
      "+proj=longlat +a=6370997 +b=6370997 +towgs84=0,0,0,0,0,0,0 +no_defs \n",
      "WrappedState.UNWRAPPED\n"
     ]
    }
   ],
   "source": [
    "# Field have coordinates, geometry objects...\n",
    "print(ofield.grid.dimensions)\n",
    "print(ofield.geom.value[0, 0])\n",
    "print(ofield.crs.proj4)\n",
    "print(ofield.wrapped_state)"
   ]
  },
  {
   "cell_type": "code",
   "execution_count": 25,
   "metadata": {
    "collapsed": false
   },
   "outputs": [
    {
     "name": "stdout",
     "output_type": "stream",
     "text": [
      "(datetime.datetime(2001, 1, 1, 0, 0), datetime.datetime(2011, 1, 1, 0, 0))\n"
     ]
    }
   ],
   "source": [
    "# ...and time.\n",
    "print(ofield.time.extent_datetime)"
   ]
  },
  {
   "cell_type": "markdown",
   "metadata": {},
   "source": [
    "Grid implementation code: https://github.com/NCPP/ocgis/blob/i374-remove-dim-constraints/src/ocgis/new_interface/field.py#L117"
   ]
  },
  {
   "cell_type": "code",
   "execution_count": 26,
   "metadata": {
    "collapsed": false
   },
   "outputs": [
    {
     "name": "stdout",
     "output_type": "stream",
     "text": [
      "(21, 14)\n",
      "(3650, 21, 14)\n",
      "[-20.92957676 -18.13897349 -15.34836726 -12.55775862  -9.76714806\n",
      "  -6.97653606  -4.18592304  -1.39530942   1.39530942   4.18592304\n",
      "   6.97653606   9.76714806  12.55775862  15.34836726  18.13897349\n",
      "  20.92957676  23.72017644  26.51077183  29.30136213  32.09194639\n",
      "  34.8825235 ]\n"
     ]
    }
   ],
   "source": [
    "import numpy as np\n",
    "from ocgis.new_interface.grid import GridXY\n",
    "\n",
    "# Subset operation showing use of collection operations.\n",
    "sub_space = ofield.grid.get_intersects((40, -20, 77, 35))\n",
    "print(sub_space.shape)\n",
    "assert isinstance(sub_space, GridXY)\n",
    "\n",
    "sub_field = sub_space.parent\n",
    "print(sub_field['tas'].shape)\n",
    "print(sub_field.y.value[:, 0])"
   ]
  },
  {
   "cell_type": "code",
   "execution_count": 27,
   "metadata": {
    "collapsed": false
   },
   "outputs": [
    {
     "name": "stdout",
     "output_type": "stream",
     "text": [
      "OCGIS Driver Key: netcdf-cf {\n",
      "dimensions:\n",
      "    x = 3 ;\n",
      "    y = 4 ;\n",
      "variables:\n",
      "    float64 x(x) ;\n",
      "      x:axis = \"X\" ;\n",
      "    float64 y(y) ;\n",
      "      y:axis = \"Y\" ;\n",
      "}\n"
     ]
    }
   ],
   "source": [
    "# Quick example of creating a gridded field from variables.\n",
    "\n",
    "from ocgis.new_interface.variable import Variable\n",
    "from ocgis.new_interface.grid import GridXY\n",
    "from ocgis.new_interface.field import OcgField\n",
    "\n",
    "x = Variable('x', [1, 2, 3], dtype=float, dimensions='x')\n",
    "y = Variable('y', [4, 5, 6, 7], dtype=float, dimensions='y')\n",
    "grid = GridXY(x, y)\n",
    "ofield = OcgField(grid=grid)\n",
    "\n",
    "field_filename = os.path.join(OUTDIR, 'field.nc')\n",
    "ofield.write(field_filename)\n",
    "ocgis.RequestDataset(field_filename).inspect()"
   ]
  },
  {
   "cell_type": "code",
   "execution_count": 28,
   "metadata": {
    "collapsed": false
   },
   "outputs": [
    {
     "name": "stdout",
     "output_type": "stream",
     "text": [
      "\n",
      "{0: {None: {'dimensions': {u'bnds': Dimension(name='bnds', size=2, size_current=2, dist=False, is_empty=False),\n",
      "                           u'lat': Dimension(name='lat', size=64, size_current=64, dist=False, is_empty=False),\n",
      "                           u'lon': Dimension(name='lon', size=128, size_current=128, dist=True, is_empty=False),\n",
      "                           u'time': Dimension(name='time', size=None, size_current=3650, dist=False, is_empty=False)},\n",
      "            'groups': {},\n",
      "            'variables': {u'height': {'dimensions': (),\n",
      "                                      'dist': <MPIDistributionMode.REPLICATED: 1>},\n",
      "                          u'lat': {'dimensions': (u'lat',),\n",
      "                                   'dist': <MPIDistributionMode.REPLICATED: 1>},\n",
      "                          u'lat_bnds': {'dimensions': (u'lat', u'bnds'),\n",
      "                                        'dist': <MPIDistributionMode.REPLICATED: 1>},\n",
      "                          u'lon': {'dimensions': (u'lon',),\n",
      "                                   'dist': <MPIDistributionMode.DISTRIBUTED: 0>},\n",
      "                          u'lon_bnds': {'dimensions': (u'lon', u'bnds'),\n",
      "                                        'dist': <MPIDistributionMode.DISTRIBUTED: 0>},\n",
      "                          u'tas': {'dimensions': (u'time', u'lat', u'lon'),\n",
      "                                   'dist': <MPIDistributionMode.DISTRIBUTED: 0>},\n",
      "                          u'time': {'dimensions': (u'time',),\n",
      "                                    'dist': <MPIDistributionMode.REPLICATED: 1>},\n",
      "                          u'time_bnds': {'dimensions': (u'time', u'bnds'),\n",
      "                                         'dist': <MPIDistributionMode.REPLICATED: 1>}}}}}\n"
     ]
    }
   ],
   "source": [
    "# Implements a simple, local distributed metadata object.\n",
    "dist = rd_nc.driver.get_dist()\n",
    "pprint_dict(dist.mapping)"
   ]
  },
  {
   "cell_type": "code",
   "execution_count": 29,
   "metadata": {
    "collapsed": false
   },
   "outputs": [
    {
     "name": "stdout",
     "output_type": "stream",
     "text": [
      "\n",
      "{0: {None: {'dimensions': {'five': Dimension(name='five', size=3, size_current=3, dist=True, is_empty=False),\n",
      "                           'two': Dimension(name='two', size=2, size_current=2, dist=False, is_empty=False)},\n",
      "            'groups': {},\n",
      "            'variables': {'five_two': {'dimensions': ('five', 'two'),\n",
      "                                       'dist': <MPIDistributionMode.DISTRIBUTED: 0>}}}},\n",
      " 1: {None: {'dimensions': {'five': Dimension(name='five', size=2, size_current=2, dist=True, is_empty=False),\n",
      "                           'two': Dimension(name='two', size=2, size_current=2, dist=False, is_empty=False)},\n",
      "            'groups': {},\n",
      "            'variables': {'five_two': {'dimensions': ('five', 'two'),\n",
      "                                       'dist': <MPIDistributionMode.DISTRIBUTED: 0>}}}},\n",
      " 2: {None: {'dimensions': {'five': Dimension(name='five', size=5, size_current=5, dist=True, is_empty=True),\n",
      "                           'two': Dimension(name='two', size=2, size_current=2, dist=False, is_empty=False)},\n",
      "            'groups': {},\n",
      "            'variables': {'five_two': {'dimensions': ('five', 'two'),\n",
      "                                       'dist': <MPIDistributionMode.DISTRIBUTED: 0>}}}}}\n",
      "('rank=0', 'bounds_local=(0, 3)', 'bounds_global=(0, 5)')\n",
      "('rank=1', 'bounds_local=(3, 5)', 'bounds_global=(0, 5)')\n",
      "('rank=2', 'bounds_local=(0, 0)', 'bounds_global=(0, 5)')\n"
     ]
    }
   ],
   "source": [
    "from ocgis.new_interface.mpi import OcgDist\n",
    "from ocgis.util.helpers import pprint_dict\n",
    "\n",
    "ompi = OcgDist(size=3)\n",
    "five = ompi.create_dimension('five', 5, dist=True)\n",
    "two = ompi.create_dimension('two', 2)\n",
    "five_two = ompi.create_variable('five_two', dimensions=[five, two], dist=True)\n",
    "ompi.update_dimension_bounds(min_elements=2)\n",
    "\n",
    "pprint_dict(ompi.mapping)\n",
    "for rank in range(ompi.size):\n",
    "    dimension_on_rank = ompi.get_dimension('five', rank=rank)\n",
    "    print(('rank={}'.format(rank), 'bounds_local={}'.format(dimension_on_rank.bounds_local), 'bounds_global={}'.format(dimension_on_rank.bounds_global)))"
   ]
  },
  {
   "cell_type": "code",
   "execution_count": null,
   "metadata": {
    "collapsed": true
   },
   "outputs": [],
   "source": [
    ""
   ]
  }
 ],
 "metadata": {
  "kernelspec": {
   "display_name": "Python 2",
   "language": "python",
   "name": "python2"
  },
  "language_info": {
   "codemirror_mode": {
    "name": "ipython",
    "version": 2.0
   },
   "file_extension": ".py",
   "mimetype": "text/x-python",
   "name": "python",
   "nbconvert_exporter": "python",
   "pygments_lexer": "ipython2",
   "version": "2.7.12"
  }
 },
 "nbformat": 4,
 "nbformat_minor": 0
}