{
 "metadata": {
  "name": "",
  "signature": "sha256:898ed076071551a0e4c6519180bf1bffb24bfa3faec533128b45f7659fdf55a2"
 },
 "nbformat": 3,
 "nbformat_minor": 0,
 "worksheets": [
  {
   "cells": [
    {
     "cell_type": "code",
     "collapsed": false,
     "input": [
      "import ocgis\n",
      "assert(ocgis.__release__ == '1.1.0-next')"
     ],
     "language": "python",
     "metadata": {},
     "outputs": []
    },
    {
     "cell_type": "markdown",
     "metadata": {},
     "source": [
      "Configure some environment variables to point to the head directory containing climate data files used in the demo as well as the output directory."
     ]
    },
    {
     "cell_type": "code",
     "collapsed": false,
     "input": [
      "import tempfile\n",
      "ocgis.env.DIR_DATA = '/home/ben.koziol/climate_data'\n",
      "ocgis.env.DIR_OUTPUT = tempfile.mkdtemp()\n",
      "print ocgis.env.DIR_OUTPUT"
     ],
     "language": "python",
     "metadata": {},
     "outputs": []
    },
    {
     "cell_type": "markdown",
     "metadata": {},
     "source": [
      "Inspect a target file's metadata."
     ]
    },
    {
     "cell_type": "code",
     "collapsed": false,
     "input": [
      "uri = 'tas_day_CanCM4_decadal2011_r2i1p1_20120101-20211231.nc'\n",
      "variable = 'tas'\n",
      "rd = ocgis.RequestDataset(uri=uri,variable=variable)\n",
      "rd.inspect()"
     ],
     "language": "python",
     "metadata": {},
     "outputs": []
    },
    {
     "cell_type": "markdown",
     "metadata": {},
     "source": [
      "Subset a target file by the boundary of California using an intersects GIS operation (the default), and write the data to an ESRI Shapefile. Select the first time coordinate only."
     ]
    },
    {
     "cell_type": "code",
     "collapsed": false,
     "input": [
      "geom = '/home/ben.koziol/Dropbox/NESII/project/ocg/bin/shp/state_boundaries/state_boundaries.shp'\n",
      "ops = ocgis.OcgOperations(dataset=rd, geom=geom, geom_select_uid=[25], snippet=True,\n",
      "                          output_format='shp', prefix='ca')\n",
      "ops.execute()"
     ],
     "language": "python",
     "metadata": {},
     "outputs": []
    },
    {
     "cell_type": "markdown",
     "metadata": {},
     "source": [
      " Also write the model grid to shapefile."
     ]
    },
    {
     "cell_type": "code",
     "collapsed": false,
     "input": [
      "ocgis.OcgOperations(dataset=rd, output_format='shp', snippet=True, prefix='grid').execute()"
     ],
     "language": "python",
     "metadata": {},
     "outputs": []
    },
    {
     "cell_type": "markdown",
     "metadata": {},
     "source": [
      "Spatially average the grid cells clipped to the boundary of California for all the June, July, and August months in the target dataset. Write the output data to CSV."
     ]
    },
    {
     "cell_type": "code",
     "collapsed": false,
     "input": [
      "import webbrowser\n",
      "rd = ocgis.RequestDataset(uri=uri, variable=variable, time_region={'month': [6, 7, 8]})\n",
      "ops = ocgis.OcgOperations(dataset=rd, geom=geom, geom_select_uid=[25], spatial_operation='clip',\n",
      "                          output_format='csv', prefix='ca_spatial_average', aggregate=True)\n",
      "ret = ops.execute()\n",
      "print(ret)\n",
      "webbrowser.open(ret)"
     ],
     "language": "python",
     "metadata": {},
     "outputs": []
    },
    {
     "cell_type": "markdown",
     "metadata": {},
     "source": [
      "Perform a difference calulation between two variables using a string function. Inspect the metadata of the output NetCDF file."
     ]
    },
    {
     "cell_type": "code",
     "collapsed": false,
     "input": [
      "rd1 = ocgis.RequestDataset(uri='/home/ben.koziol/ocgis_test_data/nc/CanCM4/tasmax_day_CanCM4_decadal2010_r2i1p1_20110101-20201231.nc',\n",
      "                           variable='tasmax')\n",
      "rd2 = ocgis.RequestDataset(uri='tasmin_day_CanCM4_decadal2010_r2i1p1_20110101-20201231.nc',\n",
      "                           variable='tasmin')\n",
      "calc = 'diff=tasmax-tasmin'\n",
      "ops = ocgis.OcgOperations(dataset=[rd1,rd2],calc=calc,output_format='nc',geom='state_boundaries',\n",
      "                          select_ugid=[25],prefix='diff')\n",
      "ret = ops.execute()\n",
      "print(ocgis.Inspect(ret))"
     ],
     "language": "python",
     "metadata": {},
     "outputs": []
    },
    {
     "cell_type": "markdown",
     "metadata": {},
     "source": [
      "Calculate a sequence of statistics to produce a July time series conforming the target units from Kelvin to Celsius in the process. Perform the calculations on the spatially averaged data for California."
     ]
    },
    {
     "cell_type": "code",
     "collapsed": false,
     "input": [
      "import webbrowser\n",
      "rd = ocgis.RequestDataset(uri=uri,variable=variable,time_region={'month':[7]},conform_units_to='celsius')\n",
      "calc = [{'func':'mean','name':'mean'},\n",
      "        {'func':'std','name':'stdev'},\n",
      "        {'func':'min','name':'min'},\n",
      "        {'func':'max','name':'max'},\n",
      "        {'func':'median','name':'median'},\n",
      "        {'func':'freq_perc','name':'fp_95','kwds':{'percentile':95.0}},\n",
      "        {'func':'freq_perc','name':'fp_5','kwds':{'percentile':5.0}},]\n",
      "calc_grouping = ['month','year']\n",
      "ops = ocgis.OcgOperations(dataset=rd,geom='state_boundaries',select_ugid=[25],spatial_operation='clip',\n",
      "                          output_format='csv',prefix='ca_calcs',aggregate=True,calc=calc,\n",
      "                          calc_grouping=calc_grouping)\n",
      "ret = ops.execute()\n",
      "print(ret)\n",
      "webbrowser.open(ret)"
     ],
     "language": "python",
     "metadata": {},
     "outputs": []
    },
    {
     "cell_type": "markdown",
     "metadata": {},
     "source": [
      "Perform the same operation as above again but return the data as a collection. Print the derived variable aliases."
     ]
    },
    {
     "cell_type": "code",
     "collapsed": false,
     "input": [
      "ops.output_format = 'numpy'\n",
      "ret = ops.execute()\n",
      "print(ret)\n",
      "print(ret[25]['tas'].variables.keys())"
     ],
     "language": "python",
     "metadata": {},
     "outputs": []
    },
    {
     "cell_type": "markdown",
     "metadata": {},
     "source": [
      "Variable values are always stored as five dimensions: realization, time, level, row, column"
     ]
    },
    {
     "cell_type": "code",
     "collapsed": false,
     "input": [
      "print(ret[25]['tas'].variables['mean'])\n",
      "print(ret[25]['tas'].variables['mean'].value.shape)"
     ],
     "language": "python",
     "metadata": {},
     "outputs": []
    },
    {
     "cell_type": "markdown",
     "metadata": {},
     "source": [
      "Print some time values from the temporal dimension."
     ]
    },
    {
     "cell_type": "code",
     "collapsed": false,
     "input": [
      "print(ret[25]['tas'].temporal.value_datetime)\n",
      "print(ret[25]['tas'].temporal.bounds_datetime)"
     ],
     "language": "python",
     "metadata": {},
     "outputs": []
    },
    {
     "cell_type": "markdown",
     "metadata": {},
     "source": [
      "Print example variable values."
     ]
    },
    {
     "cell_type": "code",
     "collapsed": false,
     "input": [
      "print(ret[25]['tas'].variables['mean'].value.squeeze())"
     ],
     "language": "python",
     "metadata": {},
     "outputs": []
    },
    {
     "cell_type": "markdown",
     "metadata": {},
     "source": [
      "Geometries are stored as Shapely objects with associated attributes."
     ]
    },
    {
     "cell_type": "code",
     "collapsed": false,
     "input": [
      "print(type(ret.geoms[25]))\n",
      "print(ret.geoms[25]).bounds\n",
      "print(ret.properties[25])"
     ],
     "language": "python",
     "metadata": {},
     "outputs": []
    },
    {
     "cell_type": "markdown",
     "metadata": {},
     "source": [
      "Read a data file with a coordinate system, and inspect its properties."
     ]
    },
    {
     "cell_type": "code",
     "collapsed": false,
     "input": [
      "uri = 'tas_RCM3_ncep_1981010103.nc'\n",
      "variable = 'tas'\n",
      "rd = ocgis.RequestDataset(uri=uri,variable=variable)\n",
      "field = rd.get()\n",
      "print(type(field.spatial.crs))\n",
      "print(field.spatial.crs.value)\n",
      "print(field.spatial.crs.sr.ExportToProj4())"
     ],
     "language": "python",
     "metadata": {},
     "outputs": []
    },
    {
     "cell_type": "markdown",
     "metadata": {},
     "source": [
      "For three variables, calculate monthly averages for the year 2014 for each U.S. state boundary."
     ]
    },
    {
     "cell_type": "code",
     "collapsed": false,
     "input": [
      "rd1 = ocgis.RequestDataset(uri='/home/ben.koziol/ocgis_test_data/nc/CanCM4/tasmax_day_CanCM4_decadal2010_r2i1p1_20110101-20201231.nc',\n",
      "                           variable='tasmax')\n",
      "rd2 = ocgis.RequestDataset(uri='tasmin_day_CanCM4_decadal2010_r2i1p1_20110101-20201231.nc',\n",
      "                           variable='tasmin')\n",
      "rd3 = ocgis.RequestDataset(uri='tas_day_CanCM4_decadal2010_r2i1p1_20110101-20201231.nc',\n",
      "                           variable='tas')\n",
      "calc = [{'func':'mean','name':'mean'}]\n",
      "calc_grouping = ['month']\n",
      "ops = ocgis.OcgOperations(dataset=[rd1,rd2,rd3],geom='state_boundaries',aggregate=True,\n",
      "                          output_format='shp',spatial_operation='clip',prefix='temps',\n",
      "                          calc=calc,calc_grouping=calc_grouping,time_region={'year':[2014]},\n",
      "                          headers=['value','calc_alias','year','month','alias'],conform_units_to='fahrenheit')\n",
      "ret = ops.execute()\n",
      "print(ret)"
     ],
     "language": "python",
     "metadata": {},
     "outputs": []
    },
    {
     "cell_type": "code",
     "collapsed": false,
     "input": [
      "rd_src = ocgis.RequestDataset(uri='tas_day_CanCM4_decadal2010_r2i1p1_20110101-20201231.nc',\n",
      "                           variable='tas')\n",
      "rd_dest = ocgis.RequestDataset(uri='/home/ben.koziol/ocgis_test_data/nc/maurer/2010/nldas_met_update.obs.daily.pr.1991.nc')\n",
      "print rd_src.get().spatial.grid.resolution\n",
      "print rd_dest.get().spatial.grid.resolution\n",
      "\n",
      "ops = ocgis.OcgOperations(dataset=rd_src, regrid_destination=rd_dest, select_ugid=[6, 16, 34], \n",
      "                          agg_selection=True, geom='state_boundaries', snippet=True,\n",
      "                          output_format='shp', prefix='regrid')\n",
      "print ops.execute()"
     ],
     "language": "python",
     "metadata": {},
     "outputs": []
    },
    {
     "cell_type": "markdown",
     "metadata": {},
     "source": [
      "Convert a shapefile to a UGRID netCDF and back to shapefile."
     ]
    },
    {
     "cell_type": "code",
     "collapsed": false,
     "input": [
      "import os\n",
      "import sys\n",
      "import subprocess\n",
      "sys.path.append('/home/ben.koziol/Dropbox/NESII/project/ugrid/git/src')\n",
      "import ugrid\n",
      "\n",
      "shp_path = '/home/ben.koziol/Dropbox/NESII/project/ugrid/bin/catchment_San_Guad_3reaches.shp'\n",
      "out_nc_path = os.path.join(ocgis.env.DIR_OUTPUT, 'mesh2.nc')\n",
      "print ugrid.shapefile_to_mesh2_nc(out_nc_path, shp_path)\n",
      "\n",
      "shp_path_reconstruct = os.path.join(ocgis.env.DIR_OUTPUT, 'mesh2.shp')\n",
      "print ugrid.mesh2_nc_to_shapefile(out_nc_path, shp_path_reconstruct)"
     ],
     "language": "python",
     "metadata": {},
     "outputs": []
    },
    {
     "cell_type": "code",
     "collapsed": false,
     "input": [],
     "language": "python",
     "metadata": {},
     "outputs": []
    }
   ],
   "metadata": {}
  }
 ]
}