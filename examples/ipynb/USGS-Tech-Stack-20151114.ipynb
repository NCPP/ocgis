{
 "cells": [
  {
   "cell_type": "code",
   "execution_count": null,
   "metadata": {
    "collapsed": false
   },
   "outputs": [],
   "source": [
    "import sys\n",
    "sys.path.append('/home/benkoziol/l/ocgis/src')\n",
    "import ocgis\n",
    "assert(ocgis.__release__ == '1.2.0.dev1')"
   ]
  },
  {
   "cell_type": "markdown",
   "metadata": {},
   "source": [
    "Configure some environment variables to point to the head directory containing climate data files used in the demo as well as the output directory."
   ]
  },
  {
   "cell_type": "code",
   "execution_count": null,
   "metadata": {
    "collapsed": false
   },
   "outputs": [],
   "source": [
    "import tempfile\n",
    "ocgis.env.DIR_DATA = '/home/benkoziol/data'\n",
    "ocgis.env.DIR_OUTPUT = tempfile.mkdtemp()\n",
    "print ocgis.env.DIR_OUTPUT"
   ]
  },
  {
   "cell_type": "markdown",
   "metadata": {},
   "source": [
    "Inspect a target file's metadata."
   ]
  },
  {
   "cell_type": "code",
   "execution_count": null,
   "metadata": {
    "collapsed": false
   },
   "outputs": [],
   "source": [
    "uri = 'tas_day_CanCM4_decadal2011_r2i1p1_20120101-20211231.nc'\n",
    "variable = 'tas'\n",
    "rd = ocgis.RequestDataset(uri=uri,variable=variable)\n",
    "rd.inspect()"
   ]
  },
  {
   "cell_type": "markdown",
   "metadata": {},
   "source": [
    "Subset a target file by the boundary of California using an intersects GIS operation (the default), and write the data to an ESRI Shapefile. Select the first time coordinate only."
   ]
  },
  {
   "cell_type": "code",
   "execution_count": null,
   "metadata": {
    "collapsed": false
   },
   "outputs": [],
   "source": [
    "geom = '/home/benkoziol/l/project/ocg/bin/shp/state_boundaries/state_boundaries.shp'\n",
    "ops = ocgis.OcgOperations(dataset=rd, geom=geom, geom_select_uid=[25], snippet=True,\n",
    "                          output_format='shp', prefix='ca')\n",
    "ops.execute()"
   ]
  },
  {
   "cell_type": "markdown",
   "metadata": {},
   "source": [
    " Also write the model grid to shapefile."
   ]
  },
  {
   "cell_type": "code",
   "execution_count": null,
   "metadata": {
    "collapsed": false
   },
   "outputs": [],
   "source": [
    "ocgis.OcgOperations(dataset=rd, output_format='shp', snippet=True, prefix='grid').execute()"
   ]
  },
  {
   "cell_type": "markdown",
   "metadata": {},
   "source": [
    "Spatially average the grid cells clipped to the boundary of California for all the June, July, and August months in the target dataset. Write the output data to CSV."
   ]
  },
  {
   "cell_type": "code",
   "execution_count": null,
   "metadata": {
    "collapsed": false
   },
   "outputs": [],
   "source": [
    "import webbrowser\n",
    "rd = ocgis.RequestDataset(uri=uri, variable=variable, time_region={'month': [6, 7, 8]})\n",
    "ops = ocgis.OcgOperations(dataset=rd, geom=geom, geom_select_uid=[25], spatial_operation='clip',\n",
    "                          output_format='csv', prefix='ca_spatial_average', aggregate=True)\n",
    "ret = ops.execute()\n",
    "print(ret)\n",
    "webbrowser.open(ret)"
   ]
  },
  {
   "cell_type": "markdown",
   "metadata": {},
   "source": [
    "Perform a difference calulation between two variables using a string function. Inspect the metadata of the output NetCDF file."
   ]
  },
  {
   "cell_type": "code",
   "execution_count": null,
   "metadata": {
    "collapsed": false
   },
   "outputs": [],
   "source": [
    "rd1 = ocgis.RequestDataset(uri='tasmax_day_CanCM4_decadal2010_r2i1p1_20110101-20201231.nc',\n",
    "                           variable='tasmax')\n",
    "rd2 = ocgis.RequestDataset(uri='tasmin_day_CanCM4_decadal2010_r2i1p1_20110101-20201231.nc',\n",
    "                           variable='tasmin')\n",
    "calc = 'diff=tasmax-tasmin'\n",
    "ops = ocgis.OcgOperations(dataset=[rd1, rd2], calc=calc, output_format='nc', geom='state_boundaries',\n",
    "                          select_ugid=[25], prefix='diff')\n",
    "ret = ops.execute()\n",
    "print(ocgis.Inspect(ret))"
   ]
  },
  {
   "cell_type": "markdown",
   "metadata": {},
   "source": [
    "Calculate a sequence of statistics to produce a July time series conforming the target units from Kelvin to Celsius. Perform the calculations on the spatially averaged data for California."
   ]
  },
  {
   "cell_type": "code",
   "execution_count": null,
   "metadata": {
    "collapsed": false
   },
   "outputs": [],
   "source": [
    "import webbrowser\n",
    "rd = ocgis.RequestDataset(uri=uri, variable=variable, time_region={'month': [7]}, conform_units_to='celsius', \n",
    "                          name='calcs')\n",
    "calc = [{'func': 'mean', 'name': 'mean'},\n",
    "        {'func': 'std', 'name': 'stdev'},\n",
    "        {'func': 'min', 'name': 'min'},\n",
    "        {'func': 'max', 'name': 'max'},\n",
    "        {'func': 'median', 'name': 'median'},\n",
    "        {'func': 'freq_perc', 'name': 'fp_95', 'kwds': {'percentile': 95.0}},\n",
    "        {'func': 'freq_perc', 'name': 'fp_5', 'kwds':{'percentile': 5.0}},]\n",
    "calc_grouping = ['month','year']\n",
    "ops = ocgis.OcgOperations(dataset=rd, geom='state_boundaries', geom_select_uid=[25, 26], spatial_operation='clip',\n",
    "                          output_format= 'csv', prefix='ca_calcs', aggregate=True, calc=calc,\n",
    "                          calc_grouping=calc_grouping)\n",
    "ret = ops.execute()\n",
    "print(ret)\n",
    "webbrowser.open(ret)"
   ]
  },
  {
   "cell_type": "markdown",
   "metadata": {},
   "source": [
    "Perform the same operation returning the data as a \"collection\". Print the derived variable aliases."
   ]
  },
  {
   "cell_type": "code",
   "execution_count": null,
   "metadata": {
    "collapsed": false
   },
   "outputs": [],
   "source": [
    "ops.output_format = 'numpy'\n",
    "ret = ops.execute()\n",
    "print(ret)\n",
    "print(ret[25][rd.name].variables.keys())"
   ]
  },
  {
   "cell_type": "markdown",
   "metadata": {},
   "source": [
    "Variable values are always stored as five dimensions: realization, time, level, row, column"
   ]
  },
  {
   "cell_type": "code",
   "execution_count": null,
   "metadata": {
    "collapsed": false
   },
   "outputs": [],
   "source": [
    "print(ret[25][rd.name].variables['mean'])\n",
    "print(ret[25][rd.name].variables['mean'].value.shape)"
   ]
  },
  {
   "cell_type": "markdown",
   "metadata": {},
   "source": [
    "Print some time values from the temporal dimension."
   ]
  },
  {
   "cell_type": "code",
   "execution_count": null,
   "metadata": {
    "collapsed": false
   },
   "outputs": [],
   "source": [
    "print(ret[25][rd.name].temporal.value_datetime)\n",
    "print(ret[25][rd.name].temporal.bounds_datetime)"
   ]
  },
  {
   "cell_type": "markdown",
   "metadata": {},
   "source": [
    "Print example variable values."
   ]
  },
  {
   "cell_type": "code",
   "execution_count": null,
   "metadata": {
    "collapsed": false
   },
   "outputs": [],
   "source": [
    "print(ret[25][rd.name].variables['mean'].value.squeeze())"
   ]
  },
  {
   "cell_type": "markdown",
   "metadata": {},
   "source": [
    "Geometries are stored as Shapely objects with associated attributes."
   ]
  },
  {
   "cell_type": "code",
   "execution_count": null,
   "metadata": {
    "collapsed": false
   },
   "outputs": [],
   "source": [
    "print(type(ret.geoms[25]))\n",
    "print(ret.geoms[25]).bounds\n",
    "print(ret.properties[25].dtype.names)\n",
    "print(ret.properties[25])"
   ]
  },
  {
   "cell_type": "markdown",
   "metadata": {},
   "source": [
    "Read a data file with a coordinate system, and inspect its properties. Also take a closer look at some field properties."
   ]
  },
  {
   "cell_type": "code",
   "execution_count": null,
   "metadata": {
    "collapsed": false
   },
   "outputs": [],
   "source": [
    "uri = 'tas_RCM3_ncep_1981010103.nc'\n",
    "# Variables can be auto-discovered when reasonable CF metadata is present.\n",
    "rd = ocgis.RequestDataset(uri=uri)\n",
    "field = rd.get()\n",
    "assert(field.variables['tas']._value is None)\n",
    "# Values are not loaded after slicing/subsetting.\n",
    "sub = field[:, 0:10, :, 5, 8]\n",
    "assert(sub.variables['tas']._value is None)\n",
    "# The \"source index\" is sliced and used for on-demand loading.\n",
    "print(sub.temporal._src_idx)"
   ]
  },
  {
   "cell_type": "markdown",
   "metadata": {},
   "source": [
    "Take a closer look at the coordinate system object."
   ]
  },
  {
   "cell_type": "code",
   "execution_count": null,
   "metadata": {
    "collapsed": false
   },
   "outputs": [],
   "source": [
    "# The coordinate system objects are refined versions of PROJ.4 dictionaries and OSR spatial reference objects.\n",
    "print(type(field.spatial.crs))\n",
    "print(field.spatial.crs.value)\n",
    "print(field.spatial.crs.sr.ExportToProj4())"
   ]
  },
  {
   "cell_type": "markdown",
   "metadata": {},
   "source": [
    "For three variables, calculate monthly averages for the year 2014 for each U.S. state boundary."
   ]
  },
  {
   "cell_type": "code",
   "execution_count": null,
   "metadata": {
    "collapsed": false
   },
   "outputs": [],
   "source": [
    "rd1 = ocgis.RequestDataset(uri='tasmax_day_CanCM4_decadal2010_r2i1p1_20110101-20201231.nc')\n",
    "rd2 = ocgis.RequestDataset(uri='tasmin_day_CanCM4_decadal2010_r2i1p1_20110101-20201231.nc')\n",
    "rd3 = ocgis.RequestDataset(uri='tas_day_CanCM4_decadal2010_r2i1p1_20110101-20201231.nc')\n",
    "calc = [{'func': 'mean', 'name': 'mean'}]\n",
    "calc_grouping = ['month']\n",
    "ops = ocgis.OcgOperations(dataset=[rd1, rd2, rd3], geom='state_boundaries', aggregate=True,\n",
    "                          output_format='shp', spatial_operation='clip', prefix='temps',\n",
    "                          calc=calc, calc_grouping=calc_grouping, time_region={'year': [2014]},\n",
    "                          headers=['value', 'calc_alias', 'year', 'month', 'alias'], conform_units_to='fahrenheit')\n",
    "ret = ops.execute()\n",
    "print(ret)"
   ]
  },
  {
   "cell_type": "markdown",
   "metadata": {},
   "source": [
    "Use ESMF regridding with a subset and spatial aggregation, writing the data to shapefile."
   ]
  },
  {
   "cell_type": "code",
   "execution_count": null,
   "metadata": {
    "collapsed": false
   },
   "outputs": [],
   "source": [
    "rd_src = ocgis.RequestDataset(uri='tas_day_CanCM4_decadal2010_r2i1p1_20110101-20201231.nc',\n",
    "                              variable='tas')\n",
    "rd_dest = ocgis.RequestDataset(uri='nldas_met_update.obs.daily.pr.1991.nc')\n",
    "print rd_src.get().spatial.grid.resolution\n",
    "print rd_dest.get().spatial.grid.resolution\n",
    "\n",
    "regrid_options = {'with_corners': False}\n",
    "ops = ocgis.OcgOperations(dataset=rd_src, regrid_destination=rd_dest, geom_select_uid=[6, 16], \n",
    "                          agg_selection=True, geom='state_boundaries', snippet=True,\n",
    "                          output_format='shp', prefix='regrid', regrid_options=regrid_options)\n",
    "print ops.execute()"
   ]
  },
  {
   "cell_type": "markdown",
   "metadata": {},
   "source": [
    "Shapefiles may also be used as fields along with ESMPy fields (almost)!"
   ]
  },
  {
   "cell_type": "code",
   "execution_count": null,
   "metadata": {
    "collapsed": false
   },
   "outputs": [],
   "source": [
    "rd = ocgis.RequestDataset(uri='/home/benkoziol/l/project/ocg/bin/shp/state_boundaries/state_boundaries.shp')\n",
    "sfield = rd.get()\n",
    "print(sfield.variables.keys())\n",
    "print(sfield.variables['STATE_NAME'].value.squeeze())"
   ]
  },
  {
   "cell_type": "code",
   "execution_count": null,
   "metadata": {
    "collapsed": true
   },
   "outputs": [],
   "source": []
  }
 ],
 "metadata": {
  "kernelspec": {
   "display_name": "Python 2",
   "language": "python",
   "name": "python2"
  },
  "language_info": {
   "codemirror_mode": {
    "name": "ipython",
    "version": 2
   },
   "file_extension": ".py",
   "mimetype": "text/x-python",
   "name": "python",
   "nbconvert_exporter": "python",
   "pygments_lexer": "ipython2",
   "version": "2.7.10"
  }
 },
 "nbformat": 4,
 "nbformat_minor": 0
}
