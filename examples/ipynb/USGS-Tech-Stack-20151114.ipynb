{
 "cells": [
  {
   "cell_type": "code",
   "execution_count": 1,
   "metadata": {
    "collapsed": false
   },
   "outputs": [],
   "source": [
    "import sys\n",
    "sys.path.append('/home/benkoziol/l/ocgis/src')\n",
    "import ocgis\n",
    "assert(ocgis.__release__ == '1.2.0.dev1')"
   ]
  },
  {
   "cell_type": "markdown",
   "metadata": {},
   "source": [
    "Configure some environment variables to point to the head directory containing climate data files used in the demo as well as the output directory."
   ]
  },
  {
   "cell_type": "code",
   "execution_count": 2,
   "metadata": {
    "collapsed": false
   },
   "outputs": [
    {
     "name": "stdout",
     "output_type": "stream",
     "text": [
      "/tmp/tmpt6S2as\n"
     ]
    }
   ],
   "source": [
    "import tempfile\n",
    "ocgis.env.DIR_DATA = '/home/benkoziol/data'\n",
    "ocgis.env.DIR_OUTPUT = tempfile.mkdtemp()\n",
    "print ocgis.env.DIR_OUTPUT"
   ]
  },
  {
   "cell_type": "markdown",
   "metadata": {},
   "source": [
    "Inspect a target file's metadata."
   ]
  },
  {
   "cell_type": "code",
   "execution_count": 3,
   "metadata": {
    "collapsed": false
   },
   "outputs": [
    {
     "name": "stdout",
     "output_type": "stream",
     "text": [
      "URI = /home/benkoziol/data/climate_data/CanCM4/tas_day_CanCM4_decadal2011_r2i1p1_20120101-20211231.nc\n",
      "VARIABLE = tas\n",
      "\n",
      "=== Temporal =============\n",
      "\n",
      "Name = time\n",
      "Count = 3650\n",
      "Has Bounds = True\n",
      "Data Type = float64\n",
      "Start Date = 2012-01-01 00:00:00\n",
      "End Date = 2022-01-01 00:00:00\n",
      "Calendar = 365_day\n",
      "Units = days since 1850-1-1\n",
      "Resolution (Days) = 1\n",
      "\n",
      "=== Spatial ==============\n",
      "\n",
      "Spatial Reference = CFWGS84\n",
      "Proj4 String = +proj=longlat +ellps=WGS84 +towgs84=0,0,0,0,0,0,0 +no_defs \n",
      "Extent = (-1.40625, -90.0, 358.59375, 90.0)\n",
      "Geometry Interface = SpatialGeometryPolygonDimension\n",
      "Resolution = 2.8125\n",
      "Count = 8192\n",
      "\n",
      "=== Level ================\n",
      "\n",
      "No level dimension.\n",
      "\n",
      "=== Metadata Dump ========\n",
      "\n",
      "dimensions:\n",
      "    time = ISUNLIMITED ; // 3650 currently\n",
      "    lat = 64 ;\n",
      "    lon = 128 ;\n",
      "    bnds = 2 ;\n",
      "\n",
      "variables:\n",
      "    float64 time(time) ;\n",
      "      time:bounds = \"time_bnds\" ;\n",
      "      time:units = \"days since 1850-1-1\" ;\n",
      "      time:calendar = \"365_day\" ;\n",
      "      time:axis = \"T\" ;\n",
      "      time:long_name = \"time\" ;\n",
      "      time:standard_name = \"time\" ;\n",
      "    float64 time_bnds(time, bnds) ;\n",
      "    float64 lat(lat) ;\n",
      "      lat:bounds = \"lat_bnds\" ;\n",
      "      lat:units = \"degrees_north\" ;\n",
      "      lat:axis = \"Y\" ;\n",
      "      lat:long_name = \"latitude\" ;\n",
      "      lat:standard_name = \"latitude\" ;\n",
      "    float64 lat_bnds(lat, bnds) ;\n",
      "    float64 lon(lon) ;\n",
      "      lon:bounds = \"lon_bnds\" ;\n",
      "      lon:units = \"degrees_east\" ;\n",
      "      lon:axis = \"X\" ;\n",
      "      lon:long_name = \"longitude\" ;\n",
      "      lon:standard_name = \"longitude\" ;\n",
      "    float64 lon_bnds(lon, bnds) ;\n",
      "    float64 height() ;\n",
      "      height:units = \"m\" ;\n",
      "      height:axis = \"Z\" ;\n",
      "      height:positive = \"up\" ;\n",
      "      height:long_name = \"height\" ;\n",
      "      height:standard_name = \"height\" ;\n",
      "    float32 tas(time, lat, lon) ;\n",
      "      tas:standard_name = \"air_temperature\" ;\n",
      "      tas:long_name = \"Near-Surface Air Temperature\" ;\n",
      "      tas:units = \"K\" ;\n",
      "      tas:original_name = \"ST\" ;\n",
      "      tas:cell_methods = \"time: mean (interval: 15 minutes)\" ;\n",
      "      tas:cell_measures = \"area: areacella\" ;\n",
      "      tas:history = \"2012-03-29T19:30:46Z altered by CMOR: Treated scalar dimension: 'height'. 2012-03-29T19:30:46Z altered by CMOR: replaced missing value flag (1e+38) with standard missing value (1e+20).\" ;\n",
      "      tas:coordinates = \"height\" ;\n",
      "      tas:missing_value = \"1.00000002004e+20\" ;\n",
      "      tas:associated_files = \"baseURL: http://cmip-pcmdi.llnl.gov/CMIP5/dataLocation gridspecFile: gridspec_atmos_fx_CanCM4_decadal2011_r0i0p0.nc areacella: areacella_fx_CanCM4_decadal2011_r0i0p0.nc\" ;\n",
      "\n",
      "// global attributes:\n",
      "    :institution = CCCma (Canadian Centre for Climate Modelling and Analysis, Victoria, BC, Canada) ;\n",
      "    :institute_id = CCCma ;\n",
      "    :experiment_id = decadal2011 ;\n",
      "    :source = CanCM4 2010 atmosphere: CanAM4 (AGCM15i, T63L35) ocean: CanOM4 (OGCM4.0, 256x192L40) sea ice: CanSIM1 (Cavitating Fluid, T63 Gaussian Grid) land: CLASS2.7 ;\n",
      "    :model_id = CanCM4 ;\n",
      "    :forcing = GHG,Oz,SA,BC,OC,LU,Sl,Vl (GHG includes CO2,CH4,N2O,CFC11,effective CFC12) ;\n",
      "    :parent_experiment_id = N/A ;\n",
      "    :parent_experiment_rip = N/A ;\n",
      "    :branch_time = 0.0 ;\n",
      "    :contact = cccma_info@ec.gc.ca ;\n",
      "    :references = http://www.cccma.ec.gc.ca/models ;\n",
      "    :initialization_method = 1 ;\n",
      "    :physics_version = 1 ;\n",
      "    :tracking_id = 4c57c1e8-1254-464c-b6a9-baf2133985f9 ;\n",
      "    :branch_time_YMDH = 2012:01:01:00 ;\n",
      "    :CCCma_runid = DHFP1B_E002_I2012_M01 ;\n",
      "    :CCCma_parent_runid = DHFP1_E002 ;\n",
      "    :CCCma_data_licence = 1) GRANT OF LICENCE - The Government of Canada (Environment Canada) is the \n",
      "owner of all intellectual property rights (including copyright) that may exist in this Data \n",
      "product. You (as \"The Licensee\") are hereby granted a non-exclusive, non-assignable, \n",
      "non-transferable unrestricted licence to use this data product for any purpose including \n",
      "the right to share these data with others and to make value-added and derivative \n",
      "products from it. This licence is not a sale of any or all of the owner's rights.\n",
      "2) NO WARRANTY - This Data product is provided \"as-is\"; it has not been designed or \n",
      "prepared to meet the Licensee's particular requirements. Environment Canada makes no \n",
      "warranty, either express or implied, including but not limited to, warranties of \n",
      "merchantability and fitness for a particular purpose. In no event will Environment Canada \n",
      "be liable for any indirect, special, consequential or other damages attributed to the \n",
      "Licensee's use of the Data product. ;\n",
      "    :product = output ;\n",
      "    :experiment = 10- or 30-year run initialized in year 2011 ;\n",
      "    :frequency = day ;\n",
      "    :creation_date = 2012-03-29T19:30:46Z ;\n",
      "    :history = 2012-03-29T19:30:46Z CMOR rewrote data to comply with CF standards and CMIP5 requirements. ;\n",
      "    :Conventions = CF-1.4 ;\n",
      "    :project_id = CMIP5 ;\n",
      "    :table_id = Table day (28 March 2011) f9d6cfec5981bb8be1801b35a81002f0 ;\n",
      "    :title = CanCM4 model output prepared for CMIP5 10- or 30-year run initialized in year 2011 ;\n",
      "    :parent_experiment = N/A ;\n",
      "    :modeling_realm = atmos ;\n",
      "    :realization = 2 ;\n",
      "    :cmor_version = 2.8.0 ;\n"
     ]
    }
   ],
   "source": [
    "uri = 'tas_day_CanCM4_decadal2011_r2i1p1_20120101-20211231.nc'\n",
    "variable = 'tas'\n",
    "rd = ocgis.RequestDataset(uri=uri,variable=variable)\n",
    "rd.inspect()"
   ]
  },
  {
   "cell_type": "markdown",
   "metadata": {},
   "source": [
    "Subset a target file by the boundary of California using an intersects GIS operation (the default), and write the data to an ESRI Shapefile. Select the first time coordinate only."
   ]
  },
  {
   "cell_type": "code",
   "execution_count": 4,
   "metadata": {
    "collapsed": false
   },
   "outputs": [
    {
     "data": {
      "text/plain": [
       "'/tmp/tmpt6S2as/ca/ca.shp'"
      ]
     },
     "execution_count": 4,
     "metadata": {},
     "output_type": "execute_result"
    }
   ],
   "source": [
    "geom = '/home/benkoziol/l/project/ocg/bin/shp/state_boundaries/state_boundaries.shp'\n",
    "ops = ocgis.OcgOperations(dataset=rd, geom=geom, geom_select_uid=[25], snippet=True,\n",
    "                          output_format='shp', prefix='ca')\n",
    "ops.execute()"
   ]
  },
  {
   "cell_type": "markdown",
   "metadata": {},
   "source": [
    " Also write the model grid to shapefile."
   ]
  },
  {
   "cell_type": "code",
   "execution_count": 5,
   "metadata": {
    "collapsed": false
   },
   "outputs": [
    {
     "data": {
      "text/plain": [
       "'/tmp/tmpt6S2as/grid/grid.shp'"
      ]
     },
     "execution_count": 5,
     "metadata": {},
     "output_type": "execute_result"
    }
   ],
   "source": [
    "ocgis.OcgOperations(dataset=rd, output_format='shp', snippet=True, prefix='grid').execute()"
   ]
  },
  {
   "cell_type": "markdown",
   "metadata": {},
   "source": [
    "Spatially average the grid cells clipped to the boundary of California for all the June, July, and August months in the target dataset. Write the output data to CSV."
   ]
  },
  {
   "cell_type": "code",
   "execution_count": 6,
   "metadata": {
    "collapsed": false
   },
   "outputs": [
    {
     "name": "stdout",
     "output_type": "stream",
     "text": [
      "/tmp/tmpt6S2as/ca_spatial_average/ca_spatial_average.csv\n"
     ]
    },
    {
     "data": {
      "text/plain": [
       "True"
      ]
     },
     "execution_count": 6,
     "metadata": {},
     "output_type": "execute_result"
    }
   ],
   "source": [
    "import webbrowser\n",
    "rd = ocgis.RequestDataset(uri=uri, variable=variable, time_region={'month': [6, 7, 8]})\n",
    "ops = ocgis.OcgOperations(dataset=rd, geom=geom, geom_select_uid=[25], spatial_operation='clip',\n",
    "                          output_format='csv', prefix='ca_spatial_average', aggregate=True)\n",
    "ret = ops.execute()\n",
    "print(ret)\n",
    "webbrowser.open(ret)"
   ]
  },
  {
   "cell_type": "markdown",
   "metadata": {},
   "source": [
    "Perform a difference calulation between two variables using a string function. Inspect the metadata of the output NetCDF file."
   ]
  },
  {
   "cell_type": "code",
   "execution_count": null,
   "metadata": {
    "collapsed": false
   },
   "outputs": [],
   "source": [
    "rd1 = ocgis.RequestDataset(uri='tasmax_day_CanCM4_decadal2010_r2i1p1_20110101-20201231.nc',\n",
    "                           variable='tasmax')\n",
    "rd2 = ocgis.RequestDataset(uri='tasmin_day_CanCM4_decadal2010_r2i1p1_20110101-20201231.nc',\n",
    "                           variable='tasmin')\n",
    "calc = 'diff=tasmax-tasmin'\n",
    "ops = ocgis.OcgOperations(dataset=[rd1, rd2], calc=calc, output_format='nc', geom='state_boundaries',\n",
    "                          select_ugid=[25], prefix='diff')\n",
    "ret = ops.execute()\n",
    "print(ocgis.Inspect(ret))"
   ]
  },
  {
   "cell_type": "markdown",
   "metadata": {},
   "source": [
    "Calculate a sequence of statistics to produce a July time series conforming the target units from Kelvin to Celsius. Perform the calculations on the spatially averaged data for California."
   ]
  },
  {
   "cell_type": "code",
   "execution_count": 7,
   "metadata": {
    "collapsed": false
   },
   "outputs": [
    {
     "name": "stdout",
     "output_type": "stream",
     "text": [
      "/tmp/tmpt6S2as/ca_calcs/ca_calcs.csv\n"
     ]
    },
    {
     "data": {
      "text/plain": [
       "True"
      ]
     },
     "execution_count": 7,
     "metadata": {},
     "output_type": "execute_result"
    }
   ],
   "source": [
    "import webbrowser\n",
    "rd = ocgis.RequestDataset(uri=uri, variable=variable, time_region={'month': [7]}, conform_units_to='celsius', \n",
    "                          name='calcs')\n",
    "calc = [{'func': 'mean', 'name': 'mean'},\n",
    "        {'func': 'std', 'name': 'stdev'},\n",
    "        {'func': 'min', 'name': 'min'},\n",
    "        {'func': 'max', 'name': 'max'},\n",
    "        {'func': 'median', 'name': 'median'},\n",
    "        {'func': 'freq_perc', 'name': 'fp_95', 'kwds': {'percentile': 95.0}},\n",
    "        {'func': 'freq_perc', 'name': 'fp_5', 'kwds':{'percentile': 5.0}},]\n",
    "calc_grouping = ['month','year']\n",
    "ops = ocgis.OcgOperations(dataset=rd, geom='state_boundaries', geom_select_uid=[25, 26], spatial_operation='clip',\n",
    "                          output_format= 'csv', prefix='ca_calcs', aggregate=True, calc=calc,\n",
    "                          calc_grouping=calc_grouping)\n",
    "ret = ops.execute()\n",
    "print(ret)\n",
    "webbrowser.open(ret)"
   ]
  },
  {
   "cell_type": "markdown",
   "metadata": {},
   "source": [
    "Perform the same operation returning the data as a \"collection\". Print the derived variable aliases."
   ]
  },
  {
   "cell_type": "code",
   "execution_count": 8,
   "metadata": {
    "collapsed": false
   },
   "outputs": [
    {
     "name": "stdout",
     "output_type": "stream",
     "text": [
      "SpatialCollection([(25, OrderedDict([('calcs', <ocgis.interface.base.field.DerivedField object at 0x7f8099407510>)])), (26, OrderedDict([('calcs', <ocgis.interface.base.field.DerivedField object at 0x7f80992e19d0>)]))])\n",
      "['mean', 'stdev', 'min', 'max', 'median', 'fp_95', 'fp_5']\n"
     ]
    }
   ],
   "source": [
    "ops.output_format = 'numpy'\n",
    "ret = ops.execute()\n",
    "print(ret)\n",
    "print(ret[25][rd.name].variables.keys())"
   ]
  },
  {
   "cell_type": "markdown",
   "metadata": {},
   "source": [
    "Variable values are always stored as five dimensions: realization, time, level, row, column"
   ]
  },
  {
   "cell_type": "code",
   "execution_count": 10,
   "metadata": {
    "collapsed": false
   },
   "outputs": [
    {
     "name": "stdout",
     "output_type": "stream",
     "text": [
      "DerivedVariable(name=\"mean\", alias=\"mean\", units=\"celsius\")\n",
      "(1, 10, 1, 1, 1)\n"
     ]
    }
   ],
   "source": [
    "print(ret[25][rd.name].variables['mean'])\n",
    "print(ret[25][rd.name].variables['mean'].value.shape)"
   ]
  },
  {
   "cell_type": "markdown",
   "metadata": {},
   "source": [
    "Print some time values from the temporal dimension."
   ]
  },
  {
   "cell_type": "code",
   "execution_count": 11,
   "metadata": {
    "collapsed": false
   },
   "outputs": [
    {
     "name": "stdout",
     "output_type": "stream",
     "text": [
      "[datetime.datetime(2012, 7, 16, 0, 0) datetime.datetime(2013, 7, 16, 0, 0)\n",
      " datetime.datetime(2014, 7, 16, 0, 0) datetime.datetime(2015, 7, 16, 0, 0)\n",
      " datetime.datetime(2016, 7, 16, 0, 0) datetime.datetime(2017, 7, 16, 0, 0)\n",
      " datetime.datetime(2018, 7, 16, 0, 0) datetime.datetime(2019, 7, 16, 0, 0)\n",
      " datetime.datetime(2020, 7, 16, 0, 0) datetime.datetime(2021, 7, 16, 0, 0)]\n",
      "[[datetime.datetime(2012, 7, 1, 0, 0) datetime.datetime(2012, 8, 1, 0, 0)]\n",
      " [datetime.datetime(2013, 7, 1, 0, 0) datetime.datetime(2013, 8, 1, 0, 0)]\n",
      " [datetime.datetime(2014, 7, 1, 0, 0) datetime.datetime(2014, 8, 1, 0, 0)]\n",
      " [datetime.datetime(2015, 7, 1, 0, 0) datetime.datetime(2015, 8, 1, 0, 0)]\n",
      " [datetime.datetime(2016, 7, 1, 0, 0) datetime.datetime(2016, 8, 1, 0, 0)]\n",
      " [datetime.datetime(2017, 7, 1, 0, 0) datetime.datetime(2017, 8, 1, 0, 0)]\n",
      " [datetime.datetime(2018, 7, 1, 0, 0) datetime.datetime(2018, 8, 1, 0, 0)]\n",
      " [datetime.datetime(2019, 7, 1, 0, 0) datetime.datetime(2019, 8, 1, 0, 0)]\n",
      " [datetime.datetime(2020, 7, 1, 0, 0) datetime.datetime(2020, 8, 1, 0, 0)]\n",
      " [datetime.datetime(2021, 7, 1, 0, 0) datetime.datetime(2021, 8, 1, 0, 0)]]\n"
     ]
    }
   ],
   "source": [
    "print(ret[25][rd.name].temporal.value_datetime)\n",
    "print(ret[25][rd.name].temporal.bounds_datetime)"
   ]
  },
  {
   "cell_type": "markdown",
   "metadata": {},
   "source": [
    "Print example variable values."
   ]
  },
  {
   "cell_type": "code",
   "execution_count": 12,
   "metadata": {
    "collapsed": false
   },
   "outputs": [
    {
     "name": "stdout",
     "output_type": "stream",
     "text": [
      "[27.395915985107422 26.349559783935547 24.475839614868164 25.92029571533203\n",
      " 26.61911964416504 23.823287963867188 25.99759864807129 25.82523536682129\n",
      " 26.73784637451172 24.689342498779297]\n"
     ]
    }
   ],
   "source": [
    "print(ret[25][rd.name].variables['mean'].value.squeeze())"
   ]
  },
  {
   "cell_type": "markdown",
   "metadata": {},
   "source": [
    "Geometries are stored as Shapely objects with associated attributes."
   ]
  },
  {
   "cell_type": "code",
   "execution_count": 13,
   "metadata": {
    "collapsed": false
   },
   "outputs": [
    {
     "name": "stdout",
     "output_type": "stream",
     "text": [
      "<class 'shapely.geometry.multipolygon.MultiPolygon'>\n",
      "(-124.39263831223747, 32.53578135776605, -114.12523030267519, 42.00219136658233)\n",
      "('UGID', 'STATE_FIPS', 'ID', 'STATE_NAME', 'STATE_ABBR')\n",
      "[(25, '06', 25.0, 'California', 'CA')]\n"
     ]
    }
   ],
   "source": [
    "print(type(ret.geoms[25]))\n",
    "print(ret.geoms[25]).bounds\n",
    "print(ret.properties[25].dtype.names)\n",
    "print(ret.properties[25])"
   ]
  },
  {
   "cell_type": "markdown",
   "metadata": {},
   "source": [
    "Read a data file with a coordinate system, and inspect its properties. Also take a closer look at some field properties."
   ]
  },
  {
   "cell_type": "code",
   "execution_count": 14,
   "metadata": {
    "collapsed": false
   },
   "outputs": [
    {
     "name": "stdout",
     "output_type": "stream",
     "text": [
      "[0 1 2 3 4 5 6 7 8 9]\n"
     ]
    }
   ],
   "source": [
    "uri = 'tas_RCM3_ncep_1981010103.nc'\n",
    "# Variables can be auto-discovered when reasonable CF metadata is present.\n",
    "rd = ocgis.RequestDataset(uri=uri)\n",
    "field = rd.get()\n",
    "assert(field.variables['tas']._value is None)\n",
    "# Values are not loaded after slicing/subsetting.\n",
    "sub = field[:, 0:10, :, 5, 8]\n",
    "assert(sub.variables['tas']._value is None)\n",
    "# The \"source index\" is sliced and used for on-demand loading.\n",
    "print(sub.temporal._src_idx)"
   ]
  },
  {
   "cell_type": "markdown",
   "metadata": {},
   "source": [
    "Take a closer look at the coordinate system object."
   ]
  },
  {
   "cell_type": "code",
   "execution_count": null,
   "metadata": {
    "collapsed": false
   },
   "outputs": [],
   "source": [
    "# The coordinate system objects are refined versions of PROJ.4 dictionaries and OSR spatial reference objects.\n",
    "print(type(field.spatial.crs))\n",
    "print(field.spatial.crs.value)\n",
    "print(field.spatial.crs.sr.ExportToProj4())"
   ]
  },
  {
   "cell_type": "markdown",
   "metadata": {},
   "source": [
    "For three variables, calculate monthly averages for the year 2014 for each U.S. state boundary."
   ]
  },
  {
   "cell_type": "code",
   "execution_count": null,
   "metadata": {
    "collapsed": false
   },
   "outputs": [],
   "source": [
    "rd1 = ocgis.RequestDataset(uri='tasmax_day_CanCM4_decadal2010_r2i1p1_20110101-20201231.nc')\n",
    "rd2 = ocgis.RequestDataset(uri='tasmin_day_CanCM4_decadal2010_r2i1p1_20110101-20201231.nc')\n",
    "rd3 = ocgis.RequestDataset(uri='tas_day_CanCM4_decadal2010_r2i1p1_20110101-20201231.nc')\n",
    "calc = [{'func': 'mean', 'name': 'mean'}]\n",
    "calc_grouping = ['month']\n",
    "ops = ocgis.OcgOperations(dataset=[rd1, rd2, rd3], geom='state_boundaries', aggregate=True,\n",
    "                          output_format='shp', spatial_operation='clip', prefix='temps',\n",
    "                          calc=calc, calc_grouping=calc_grouping, time_region={'year': [2014]},\n",
    "                          headers=['value', 'calc_alias', 'year', 'month', 'alias'], conform_units_to='fahrenheit')\n",
    "ret = ops.execute()\n",
    "print(ret)"
   ]
  },
  {
   "cell_type": "markdown",
   "metadata": {},
   "source": [
    "Use ESMF regridding with a subset and spatial aggregation, writing the data to shapefile."
   ]
  },
  {
   "cell_type": "code",
   "execution_count": null,
   "metadata": {
    "collapsed": false
   },
   "outputs": [],
   "source": [
    "rd_src = ocgis.RequestDataset(uri='tas_day_CanCM4_decadal2010_r2i1p1_20110101-20201231.nc',\n",
    "                              variable='tas')\n",
    "rd_dest = ocgis.RequestDataset(uri='nldas_met_update.obs.daily.pr.1991.nc')\n",
    "print rd_src.get().spatial.grid.resolution\n",
    "print rd_dest.get().spatial.grid.resolution\n",
    "\n",
    "regrid_options = {'with_corners': False}\n",
    "ops = ocgis.OcgOperations(dataset=rd_src, regrid_destination=rd_dest, geom_select_uid=[6, 16], \n",
    "                          agg_selection=True, geom='state_boundaries', snippet=True,\n",
    "                          output_format='shp', prefix='regrid', regrid_options=regrid_options)\n",
    "print ops.execute()"
   ]
  },
  {
   "cell_type": "markdown",
   "metadata": {},
   "source": [
    "Shapefiles may also be used as fields along with ESMPy fields (almost)!"
   ]
  },
  {
   "cell_type": "code",
   "execution_count": null,
   "metadata": {
    "collapsed": false
   },
   "outputs": [],
   "source": [
    "rd = ocgis.RequestDataset(uri='/home/benkoziol/l/project/ocg/bin/shp/state_boundaries/state_boundaries.shp')\n",
    "sfield = rd.get()\n",
    "print(sfield.variables.keys())\n",
    "print(sfield.variables['STATE_NAME'].value.squeeze())"
   ]
  },
  {
   "cell_type": "code",
   "execution_count": null,
   "metadata": {
    "collapsed": true
   },
   "outputs": [],
   "source": []
  }
 ],
 "metadata": {
  "kernelspec": {
   "display_name": "Python 2",
   "language": "python",
   "name": "python2"
  },
  "language_info": {
   "codemirror_mode": {
    "name": "ipython",
    "version": 2
   },
   "file_extension": ".py",
   "mimetype": "text/x-python",
   "name": "python",
   "nbconvert_exporter": "python",
   "pygments_lexer": "ipython2",
   "version": "2.7.10"
  }
 },
 "nbformat": 4,
 "nbformat_minor": 0
}
